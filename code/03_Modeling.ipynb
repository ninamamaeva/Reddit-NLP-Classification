{
 "cells": [
  {
   "cell_type": "code",
   "execution_count": 232,
   "id": "cdfc2f75-0b77-4aea-b6fb-cf22d6c67fc7",
   "metadata": {},
   "outputs": [],
   "source": [
    "import pandas as pd\n",
    "import numpy as np\n",
    "import matplotlib.pyplot as plt\n",
    "import seaborn as sns\n",
    "\n",
    "from sklearn.linear_model import LogisticRegression\n",
    "from sklearn.tree import DecisionTreeClassifier\n",
    "from sklearn.model_selection import train_test_split, cross_val_score, GridSearchCV\n",
    "from sklearn.pipeline import Pipeline\n",
    "from sklearn.metrics import confusion_matrix, ConfusionMatrixDisplay, f1_score\n",
    "from sklearn.feature_extraction.text import CountVectorizer, TfidfVectorizer\n",
    "from sklearn.ensemble import RandomForestClassifier, ExtraTreesClassifier, GradientBoostingClassifier, AdaBoostClassifier, BaggingClassifier, VotingClassifier, StackingClassifier\n",
    "from sklearn.neighbors import KNeighborsClassifier\n",
    "from sklearn.preprocessing import StandardScaler\n",
    "from sklearn.naive_bayes import MultinomialNB"
   ]
  },
  {
   "cell_type": "code",
   "execution_count": 2,
   "id": "d65ac5fc-8dc5-4332-b58a-69edfe434ca0",
   "metadata": {},
   "outputs": [
    {
     "data": {
      "text/html": [
       "<div>\n",
       "<style scoped>\n",
       "    .dataframe tbody tr th:only-of-type {\n",
       "        vertical-align: middle;\n",
       "    }\n",
       "\n",
       "    .dataframe tbody tr th {\n",
       "        vertical-align: top;\n",
       "    }\n",
       "\n",
       "    .dataframe thead th {\n",
       "        text-align: right;\n",
       "    }\n",
       "</style>\n",
       "<table border=\"1\" class=\"dataframe\">\n",
       "  <thead>\n",
       "    <tr style=\"text-align: right;\">\n",
       "      <th></th>\n",
       "      <th>subreddit</th>\n",
       "      <th>title</th>\n",
       "      <th>selftext</th>\n",
       "      <th>created_utc</th>\n",
       "      <th>author</th>\n",
       "      <th>post_length</th>\n",
       "      <th>post_word_count</th>\n",
       "    </tr>\n",
       "  </thead>\n",
       "  <tbody>\n",
       "    <tr>\n",
       "      <th>0</th>\n",
       "      <td>1</td>\n",
       "      <td>3-year-old with constant nightmares</td>\n",
       "      <td>looking advice help never good sleeper less ha...</td>\n",
       "      <td>1664511751</td>\n",
       "      <td>lauraliegrace</td>\n",
       "      <td>1295</td>\n",
       "      <td>240</td>\n",
       "    </tr>\n",
       "    <tr>\n",
       "      <th>1</th>\n",
       "      <td>1</td>\n",
       "      <td>How did you organize sleep hours once your tod...</td>\n",
       "      <td>prek many hours sleep per night much nap start...</td>\n",
       "      <td>1664506846</td>\n",
       "      <td>mamaleti</td>\n",
       "      <td>875</td>\n",
       "      <td>170</td>\n",
       "    </tr>\n",
       "    <tr>\n",
       "      <th>2</th>\n",
       "      <td>1</td>\n",
       "      <td>2 yrs toddler’s repetitive movements. concerns ?</td>\n",
       "      <td>think overthinking sure boy perfectly normal f...</td>\n",
       "      <td>1664506140</td>\n",
       "      <td>ptkhisti</td>\n",
       "      <td>917</td>\n",
       "      <td>173</td>\n",
       "    </tr>\n",
       "    <tr>\n",
       "      <th>3</th>\n",
       "      <td>1</td>\n",
       "      <td>Sometimes I lose my cool, how badly will this ...</td>\n",
       "      <td>husband sometimes snap often twice week practi...</td>\n",
       "      <td>1664503385</td>\n",
       "      <td>ughidcwhatitis</td>\n",
       "      <td>1128</td>\n",
       "      <td>222</td>\n",
       "    </tr>\n",
       "    <tr>\n",
       "      <th>4</th>\n",
       "      <td>1</td>\n",
       "      <td>\"momma can I have a bowl of popcorn, warm milk...</td>\n",
       "      <td>yes yes yes yes sweet thankful wonderful ideas...</td>\n",
       "      <td>1664503064</td>\n",
       "      <td>eighteightfivesix</td>\n",
       "      <td>157</td>\n",
       "      <td>31</td>\n",
       "    </tr>\n",
       "  </tbody>\n",
       "</table>\n",
       "</div>"
      ],
      "text/plain": [
       "   subreddit                                              title  \\\n",
       "0          1                3-year-old with constant nightmares   \n",
       "1          1  How did you organize sleep hours once your tod...   \n",
       "2          1   2 yrs toddler’s repetitive movements. concerns ?   \n",
       "3          1  Sometimes I lose my cool, how badly will this ...   \n",
       "4          1  \"momma can I have a bowl of popcorn, warm milk...   \n",
       "\n",
       "                                            selftext  created_utc  \\\n",
       "0  looking advice help never good sleeper less ha...   1664511751   \n",
       "1  prek many hours sleep per night much nap start...   1664506846   \n",
       "2  think overthinking sure boy perfectly normal f...   1664506140   \n",
       "3  husband sometimes snap often twice week practi...   1664503385   \n",
       "4  yes yes yes yes sweet thankful wonderful ideas...   1664503064   \n",
       "\n",
       "              author  post_length  post_word_count  \n",
       "0      lauraliegrace         1295              240  \n",
       "1           mamaleti          875              170  \n",
       "2           ptkhisti          917              173  \n",
       "3     ughidcwhatitis         1128              222  \n",
       "4  eighteightfivesix          157               31  "
      ]
     },
     "execution_count": 2,
     "metadata": {},
     "output_type": "execute_result"
    }
   ],
   "source": [
    "# Read in the data: \n",
    "\n",
    "df = pd.read_csv('../data/toddlers_and_parents.csv',lineterminator='\\n')\n",
    "df.head()"
   ]
  },
  {
   "cell_type": "code",
   "execution_count": 3,
   "id": "552048e0-8dd6-4905-9622-f40541cd125a",
   "metadata": {},
   "outputs": [
    {
     "data": {
      "text/plain": [
       "(4734, 7)"
      ]
     },
     "execution_count": 3,
     "metadata": {},
     "output_type": "execute_result"
    }
   ],
   "source": [
    "df.shape"
   ]
  },
  {
   "cell_type": "code",
   "execution_count": 4,
   "id": "554d1cb4-abd4-4d1f-b53b-55fbb213c740",
   "metadata": {},
   "outputs": [
    {
     "data": {
      "text/plain": [
       "subreddit          0\n",
       "title              0\n",
       "selftext           0\n",
       "created_utc        0\n",
       "author             0\n",
       "post_length        0\n",
       "post_word_count    0\n",
       "dtype: int64"
      ]
     },
     "execution_count": 4,
     "metadata": {},
     "output_type": "execute_result"
    }
   ],
   "source": [
    "df.isnull().sum()"
   ]
  },
  {
   "cell_type": "code",
   "execution_count": 5,
   "id": "627ef28f-f68d-4937-9d1c-f3cf677303e7",
   "metadata": {},
   "outputs": [
    {
     "data": {
      "text/plain": [
       "1    0.520068\n",
       "0    0.479932\n",
       "Name: subreddit, dtype: float64"
      ]
     },
     "execution_count": 5,
     "metadata": {},
     "output_type": "execute_result"
    }
   ],
   "source": [
    "# Baseline accuracy:\n",
    "\n",
    "df['subreddit'].value_counts(normalize = True)"
   ]
  },
  {
   "cell_type": "code",
   "execution_count": 6,
   "id": "a611b1b3-e26b-4c3c-89aa-767c6d12d958",
   "metadata": {},
   "outputs": [],
   "source": [
    "# meaning that 52% of the time we'd be correct if we said that the post comes from toddlers subreddit\n",
    "# For this project the metric that will be looked at is the f1 score, since it is difficult to compare two models \n",
    "# with low precision and high recall or vice versa. So to make them comparable, we use f1 score.\n",
    "# (https://towardsdatascience.com/understanding-confusion-matrix-a9ad42dcfd62)"
   ]
  },
  {
   "cell_type": "code",
   "execution_count": 8,
   "id": "a2cf893b-fede-45c6-bd4b-e2573b7c7dce",
   "metadata": {},
   "outputs": [],
   "source": [
    "X = df['selftext']\n",
    "y = df['subreddit']\n",
    "\n",
    "X_train, X_test, y_train, y_test = train_test_split(X, y, random_state = 42, stratify=y)"
   ]
  },
  {
   "cell_type": "markdown",
   "id": "be69203c-56a9-4bd0-97e3-d9a1e4d43a73",
   "metadata": {},
   "source": [
    "---"
   ]
  },
  {
   "cell_type": "code",
   "execution_count": 165,
   "id": "21322462-9256-4261-8970-3e00c15dceb3",
   "metadata": {},
   "outputs": [],
   "source": [
    "# Create the function to fit, evaluate and plot confusion matrix:\n",
    "# Idea taken from (https://www.dataknowsall.com/classification.html)\n",
    "\n",
    "def fit_and_print(gs, pipe_name):\n",
    "    #gs = GridSearchCV(pipe, param_grid=pipe_params, n_jobs= -1, verbose=1, cv = 3)\n",
    "    gs.fit(X_train, y_train)\n",
    "    preds = gs.predict(X_test)\n",
    "    \n",
    "    # Calculate the scores: \n",
    "    y_pred = gs.predict_proba(X_test)[:,1]\n",
    "    best_score = gs.best_score_\n",
    "    train_score = gs.score(X_train, y_train)\n",
    "    test_score = gs.score(X_test, y_test)\n",
    "    f1 = f1_score(y_test, preds, average='weighted')\n",
    "    \n",
    "    # Save these numbers in a list and put them into a dataframe: \n",
    "    model_list = [pipe_name, best_score, train_score, test_score, f1] \n",
    "    models = pd.DataFrame(model_list, index = ['pipe_name', 'best_score', 'train_score', 'test_score', 'f1_score']).T\n",
    "    \n",
    "    # Display the confusion matrix:\n",
    "    cm = confusion_matrix(y_test, preds)\n",
    "    ConfusionMatrixDisplay(cm).plot(cmap = 'YlOrRd', values_format = 'd');\n",
    "    \n",
    "    return models"
   ]
  },
  {
   "cell_type": "code",
   "execution_count": 166,
   "id": "1da61d51-a08a-4849-8cca-1bb0924ec3fc",
   "metadata": {},
   "outputs": [],
   "source": [
    "# Logistic Regression:\n",
    "\n",
    "cvec_lr = Pipeline([\n",
    "    ('cvec', CountVectorizer()),\n",
    "    ('lr', LogisticRegression(max_iter = 5000))\n",
    "])\n",
    "\n",
    "pipe_params = {\n",
    "    'cvec__max_features': [2000,3000],\n",
    "    'cvec__min_df': [2,4],\n",
    "    'cvec__max_df': [1.0, 0.5],\n",
    "    'lr__solver': ['saga'],\n",
    "    'lr__penalty':['l1', 'l2', 'none']\n",
    "}\n",
    "\n",
    "gs_1 = GridSearchCV(cvec_lr,\n",
    "                 param_grid = pipe_params,\n",
    "                 n_jobs = -1)"
   ]
  },
  {
   "cell_type": "code",
   "execution_count": 167,
   "id": "970f2897-0155-4622-a64d-37bed4143c36",
   "metadata": {},
   "outputs": [
    {
     "data": {
      "text/html": [
       "<div>\n",
       "<style scoped>\n",
       "    .dataframe tbody tr th:only-of-type {\n",
       "        vertical-align: middle;\n",
       "    }\n",
       "\n",
       "    .dataframe tbody tr th {\n",
       "        vertical-align: top;\n",
       "    }\n",
       "\n",
       "    .dataframe thead th {\n",
       "        text-align: right;\n",
       "    }\n",
       "</style>\n",
       "<table border=\"1\" class=\"dataframe\">\n",
       "  <thead>\n",
       "    <tr style=\"text-align: right;\">\n",
       "      <th></th>\n",
       "      <th>pipe_name</th>\n",
       "      <th>best_score</th>\n",
       "      <th>train_score</th>\n",
       "      <th>test_score</th>\n",
       "      <th>f1_score</th>\n",
       "    </tr>\n",
       "  </thead>\n",
       "  <tbody>\n",
       "    <tr>\n",
       "      <th>0</th>\n",
       "      <td>cvec_lr</td>\n",
       "      <td>0.667324</td>\n",
       "      <td>0.947042</td>\n",
       "      <td>0.654561</td>\n",
       "      <td>0.653232</td>\n",
       "    </tr>\n",
       "  </tbody>\n",
       "</table>\n",
       "</div>"
      ],
      "text/plain": [
       "  pipe_name best_score train_score test_score  f1_score\n",
       "0   cvec_lr   0.667324    0.947042   0.654561  0.653232"
      ]
     },
     "execution_count": 167,
     "metadata": {},
     "output_type": "execute_result"
    },
    {
     "data": {
      "image/png": "[encoded data removed]",
      "text/plain": [
       "<Figure size 432x288 with 2 Axes>"
      ]
     },
     "metadata": {
      "needs_background": "light"
     },
     "output_type": "display_data"
    }
   ],
   "source": [
    "df1 = fit_and_print(gs_1, 'cvec_lr')\n",
    "df1"
   ]
  },
  {
   "cell_type": "code",
   "execution_count": 168,
   "id": "07f164ce-053a-4668-8ff2-8afac6ccc115",
   "metadata": {},
   "outputs": [],
   "source": [
    "tf_lr = Pipeline([\n",
    "    ('tf', TfidfVectorizer()),\n",
    "    ('lr', LogisticRegression(max_iter = 5000))\n",
    "])\n",
    "\n",
    "pipe_params_2 = {\n",
    "    'tf__max_features': [2000,3000],\n",
    "    'tf__min_df': [2,4],\n",
    "    'tf__max_df': [1.0, 0.5],\n",
    "    'lr__solver': ['saga'],\n",
    "    'lr__penalty':['l1', 'l2', 'none']\n",
    "}\n",
    "\n",
    "gs_2 = GridSearchCV(tf_lr,\n",
    "                      param_grid = pipe_params_2,\n",
    "                      n_jobs = -1)"
   ]
  },
  {
   "cell_type": "code",
   "execution_count": 169,
   "id": "c2c51eeb-2314-4321-9fd6-6bb8023139a7",
   "metadata": {},
   "outputs": [
    {
     "data": {
      "text/html": [
       "<div>\n",
       "<style scoped>\n",
       "    .dataframe tbody tr th:only-of-type {\n",
       "        vertical-align: middle;\n",
       "    }\n",
       "\n",
       "    .dataframe tbody tr th {\n",
       "        vertical-align: top;\n",
       "    }\n",
       "\n",
       "    .dataframe thead th {\n",
       "        text-align: right;\n",
       "    }\n",
       "</style>\n",
       "<table border=\"1\" class=\"dataframe\">\n",
       "  <thead>\n",
       "    <tr style=\"text-align: right;\">\n",
       "      <th></th>\n",
       "      <th>pipe_name</th>\n",
       "      <th>best_score</th>\n",
       "      <th>train_score</th>\n",
       "      <th>test_score</th>\n",
       "      <th>f1_score</th>\n",
       "    </tr>\n",
       "  </thead>\n",
       "  <tbody>\n",
       "    <tr>\n",
       "      <th>0</th>\n",
       "      <td>tf_lr</td>\n",
       "      <td>0.711268</td>\n",
       "      <td>0.850704</td>\n",
       "      <td>0.6875</td>\n",
       "      <td>0.685966</td>\n",
       "    </tr>\n",
       "  </tbody>\n",
       "</table>\n",
       "</div>"
      ],
      "text/plain": [
       "  pipe_name best_score train_score test_score  f1_score\n",
       "0     tf_lr   0.711268    0.850704     0.6875  0.685966"
      ]
     },
     "execution_count": 169,
     "metadata": {},
     "output_type": "execute_result"
    },
    {
     "data": {
      "image/png": "[encoded data removed]",
      "text/plain": [
       "<Figure size 432x288 with 2 Axes>"
      ]
     },
     "metadata": {
      "needs_background": "light"
     },
     "output_type": "display_data"
    }
   ],
   "source": [
    "df2 = fit_and_print(gs_2, 'tf_lr')\n",
    "df2"
   ]
  },
  {
   "cell_type": "code",
   "execution_count": 170,
   "id": "0474c857-032d-497d-8c18-e8a7e3dbf09f",
   "metadata": {},
   "outputs": [
    {
     "data": {
      "text/html": [
       "<div>\n",
       "<style scoped>\n",
       "    .dataframe tbody tr th:only-of-type {\n",
       "        vertical-align: middle;\n",
       "    }\n",
       "\n",
       "    .dataframe tbody tr th {\n",
       "        vertical-align: top;\n",
       "    }\n",
       "\n",
       "    .dataframe thead th {\n",
       "        text-align: right;\n",
       "    }\n",
       "</style>\n",
       "<table border=\"1\" class=\"dataframe\">\n",
       "  <thead>\n",
       "    <tr style=\"text-align: right;\">\n",
       "      <th></th>\n",
       "      <th>pipe_name</th>\n",
       "      <th>best_score</th>\n",
       "      <th>train_score</th>\n",
       "      <th>test_score</th>\n",
       "      <th>f1_score</th>\n",
       "    </tr>\n",
       "  </thead>\n",
       "  <tbody>\n",
       "    <tr>\n",
       "      <th>0</th>\n",
       "      <td>cvec_lr</td>\n",
       "      <td>0.667324</td>\n",
       "      <td>0.947042</td>\n",
       "      <td>0.654561</td>\n",
       "      <td>0.653232</td>\n",
       "    </tr>\n",
       "    <tr>\n",
       "      <th>0</th>\n",
       "      <td>tf_lr</td>\n",
       "      <td>0.711268</td>\n",
       "      <td>0.850704</td>\n",
       "      <td>0.6875</td>\n",
       "      <td>0.685966</td>\n",
       "    </tr>\n",
       "  </tbody>\n",
       "</table>\n",
       "</div>"
      ],
      "text/plain": [
       "  pipe_name best_score train_score test_score  f1_score\n",
       "0   cvec_lr   0.667324    0.947042   0.654561  0.653232\n",
       "0     tf_lr   0.711268    0.850704     0.6875  0.685966"
      ]
     },
     "execution_count": 170,
     "metadata": {},
     "output_type": "execute_result"
    }
   ],
   "source": [
    "pd.concat([df1, df2])"
   ]
  },
  {
   "cell_type": "code",
   "execution_count": 23,
   "id": "56fb03f6-9daf-4e01-8a43-cc2d68e1cbff",
   "metadata": {},
   "outputs": [],
   "source": [
    "# The confusion matrices represent that the model doesnt work very well. We have more than 200 false negative and 178(154) false negative results. A lot of misclassification. \n",
    "# The linear regression model is overfit as you can see from the test and train result. \n",
    "# On the other hand, f1 score is not that bad, so after tuning some hyperparameters, we're going to move on to the next model..."
   ]
  },
  {
   "cell_type": "markdown",
   "id": "dadd9bcd-65c9-4ae9-8334-5e41f194f279",
   "metadata": {},
   "source": [
    "---"
   ]
  },
  {
   "cell_type": "code",
   "execution_count": 171,
   "id": "af53043e-f52c-4840-ae9a-a2d2e35bf4b7",
   "metadata": {},
   "outputs": [],
   "source": [
    "# Random Forest:\n",
    "\n",
    "cvec_rf = Pipeline([\n",
    "    ('cvec', CountVectorizer()),\n",
    "    ('rf', RandomForestClassifier())\n",
    "    ])\n",
    "\n",
    "rf_params = {\n",
    "    'cvec__max_features': [2000,3000],\n",
    "    'cvec__min_df': [2,4],\n",
    "    'cvec__max_df': [1.0, 0.5],\n",
    "    'rf__n_estimators': [100,200],\n",
    "    'rf__max_depth': [None, 1,2,3,4]\n",
    "}\n",
    "\n",
    "gs_3 = GridSearchCV(cvec_rf, param_grid = rf_params, cv = 5)"
   ]
  },
  {
   "cell_type": "code",
   "execution_count": 172,
   "id": "dc0723e5-28a0-4b66-9c4c-cd1d22477b04",
   "metadata": {},
   "outputs": [
    {
     "data": {
      "text/html": [
       "<div>\n",
       "<style scoped>\n",
       "    .dataframe tbody tr th:only-of-type {\n",
       "        vertical-align: middle;\n",
       "    }\n",
       "\n",
       "    .dataframe tbody tr th {\n",
       "        vertical-align: top;\n",
       "    }\n",
       "\n",
       "    .dataframe thead th {\n",
       "        text-align: right;\n",
       "    }\n",
       "</style>\n",
       "<table border=\"1\" class=\"dataframe\">\n",
       "  <thead>\n",
       "    <tr style=\"text-align: right;\">\n",
       "      <th></th>\n",
       "      <th>pipe_name</th>\n",
       "      <th>best_score</th>\n",
       "      <th>train_score</th>\n",
       "      <th>test_score</th>\n",
       "      <th>f1_score</th>\n",
       "    </tr>\n",
       "  </thead>\n",
       "  <tbody>\n",
       "    <tr>\n",
       "      <th>0</th>\n",
       "      <td>cvec_rf</td>\n",
       "      <td>0.678592</td>\n",
       "      <td>0.997183</td>\n",
       "      <td>0.675676</td>\n",
       "      <td>0.675805</td>\n",
       "    </tr>\n",
       "  </tbody>\n",
       "</table>\n",
       "</div>"
      ],
      "text/plain": [
       "  pipe_name best_score train_score test_score  f1_score\n",
       "0   cvec_rf   0.678592    0.997183   0.675676  0.675805"
      ]
     },
     "execution_count": 172,
     "metadata": {},
     "output_type": "execute_result"
    },
    {
     "data": {
      "image/png": "[encoded data removed]",
      "text/plain": [
       "<Figure size 432x288 with 2 Axes>"
      ]
     },
     "metadata": {
      "needs_background": "light"
     },
     "output_type": "display_data"
    }
   ],
   "source": [
    "df3 = fit_and_print(gs_3, 'cvec_rf')\n",
    "df3"
   ]
  },
  {
   "cell_type": "code",
   "execution_count": 173,
   "id": "de1c19e7-12af-4d54-85cd-11f425ee995e",
   "metadata": {},
   "outputs": [],
   "source": [
    "tf_rf = Pipeline([\n",
    "    ('tf', TfidfVectorizer()),\n",
    "    ('rf', RandomForestClassifier())\n",
    "    ])\n",
    "\n",
    "rf_params_2 = {\n",
    "    'tf__max_features': [2000,3000],\n",
    "    'tf__min_df': [2,4],\n",
    "    'tf__max_df': [1.0, 0.5],\n",
    "    'rf__n_estimators': [100,200],\n",
    "    'rf__max_depth': [None, 1,2,3,4] \n",
    "}\n",
    "\n",
    "gs_4 = GridSearchCV(tf_rf, param_grid = rf_params_2, cv = 5)"
   ]
  },
  {
   "cell_type": "code",
   "execution_count": 174,
   "id": "ad8b710d-3226-41e2-b9f5-19f8466367cc",
   "metadata": {},
   "outputs": [
    {
     "data": {
      "text/html": [
       "<div>\n",
       "<style scoped>\n",
       "    .dataframe tbody tr th:only-of-type {\n",
       "        vertical-align: middle;\n",
       "    }\n",
       "\n",
       "    .dataframe tbody tr th {\n",
       "        vertical-align: top;\n",
       "    }\n",
       "\n",
       "    .dataframe thead th {\n",
       "        text-align: right;\n",
       "    }\n",
       "</style>\n",
       "<table border=\"1\" class=\"dataframe\">\n",
       "  <thead>\n",
       "    <tr style=\"text-align: right;\">\n",
       "      <th></th>\n",
       "      <th>pipe_name</th>\n",
       "      <th>best_score</th>\n",
       "      <th>train_score</th>\n",
       "      <th>test_score</th>\n",
       "      <th>f1_score</th>\n",
       "    </tr>\n",
       "  </thead>\n",
       "  <tbody>\n",
       "    <tr>\n",
       "      <th>0</th>\n",
       "      <td>tf_rf</td>\n",
       "      <td>0.687887</td>\n",
       "      <td>0.997183</td>\n",
       "      <td>0.689189</td>\n",
       "      <td>0.689274</td>\n",
       "    </tr>\n",
       "  </tbody>\n",
       "</table>\n",
       "</div>"
      ],
      "text/plain": [
       "  pipe_name best_score train_score test_score  f1_score\n",
       "0     tf_rf   0.687887    0.997183   0.689189  0.689274"
      ]
     },
     "execution_count": 174,
     "metadata": {},
     "output_type": "execute_result"
    },
    {
     "data": {
      "image/png": "[encoded data removed]",
      "text/plain": [
       "<Figure size 432x288 with 2 Axes>"
      ]
     },
     "metadata": {
      "needs_background": "light"
     },
     "output_type": "display_data"
    }
   ],
   "source": [
    "df4 = fit_and_print(gs_4, 'tf_rf')\n",
    "df4"
   ]
  },
  {
   "cell_type": "code",
   "execution_count": 175,
   "id": "32741590-7b31-4d29-88a5-ced98a510571",
   "metadata": {},
   "outputs": [
    {
     "data": {
      "text/html": [
       "<div>\n",
       "<style scoped>\n",
       "    .dataframe tbody tr th:only-of-type {\n",
       "        vertical-align: middle;\n",
       "    }\n",
       "\n",
       "    .dataframe tbody tr th {\n",
       "        vertical-align: top;\n",
       "    }\n",
       "\n",
       "    .dataframe thead th {\n",
       "        text-align: right;\n",
       "    }\n",
       "</style>\n",
       "<table border=\"1\" class=\"dataframe\">\n",
       "  <thead>\n",
       "    <tr style=\"text-align: right;\">\n",
       "      <th></th>\n",
       "      <th>pipe_name</th>\n",
       "      <th>best_score</th>\n",
       "      <th>train_score</th>\n",
       "      <th>test_score</th>\n",
       "      <th>f1_score</th>\n",
       "    </tr>\n",
       "  </thead>\n",
       "  <tbody>\n",
       "    <tr>\n",
       "      <th>0</th>\n",
       "      <td>cvec_rf</td>\n",
       "      <td>0.678592</td>\n",
       "      <td>0.997183</td>\n",
       "      <td>0.675676</td>\n",
       "      <td>0.675805</td>\n",
       "    </tr>\n",
       "    <tr>\n",
       "      <th>0</th>\n",
       "      <td>tf_rf</td>\n",
       "      <td>0.687887</td>\n",
       "      <td>0.997183</td>\n",
       "      <td>0.689189</td>\n",
       "      <td>0.689274</td>\n",
       "    </tr>\n",
       "  </tbody>\n",
       "</table>\n",
       "</div>"
      ],
      "text/plain": [
       "  pipe_name best_score train_score test_score  f1_score\n",
       "0   cvec_rf   0.678592    0.997183   0.675676  0.675805\n",
       "0     tf_rf   0.687887    0.997183   0.689189  0.689274"
      ]
     },
     "execution_count": 175,
     "metadata": {},
     "output_type": "execute_result"
    }
   ],
   "source": [
    "pd.concat([df3, df4])"
   ]
  },
  {
   "cell_type": "code",
   "execution_count": 176,
   "id": "65d71673-96b5-495e-89fc-c557327717cb",
   "metadata": {},
   "outputs": [],
   "source": [
    "# From the table above we can see that the models are overfit again, even though the f1 scores are better. \n",
    "# The confusion Matrix looks very similar to the previous model. "
   ]
  },
  {
   "cell_type": "markdown",
   "id": "2fc18ac8-93bb-4c6e-b2cb-d54c7f544daf",
   "metadata": {},
   "source": [
    "---"
   ]
  },
  {
   "cell_type": "code",
   "execution_count": 177,
   "id": "c3aeaab7-e022-4640-973f-add6473d33fa",
   "metadata": {},
   "outputs": [],
   "source": [
    "# Decision Tree:\n",
    "\n",
    "cvec_dt = Pipeline([\n",
    "        ('cvec', CountVectorizer()),\n",
    "        ('dt', DecisionTreeClassifier(random_state=42))\n",
    "        ])\n",
    "\n",
    "dt_params = {\n",
    "    'cvec__max_features': [3000, 4000],\n",
    "    'cvec__min_df': [2,4],\n",
    "    'cvec__max_df': [1.0, 0.5],\n",
    "    'dt__min_samples_split': [15,20],\n",
    "    'dt__min_samples_leaf': [10,15],\n",
    "    'dt__max_depth':[3]\n",
    "}\n",
    "gs_5 = GridSearchCV(cvec_dt, param_grid = dt_params, cv = 5)"
   ]
  },
  {
   "cell_type": "code",
   "execution_count": 178,
   "id": "d63a8def-ac62-4bac-896e-e06912c1849e",
   "metadata": {},
   "outputs": [
    {
     "data": {
      "text/html": [
       "<div>\n",
       "<style scoped>\n",
       "    .dataframe tbody tr th:only-of-type {\n",
       "        vertical-align: middle;\n",
       "    }\n",
       "\n",
       "    .dataframe tbody tr th {\n",
       "        vertical-align: top;\n",
       "    }\n",
       "\n",
       "    .dataframe thead th {\n",
       "        text-align: right;\n",
       "    }\n",
       "</style>\n",
       "<table border=\"1\" class=\"dataframe\">\n",
       "  <thead>\n",
       "    <tr style=\"text-align: right;\">\n",
       "      <th></th>\n",
       "      <th>pipe_name</th>\n",
       "      <th>best_score</th>\n",
       "      <th>train_score</th>\n",
       "      <th>test_score</th>\n",
       "      <th>f1_score</th>\n",
       "    </tr>\n",
       "  </thead>\n",
       "  <tbody>\n",
       "    <tr>\n",
       "      <th>0</th>\n",
       "      <td>cvec_dt</td>\n",
       "      <td>0.589859</td>\n",
       "      <td>0.604507</td>\n",
       "      <td>0.591216</td>\n",
       "      <td>0.540877</td>\n",
       "    </tr>\n",
       "  </tbody>\n",
       "</table>\n",
       "</div>"
      ],
      "text/plain": [
       "  pipe_name best_score train_score test_score  f1_score\n",
       "0   cvec_dt   0.589859    0.604507   0.591216  0.540877"
      ]
     },
     "execution_count": 178,
     "metadata": {},
     "output_type": "execute_result"
    },
    {
     "data": {
      "image/png": "[encoded data removed]",
      "text/plain": [
       "<Figure size 432x288 with 2 Axes>"
      ]
     },
     "metadata": {
      "needs_background": "light"
     },
     "output_type": "display_data"
    }
   ],
   "source": [
    "df5 = fit_and_print(gs_5, 'cvec_dt')\n",
    "df5"
   ]
  },
  {
   "cell_type": "code",
   "execution_count": 179,
   "id": "c0606519-9b9d-4fb7-8035-30a50d05fde9",
   "metadata": {},
   "outputs": [],
   "source": [
    "tf_dt = Pipeline([\n",
    "        ('tf', TfidfVectorizer()),\n",
    "        ('dt', DecisionTreeClassifier(random_state=42))\n",
    "        ])\n",
    "\n",
    "dt_params = {\n",
    "    'tf__max_features': [2000,3000],\n",
    "    'tf__min_df': [2,4],\n",
    "    'tf__max_df': [1.0, 0.5],\n",
    "    'dt__min_samples_split': [15,20,25],\n",
    "    'dt__min_samples_leaf': [15, 25],\n",
    "    'dt__max_depth':[3]\n",
    "}\n",
    "gs_6 = GridSearchCV(tf_dt, param_grid = dt_params, cv = 5)"
   ]
  },
  {
   "cell_type": "code",
   "execution_count": 180,
   "id": "8c7ea9ea-2264-4fcc-b938-c38fa750cfe1",
   "metadata": {},
   "outputs": [
    {
     "data": {
      "text/html": [
       "<div>\n",
       "<style scoped>\n",
       "    .dataframe tbody tr th:only-of-type {\n",
       "        vertical-align: middle;\n",
       "    }\n",
       "\n",
       "    .dataframe tbody tr th {\n",
       "        vertical-align: top;\n",
       "    }\n",
       "\n",
       "    .dataframe thead th {\n",
       "        text-align: right;\n",
       "    }\n",
       "</style>\n",
       "<table border=\"1\" class=\"dataframe\">\n",
       "  <thead>\n",
       "    <tr style=\"text-align: right;\">\n",
       "      <th></th>\n",
       "      <th>pipe_name</th>\n",
       "      <th>best_score</th>\n",
       "      <th>train_score</th>\n",
       "      <th>test_score</th>\n",
       "      <th>f1_score</th>\n",
       "    </tr>\n",
       "  </thead>\n",
       "  <tbody>\n",
       "    <tr>\n",
       "      <th>0</th>\n",
       "      <td>tf_dt</td>\n",
       "      <td>0.590423</td>\n",
       "      <td>0.604507</td>\n",
       "      <td>0.591216</td>\n",
       "      <td>0.540877</td>\n",
       "    </tr>\n",
       "  </tbody>\n",
       "</table>\n",
       "</div>"
      ],
      "text/plain": [
       "  pipe_name best_score train_score test_score  f1_score\n",
       "0     tf_dt   0.590423    0.604507   0.591216  0.540877"
      ]
     },
     "execution_count": 180,
     "metadata": {},
     "output_type": "execute_result"
    },
    {
     "data": {
      "image/png": "[encoded data removed]",
      "text/plain": [
       "<Figure size 432x288 with 2 Axes>"
      ]
     },
     "metadata": {
      "needs_background": "light"
     },
     "output_type": "display_data"
    }
   ],
   "source": [
    "df6 = fit_and_print(gs_6, 'tf_dt')\n",
    "df6"
   ]
  },
  {
   "cell_type": "code",
   "execution_count": 181,
   "id": "0cc41e11-48e9-4215-b214-ef9e578056b0",
   "metadata": {},
   "outputs": [
    {
     "data": {
      "text/html": [
       "<div>\n",
       "<style scoped>\n",
       "    .dataframe tbody tr th:only-of-type {\n",
       "        vertical-align: middle;\n",
       "    }\n",
       "\n",
       "    .dataframe tbody tr th {\n",
       "        vertical-align: top;\n",
       "    }\n",
       "\n",
       "    .dataframe thead th {\n",
       "        text-align: right;\n",
       "    }\n",
       "</style>\n",
       "<table border=\"1\" class=\"dataframe\">\n",
       "  <thead>\n",
       "    <tr style=\"text-align: right;\">\n",
       "      <th></th>\n",
       "      <th>pipe_name</th>\n",
       "      <th>best_score</th>\n",
       "      <th>train_score</th>\n",
       "      <th>test_score</th>\n",
       "      <th>f1_score</th>\n",
       "    </tr>\n",
       "  </thead>\n",
       "  <tbody>\n",
       "    <tr>\n",
       "      <th>0</th>\n",
       "      <td>cvec_dt</td>\n",
       "      <td>0.589859</td>\n",
       "      <td>0.604507</td>\n",
       "      <td>0.591216</td>\n",
       "      <td>0.540877</td>\n",
       "    </tr>\n",
       "    <tr>\n",
       "      <th>0</th>\n",
       "      <td>tf_dt</td>\n",
       "      <td>0.590423</td>\n",
       "      <td>0.604507</td>\n",
       "      <td>0.591216</td>\n",
       "      <td>0.540877</td>\n",
       "    </tr>\n",
       "  </tbody>\n",
       "</table>\n",
       "</div>"
      ],
      "text/plain": [
       "  pipe_name best_score train_score test_score  f1_score\n",
       "0   cvec_dt   0.589859    0.604507   0.591216  0.540877\n",
       "0     tf_dt   0.590423    0.604507   0.591216  0.540877"
      ]
     },
     "execution_count": 181,
     "metadata": {},
     "output_type": "execute_result"
    }
   ],
   "source": [
    "pd.concat([df5, df6])"
   ]
  },
  {
   "cell_type": "code",
   "execution_count": null,
   "id": "cebd8e16-1f18-4753-b0ee-323c04af8498",
   "metadata": {},
   "outputs": [],
   "source": [
    "# This model performed best so far, it's not overfit, although its f1 score is not the highest/\n",
    "# The confusion Matrix looks much better, less amount of false positives, less misclassification. We want to minimize the FN bacause we want to target as many parents with toddlers as possible. "
   ]
  },
  {
   "cell_type": "markdown",
   "id": "1e14f534-5ceb-4152-8e97-573fb802aa6b",
   "metadata": {},
   "source": [
    "---"
   ]
  },
  {
   "cell_type": "code",
   "execution_count": 182,
   "id": "f349ca2f-713e-4545-83ca-f40eaaf2aec7",
   "metadata": {},
   "outputs": [],
   "source": [
    "# AdaBoost with Logistic Regression Estimator:\n",
    "\n",
    "cvec_ada = Pipeline([\n",
    "    ('cvec', CountVectorizer()),\n",
    "    ('ada', AdaBoostClassifier(base_estimator=LogisticRegression(), random_state=42))\n",
    "])\n",
    "ada_lr_params = {\n",
    "    'cvec__max_features': [2000,3000],\n",
    "    'cvec__min_df': [2,4],\n",
    "    'ada__n_estimators': [50,100],\n",
    "    'ada__base_estimator__C': [0.1, 1.0],\n",
    "    'ada__learning_rate': [0.9, 1.0]\n",
    "}\n",
    "gs_7= GridSearchCV(cvec_ada, param_grid = ada_lr_params, cv = 3)"
   ]
  },
  {
   "cell_type": "code",
   "execution_count": 183,
   "id": "4d712695-21b7-4b58-b47c-d46547134672",
   "metadata": {},
   "outputs": [
    {
     "data": {
      "text/html": [
       "<div>\n",
       "<style scoped>\n",
       "    .dataframe tbody tr th:only-of-type {\n",
       "        vertical-align: middle;\n",
       "    }\n",
       "\n",
       "    .dataframe tbody tr th {\n",
       "        vertical-align: top;\n",
       "    }\n",
       "\n",
       "    .dataframe thead th {\n",
       "        text-align: right;\n",
       "    }\n",
       "</style>\n",
       "<table border=\"1\" class=\"dataframe\">\n",
       "  <thead>\n",
       "    <tr style=\"text-align: right;\">\n",
       "      <th></th>\n",
       "      <th>pipe_name</th>\n",
       "      <th>best_score</th>\n",
       "      <th>train_score</th>\n",
       "      <th>test_score</th>\n",
       "      <th>f1_score</th>\n",
       "    </tr>\n",
       "  </thead>\n",
       "  <tbody>\n",
       "    <tr>\n",
       "      <th>0</th>\n",
       "      <td>cvec_ada</td>\n",
       "      <td>0.686476</td>\n",
       "      <td>0.828732</td>\n",
       "      <td>0.679054</td>\n",
       "      <td>0.676484</td>\n",
       "    </tr>\n",
       "  </tbody>\n",
       "</table>\n",
       "</div>"
      ],
      "text/plain": [
       "  pipe_name best_score train_score test_score  f1_score\n",
       "0  cvec_ada   0.686476    0.828732   0.679054  0.676484"
      ]
     },
     "execution_count": 183,
     "metadata": {},
     "output_type": "execute_result"
    },
    {
     "data": {
      "image/png": "[encoded data removed]",
      "text/plain": [
       "<Figure size 432x288 with 2 Axes>"
      ]
     },
     "metadata": {
      "needs_background": "light"
     },
     "output_type": "display_data"
    }
   ],
   "source": [
    "df7 = fit_and_print(gs_7, 'cvec_ada')\n",
    "df7"
   ]
  },
  {
   "cell_type": "code",
   "execution_count": 184,
   "id": "e1c72374-5189-454c-baed-625f2d76a631",
   "metadata": {},
   "outputs": [],
   "source": [
    "tf_ada = Pipeline([\n",
    "    ('tf', TfidfVectorizer()),\n",
    "    ('ada', AdaBoostClassifier(base_estimator=LogisticRegression(), random_state=42))\n",
    "])\n",
    "\n",
    "ada_lr_params_2 = {\n",
    "    'tf__max_features': [2000,3000],\n",
    "    'tf__min_df': [2,4],\n",
    "    'tf__max_df': [1.0, 0.5],\n",
    "    'ada__n_estimators': [50,100],\n",
    "    'ada__base_estimator__C': [0.1, 1.0],\n",
    "}\n",
    "gs_8= GridSearchCV(tf_ada, param_grid = ada_lr_params_2, cv = 3)"
   ]
  },
  {
   "cell_type": "code",
   "execution_count": 185,
   "id": "a38f7f05-287d-4e17-b246-97c641962048",
   "metadata": {},
   "outputs": [
    {
     "data": {
      "text/html": [
       "<div>\n",
       "<style scoped>\n",
       "    .dataframe tbody tr th:only-of-type {\n",
       "        vertical-align: middle;\n",
       "    }\n",
       "\n",
       "    .dataframe tbody tr th {\n",
       "        vertical-align: top;\n",
       "    }\n",
       "\n",
       "    .dataframe thead th {\n",
       "        text-align: right;\n",
       "    }\n",
       "</style>\n",
       "<table border=\"1\" class=\"dataframe\">\n",
       "  <thead>\n",
       "    <tr style=\"text-align: right;\">\n",
       "      <th></th>\n",
       "      <th>pipe_name</th>\n",
       "      <th>best_score</th>\n",
       "      <th>train_score</th>\n",
       "      <th>test_score</th>\n",
       "      <th>f1_score</th>\n",
       "    </tr>\n",
       "  </thead>\n",
       "  <tbody>\n",
       "    <tr>\n",
       "      <th>0</th>\n",
       "      <td>tf_ada</td>\n",
       "      <td>0.658591</td>\n",
       "      <td>0.689859</td>\n",
       "      <td>0.655405</td>\n",
       "      <td>0.626935</td>\n",
       "    </tr>\n",
       "  </tbody>\n",
       "</table>\n",
       "</div>"
      ],
      "text/plain": [
       "  pipe_name best_score train_score test_score  f1_score\n",
       "0    tf_ada   0.658591    0.689859   0.655405  0.626935"
      ]
     },
     "execution_count": 185,
     "metadata": {},
     "output_type": "execute_result"
    },
    {
     "data": {
      "image/png": "[encoded data removed]",
      "text/plain": [
       "<Figure size 432x288 with 2 Axes>"
      ]
     },
     "metadata": {
      "needs_background": "light"
     },
     "output_type": "display_data"
    }
   ],
   "source": [
    "df8 = fit_and_print(gs_8, 'tf_ada')\n",
    "df8"
   ]
  },
  {
   "cell_type": "code",
   "execution_count": 186,
   "id": "eaa1e974-e8b9-46dc-8ae0-a335e88f4a7d",
   "metadata": {},
   "outputs": [
    {
     "data": {
      "text/html": [
       "<div>\n",
       "<style scoped>\n",
       "    .dataframe tbody tr th:only-of-type {\n",
       "        vertical-align: middle;\n",
       "    }\n",
       "\n",
       "    .dataframe tbody tr th {\n",
       "        vertical-align: top;\n",
       "    }\n",
       "\n",
       "    .dataframe thead th {\n",
       "        text-align: right;\n",
       "    }\n",
       "</style>\n",
       "<table border=\"1\" class=\"dataframe\">\n",
       "  <thead>\n",
       "    <tr style=\"text-align: right;\">\n",
       "      <th></th>\n",
       "      <th>pipe_name</th>\n",
       "      <th>best_score</th>\n",
       "      <th>train_score</th>\n",
       "      <th>test_score</th>\n",
       "      <th>f1_score</th>\n",
       "    </tr>\n",
       "  </thead>\n",
       "  <tbody>\n",
       "    <tr>\n",
       "      <th>0</th>\n",
       "      <td>cvec_ada</td>\n",
       "      <td>0.686476</td>\n",
       "      <td>0.828732</td>\n",
       "      <td>0.679054</td>\n",
       "      <td>0.676484</td>\n",
       "    </tr>\n",
       "    <tr>\n",
       "      <th>0</th>\n",
       "      <td>tf_ada</td>\n",
       "      <td>0.658591</td>\n",
       "      <td>0.689859</td>\n",
       "      <td>0.655405</td>\n",
       "      <td>0.626935</td>\n",
       "    </tr>\n",
       "  </tbody>\n",
       "</table>\n",
       "</div>"
      ],
      "text/plain": [
       "  pipe_name best_score train_score test_score  f1_score\n",
       "0  cvec_ada   0.686476    0.828732   0.679054  0.676484\n",
       "0    tf_ada   0.658591    0.689859   0.655405  0.626935"
      ]
     },
     "execution_count": 186,
     "metadata": {},
     "output_type": "execute_result"
    }
   ],
   "source": [
    "pd.concat([df7, df8])"
   ]
  },
  {
   "cell_type": "code",
   "execution_count": 187,
   "id": "c8aa1c48-8ab3-41f2-a136-982390852320",
   "metadata": {},
   "outputs": [],
   "source": [
    "# The AdaBoost with Tfid vecoriser is not overfit and the f1 score is not much lower than the previous models. we will definitely keep an eye on this one.\n",
    "# The first misclassification matrix is showing how poorly the classification modelworked with so many false negatives and false positives. "
   ]
  },
  {
   "cell_type": "markdown",
   "id": "d0eaa54b-ff1c-4999-9317-fd1d13275844",
   "metadata": {},
   "source": [
    "---"
   ]
  },
  {
   "cell_type": "code",
   "execution_count": 188,
   "id": "86c354c4-010f-44b0-83b2-510e1a25041c",
   "metadata": {},
   "outputs": [],
   "source": [
    "# KNN:\n",
    "cvec_knn = Pipeline([\n",
    "    ('cvec', CountVectorizer()),\n",
    "    ('ss', StandardScaler(with_mean=False)),\n",
    "    ('knn', KNeighborsClassifier())\n",
    "])\n",
    "\n",
    "pipe_params_knn = {\n",
    "    'cvec__max_features': [2000,3000],\n",
    "    'cvec__min_df': [2,4],\n",
    "    'cvec__max_df': [1.0, 0.5],\n",
    "    'knn__n_neighbors':[3, 5]\n",
    "}\n",
    "gs_10 = GridSearchCV(cvec_knn,\n",
    "                      param_grid = pipe_params_knn,\n",
    "                      n_jobs = -1)"
   ]
  },
  {
   "cell_type": "code",
   "execution_count": 189,
   "id": "c9354446-b4cb-437e-b8bf-f7a16ed5de38",
   "metadata": {},
   "outputs": [
    {
     "data": {
      "text/html": [
       "<div>\n",
       "<style scoped>\n",
       "    .dataframe tbody tr th:only-of-type {\n",
       "        vertical-align: middle;\n",
       "    }\n",
       "\n",
       "    .dataframe tbody tr th {\n",
       "        vertical-align: top;\n",
       "    }\n",
       "\n",
       "    .dataframe thead th {\n",
       "        text-align: right;\n",
       "    }\n",
       "</style>\n",
       "<table border=\"1\" class=\"dataframe\">\n",
       "  <thead>\n",
       "    <tr style=\"text-align: right;\">\n",
       "      <th></th>\n",
       "      <th>pipe_name</th>\n",
       "      <th>best_score</th>\n",
       "      <th>train_score</th>\n",
       "      <th>test_score</th>\n",
       "      <th>f1_score</th>\n",
       "    </tr>\n",
       "  </thead>\n",
       "  <tbody>\n",
       "    <tr>\n",
       "      <th>0</th>\n",
       "      <td>cvec_knn</td>\n",
       "      <td>0.558592</td>\n",
       "      <td>0.772394</td>\n",
       "      <td>0.550676</td>\n",
       "      <td>0.531442</td>\n",
       "    </tr>\n",
       "  </tbody>\n",
       "</table>\n",
       "</div>"
      ],
      "text/plain": [
       "  pipe_name best_score train_score test_score  f1_score\n",
       "0  cvec_knn   0.558592    0.772394   0.550676  0.531442"
      ]
     },
     "execution_count": 189,
     "metadata": {},
     "output_type": "execute_result"
    },
    {
     "data": {
      "image/png": "[encoded data removed]",
      "text/plain": [
       "<Figure size 432x288 with 2 Axes>"
      ]
     },
     "metadata": {
      "needs_background": "light"
     },
     "output_type": "display_data"
    }
   ],
   "source": [
    "df10 = fit_and_print(gs_10, 'cvec_knn')\n",
    "df10"
   ]
  },
  {
   "cell_type": "code",
   "execution_count": 190,
   "id": "79b04d06-c9e3-42dc-ac67-2bb7c78e405a",
   "metadata": {},
   "outputs": [],
   "source": [
    "tf_knn = Pipeline([\n",
    "    ('tf', TfidfVectorizer()),\n",
    "    ('ss', StandardScaler(with_mean=False)),\n",
    "    ('knn', KNeighborsClassifier())\n",
    "])\n",
    "\n",
    "pipe_params_knn = {\n",
    "    'tf__max_features': [2000,3000],\n",
    "    'tf__min_df': [2,4],\n",
    "    'tf__max_df': [1.0, 0.5],\n",
    "    'knn__n_neighbors':[3, 5]\n",
    "}\n",
    "\n",
    "gs_9 = GridSearchCV(tf_knn,\n",
    "                      param_grid = pipe_params_knn,\n",
    "                      n_jobs = -1)"
   ]
  },
  {
   "cell_type": "code",
   "execution_count": 191,
   "id": "6b6db0b3-a63a-4b1e-aeb1-3bf35505e148",
   "metadata": {},
   "outputs": [
    {
     "data": {
      "text/html": [
       "<div>\n",
       "<style scoped>\n",
       "    .dataframe tbody tr th:only-of-type {\n",
       "        vertical-align: middle;\n",
       "    }\n",
       "\n",
       "    .dataframe tbody tr th {\n",
       "        vertical-align: top;\n",
       "    }\n",
       "\n",
       "    .dataframe thead th {\n",
       "        text-align: right;\n",
       "    }\n",
       "</style>\n",
       "<table border=\"1\" class=\"dataframe\">\n",
       "  <thead>\n",
       "    <tr style=\"text-align: right;\">\n",
       "      <th></th>\n",
       "      <th>pipe_name</th>\n",
       "      <th>best_score</th>\n",
       "      <th>train_score</th>\n",
       "      <th>test_score</th>\n",
       "      <th>f1_score</th>\n",
       "    </tr>\n",
       "  </thead>\n",
       "  <tbody>\n",
       "    <tr>\n",
       "      <th>0</th>\n",
       "      <td>tf_knn</td>\n",
       "      <td>0.548169</td>\n",
       "      <td>0.699718</td>\n",
       "      <td>0.554899</td>\n",
       "      <td>0.481325</td>\n",
       "    </tr>\n",
       "  </tbody>\n",
       "</table>\n",
       "</div>"
      ],
      "text/plain": [
       "  pipe_name best_score train_score test_score  f1_score\n",
       "0    tf_knn   0.548169    0.699718   0.554899  0.481325"
      ]
     },
     "execution_count": 191,
     "metadata": {},
     "output_type": "execute_result"
    },
    {
     "data": {
      "image/png": "[encoded data removed]",
      "text/plain": [
       "<Figure size 432x288 with 2 Axes>"
      ]
     },
     "metadata": {
      "needs_background": "light"
     },
     "output_type": "display_data"
    }
   ],
   "source": [
    "df9 = fit_and_print(gs_9, 'tf_knn')\n",
    "df9"
   ]
  },
  {
   "cell_type": "code",
   "execution_count": 192,
   "id": "fde13a32-f8f9-4737-9921-d658f481f749",
   "metadata": {},
   "outputs": [
    {
     "data": {
      "text/html": [
       "<div>\n",
       "<style scoped>\n",
       "    .dataframe tbody tr th:only-of-type {\n",
       "        vertical-align: middle;\n",
       "    }\n",
       "\n",
       "    .dataframe tbody tr th {\n",
       "        vertical-align: top;\n",
       "    }\n",
       "\n",
       "    .dataframe thead th {\n",
       "        text-align: right;\n",
       "    }\n",
       "</style>\n",
       "<table border=\"1\" class=\"dataframe\">\n",
       "  <thead>\n",
       "    <tr style=\"text-align: right;\">\n",
       "      <th></th>\n",
       "      <th>pipe_name</th>\n",
       "      <th>best_score</th>\n",
       "      <th>train_score</th>\n",
       "      <th>test_score</th>\n",
       "      <th>f1_score</th>\n",
       "    </tr>\n",
       "  </thead>\n",
       "  <tbody>\n",
       "    <tr>\n",
       "      <th>0</th>\n",
       "      <td>tf_knn</td>\n",
       "      <td>0.548169</td>\n",
       "      <td>0.699718</td>\n",
       "      <td>0.554899</td>\n",
       "      <td>0.481325</td>\n",
       "    </tr>\n",
       "    <tr>\n",
       "      <th>0</th>\n",
       "      <td>cvec_knn</td>\n",
       "      <td>0.558592</td>\n",
       "      <td>0.772394</td>\n",
       "      <td>0.550676</td>\n",
       "      <td>0.531442</td>\n",
       "    </tr>\n",
       "  </tbody>\n",
       "</table>\n",
       "</div>"
      ],
      "text/plain": [
       "  pipe_name best_score train_score test_score  f1_score\n",
       "0    tf_knn   0.548169    0.699718   0.554899  0.481325\n",
       "0  cvec_knn   0.558592    0.772394   0.550676  0.531442"
      ]
     },
     "execution_count": 192,
     "metadata": {},
     "output_type": "execute_result"
    }
   ],
   "source": [
    "pd.concat([df9, df10])"
   ]
  },
  {
   "cell_type": "code",
   "execution_count": 193,
   "id": "3b37de7b-d39a-4e6f-b285-37f09511aae1",
   "metadata": {},
   "outputs": [],
   "source": [
    "# KNN model is not really designed for this type of project as it is struggles with multidimentionelity, so we won't come back to it. "
   ]
  },
  {
   "cell_type": "markdown",
   "id": "84f48dc8-6a6a-43b6-bfba-d0a46b88be28",
   "metadata": {},
   "source": [
    "---"
   ]
  },
  {
   "cell_type": "code",
   "execution_count": 194,
   "id": "f8149eeb-e224-4469-8d18-21baa3597d6e",
   "metadata": {},
   "outputs": [],
   "source": [
    "# Multinomial Naive Bayes\n",
    "\n",
    "cvec_nb = Pipeline([\n",
    "    ('cvec', CountVectorizer()),\n",
    "    ('nb', MultinomialNB())\n",
    "])\n",
    "pipe_params_nb = {\n",
    "    #'cvec__max_features': [2000,3000],\n",
    "    'cvec__min_df': [2,4],\n",
    "    'cvec__max_df': [1.0, 0.5],\n",
    "    'nb__alpha': [0.1, 0.2, 0.3],#,0.25,0.5,0.8,1],\n",
    "    'nb__class_prior': [None, [.1,.9],[.2, .8]]\n",
    "}\n",
    "gs_11 = GridSearchCV(cvec_nb,\n",
    "                      param_grid = pipe_params_nb,\n",
    "                      n_jobs = -1)"
   ]
  },
  {
   "cell_type": "code",
   "execution_count": 195,
   "id": "6875b7fb-ee70-40da-b370-f0030e0d9292",
   "metadata": {},
   "outputs": [
    {
     "data": {
      "text/html": [
       "<div>\n",
       "<style scoped>\n",
       "    .dataframe tbody tr th:only-of-type {\n",
       "        vertical-align: middle;\n",
       "    }\n",
       "\n",
       "    .dataframe tbody tr th {\n",
       "        vertical-align: top;\n",
       "    }\n",
       "\n",
       "    .dataframe thead th {\n",
       "        text-align: right;\n",
       "    }\n",
       "</style>\n",
       "<table border=\"1\" class=\"dataframe\">\n",
       "  <thead>\n",
       "    <tr style=\"text-align: right;\">\n",
       "      <th></th>\n",
       "      <th>pipe_name</th>\n",
       "      <th>best_score</th>\n",
       "      <th>train_score</th>\n",
       "      <th>test_score</th>\n",
       "      <th>f1_score</th>\n",
       "    </tr>\n",
       "  </thead>\n",
       "  <tbody>\n",
       "    <tr>\n",
       "      <th>0</th>\n",
       "      <td>cvec_nb</td>\n",
       "      <td>0.718873</td>\n",
       "      <td>0.857746</td>\n",
       "      <td>0.701014</td>\n",
       "      <td>0.696234</td>\n",
       "    </tr>\n",
       "  </tbody>\n",
       "</table>\n",
       "</div>"
      ],
      "text/plain": [
       "  pipe_name best_score train_score test_score  f1_score\n",
       "0   cvec_nb   0.718873    0.857746   0.701014  0.696234"
      ]
     },
     "execution_count": 195,
     "metadata": {},
     "output_type": "execute_result"
    },
    {
     "data": {
      "image/png": "[encoded data removed]",
      "text/plain": [
       "<Figure size 432x288 with 2 Axes>"
      ]
     },
     "metadata": {
      "needs_background": "light"
     },
     "output_type": "display_data"
    }
   ],
   "source": [
    "df11 = fit_and_print(gs_11, 'cvec_nb')\n",
    "df11"
   ]
  },
  {
   "cell_type": "code",
   "execution_count": 196,
   "id": "963a0dbf-01f1-47f0-9fb1-10f610a39c27",
   "metadata": {},
   "outputs": [],
   "source": [
    "tf_nb = Pipeline([\n",
    "    ('tf', TfidfVectorizer()),\n",
    "    ('nb', MultinomialNB())\n",
    "])\n",
    "\n",
    "pipe_params_nb_2 = {\n",
    "    'tf__max_features': [3000, 4000],\n",
    "    'tf__min_df': [2,4],\n",
    "    'tf__max_df': [1.0, 0.5],\n",
    "    'nb__alpha': [0.1, 0.2, 0.3],\n",
    "    'nb__class_prior': [None, [.1,.9],[.2, .8]]\n",
    "}\n",
    "gs_12 = GridSearchCV(tf_nb,\n",
    "                      param_grid = pipe_params_nb_2,\n",
    "                      n_jobs = -1)"
   ]
  },
  {
   "cell_type": "code",
   "execution_count": 197,
   "id": "2251933d-bd83-4e14-8b0f-dd2cd6720165",
   "metadata": {},
   "outputs": [
    {
     "data": {
      "text/html": [
       "<div>\n",
       "<style scoped>\n",
       "    .dataframe tbody tr th:only-of-type {\n",
       "        vertical-align: middle;\n",
       "    }\n",
       "\n",
       "    .dataframe tbody tr th {\n",
       "        vertical-align: top;\n",
       "    }\n",
       "\n",
       "    .dataframe thead th {\n",
       "        text-align: right;\n",
       "    }\n",
       "</style>\n",
       "<table border=\"1\" class=\"dataframe\">\n",
       "  <thead>\n",
       "    <tr style=\"text-align: right;\">\n",
       "      <th></th>\n",
       "      <th>pipe_name</th>\n",
       "      <th>best_score</th>\n",
       "      <th>train_score</th>\n",
       "      <th>test_score</th>\n",
       "      <th>f1_score</th>\n",
       "    </tr>\n",
       "  </thead>\n",
       "  <tbody>\n",
       "    <tr>\n",
       "      <th>0</th>\n",
       "      <td>tf_nb</td>\n",
       "      <td>0.706197</td>\n",
       "      <td>0.819718</td>\n",
       "      <td>0.697635</td>\n",
       "      <td>0.69698</td>\n",
       "    </tr>\n",
       "  </tbody>\n",
       "</table>\n",
       "</div>"
      ],
      "text/plain": [
       "  pipe_name best_score train_score test_score f1_score\n",
       "0     tf_nb   0.706197    0.819718   0.697635  0.69698"
      ]
     },
     "execution_count": 197,
     "metadata": {},
     "output_type": "execute_result"
    },
    {
     "data": {
      "image/png": "[encoded data removed]",
      "text/plain": [
       "<Figure size 432x288 with 2 Axes>"
      ]
     },
     "metadata": {
      "needs_background": "light"
     },
     "output_type": "display_data"
    }
   ],
   "source": [
    "df12 = fit_and_print(gs_12, 'tf_nb')\n",
    "df12"
   ]
  },
  {
   "cell_type": "code",
   "execution_count": 198,
   "id": "c8d003f9-8454-46ff-8b0b-6584a9261330",
   "metadata": {},
   "outputs": [
    {
     "data": {
      "text/html": [
       "<div>\n",
       "<style scoped>\n",
       "    .dataframe tbody tr th:only-of-type {\n",
       "        vertical-align: middle;\n",
       "    }\n",
       "\n",
       "    .dataframe tbody tr th {\n",
       "        vertical-align: top;\n",
       "    }\n",
       "\n",
       "    .dataframe thead th {\n",
       "        text-align: right;\n",
       "    }\n",
       "</style>\n",
       "<table border=\"1\" class=\"dataframe\">\n",
       "  <thead>\n",
       "    <tr style=\"text-align: right;\">\n",
       "      <th></th>\n",
       "      <th>pipe_name</th>\n",
       "      <th>best_score</th>\n",
       "      <th>train_score</th>\n",
       "      <th>test_score</th>\n",
       "      <th>f1_score</th>\n",
       "    </tr>\n",
       "  </thead>\n",
       "  <tbody>\n",
       "    <tr>\n",
       "      <th>0</th>\n",
       "      <td>cvec_nb</td>\n",
       "      <td>0.718873</td>\n",
       "      <td>0.857746</td>\n",
       "      <td>0.701014</td>\n",
       "      <td>0.696234</td>\n",
       "    </tr>\n",
       "    <tr>\n",
       "      <th>0</th>\n",
       "      <td>tf_nb</td>\n",
       "      <td>0.706197</td>\n",
       "      <td>0.819718</td>\n",
       "      <td>0.697635</td>\n",
       "      <td>0.69698</td>\n",
       "    </tr>\n",
       "  </tbody>\n",
       "</table>\n",
       "</div>"
      ],
      "text/plain": [
       "  pipe_name best_score train_score test_score  f1_score\n",
       "0   cvec_nb   0.718873    0.857746   0.701014  0.696234\n",
       "0     tf_nb   0.706197    0.819718   0.697635   0.69698"
      ]
     },
     "execution_count": 198,
     "metadata": {},
     "output_type": "execute_result"
    }
   ],
   "source": [
    "pd.concat([df11, df12])"
   ]
  },
  {
   "cell_type": "code",
   "execution_count": 199,
   "id": "c7c4b0b8-57ad-4d58-a64e-59242fa87dd9",
   "metadata": {},
   "outputs": [],
   "source": [
    "# Again, we see here the overfit models with so far highest f1 scores. \n",
    "# Although you acn see that the false negatives here are similarly represented by the CM. "
   ]
  },
  {
   "cell_type": "markdown",
   "id": "24b0d7bb-5dc0-460b-8f35-37bcb71c3cae",
   "metadata": {},
   "source": [
    "---"
   ]
  },
  {
   "cell_type": "code",
   "execution_count": 200,
   "id": "34205ae4-3ad8-4c6d-82a4-d4df55d17d82",
   "metadata": {
    "tags": []
   },
   "outputs": [
    {
     "name": "stdout",
     "output_type": "stream",
     "text": [
      "0.9828169014084507\n",
      "0.6342905405405406\n"
     ]
    }
   ],
   "source": [
    "# Let's quickly check if Bagging classifier is doing any better: \n",
    "bag_pipe = Pipeline([\n",
    "    ('cvec', CountVectorizer()),\n",
    "    ('bag', BaggingClassifier(random_state=42))\n",
    "])\n",
    "\n",
    "# Fit BaggingClassifier.\n",
    "bag_pipe.fit(X_train, y_train)\n",
    "\n",
    "# Score BaggingClassifier\n",
    "print(bag_pipe.score(X_train, y_train))\n",
    "print(bag_pipe.score(X_test, y_test))"
   ]
  },
  {
   "cell_type": "code",
   "execution_count": 201,
   "id": "2bc040f9-4c94-423d-bacf-0eb3884c8838",
   "metadata": {},
   "outputs": [],
   "source": [
    "# Turns out it's not performing any better..."
   ]
  },
  {
   "cell_type": "markdown",
   "id": "4a5cff80-a192-4a0a-8f6b-c2b388a390de",
   "metadata": {},
   "source": [
    "---"
   ]
  },
  {
   "cell_type": "code",
   "execution_count": 202,
   "id": "5a94a5eb-c68f-4e20-accd-bf9ccc9cbd41",
   "metadata": {},
   "outputs": [
    {
     "data": {
      "text/html": [
       "<div>\n",
       "<style scoped>\n",
       "    .dataframe tbody tr th:only-of-type {\n",
       "        vertical-align: middle;\n",
       "    }\n",
       "\n",
       "    .dataframe tbody tr th {\n",
       "        vertical-align: top;\n",
       "    }\n",
       "\n",
       "    .dataframe thead th {\n",
       "        text-align: right;\n",
       "    }\n",
       "</style>\n",
       "<table border=\"1\" class=\"dataframe\">\n",
       "  <thead>\n",
       "    <tr style=\"text-align: right;\">\n",
       "      <th></th>\n",
       "      <th>pipe_name</th>\n",
       "      <th>best_score</th>\n",
       "      <th>train_score</th>\n",
       "      <th>test_score</th>\n",
       "      <th>f1_score</th>\n",
       "    </tr>\n",
       "  </thead>\n",
       "  <tbody>\n",
       "    <tr>\n",
       "      <th>0</th>\n",
       "      <td>cvec_lr</td>\n",
       "      <td>0.667324</td>\n",
       "      <td>0.947042</td>\n",
       "      <td>0.654561</td>\n",
       "      <td>0.653232</td>\n",
       "    </tr>\n",
       "    <tr>\n",
       "      <th>0</th>\n",
       "      <td>tf_lr</td>\n",
       "      <td>0.711268</td>\n",
       "      <td>0.850704</td>\n",
       "      <td>0.6875</td>\n",
       "      <td>0.685966</td>\n",
       "    </tr>\n",
       "    <tr>\n",
       "      <th>0</th>\n",
       "      <td>cvec_rf</td>\n",
       "      <td>0.678592</td>\n",
       "      <td>0.997183</td>\n",
       "      <td>0.675676</td>\n",
       "      <td>0.675805</td>\n",
       "    </tr>\n",
       "    <tr>\n",
       "      <th>0</th>\n",
       "      <td>tf_rf</td>\n",
       "      <td>0.687887</td>\n",
       "      <td>0.997183</td>\n",
       "      <td>0.689189</td>\n",
       "      <td>0.689274</td>\n",
       "    </tr>\n",
       "    <tr>\n",
       "      <th>0</th>\n",
       "      <td>cvec_dt</td>\n",
       "      <td>0.589859</td>\n",
       "      <td>0.604507</td>\n",
       "      <td>0.591216</td>\n",
       "      <td>0.540877</td>\n",
       "    </tr>\n",
       "    <tr>\n",
       "      <th>0</th>\n",
       "      <td>tf_dt</td>\n",
       "      <td>0.590423</td>\n",
       "      <td>0.604507</td>\n",
       "      <td>0.591216</td>\n",
       "      <td>0.540877</td>\n",
       "    </tr>\n",
       "    <tr>\n",
       "      <th>0</th>\n",
       "      <td>cvec_ada</td>\n",
       "      <td>0.686476</td>\n",
       "      <td>0.828732</td>\n",
       "      <td>0.679054</td>\n",
       "      <td>0.676484</td>\n",
       "    </tr>\n",
       "    <tr>\n",
       "      <th>0</th>\n",
       "      <td>tf_ada</td>\n",
       "      <td>0.658591</td>\n",
       "      <td>0.689859</td>\n",
       "      <td>0.655405</td>\n",
       "      <td>0.626935</td>\n",
       "    </tr>\n",
       "    <tr>\n",
       "      <th>0</th>\n",
       "      <td>tf_knn</td>\n",
       "      <td>0.548169</td>\n",
       "      <td>0.699718</td>\n",
       "      <td>0.554899</td>\n",
       "      <td>0.481325</td>\n",
       "    </tr>\n",
       "    <tr>\n",
       "      <th>0</th>\n",
       "      <td>cvec_knn</td>\n",
       "      <td>0.558592</td>\n",
       "      <td>0.772394</td>\n",
       "      <td>0.550676</td>\n",
       "      <td>0.531442</td>\n",
       "    </tr>\n",
       "    <tr>\n",
       "      <th>0</th>\n",
       "      <td>cvec_nb</td>\n",
       "      <td>0.718873</td>\n",
       "      <td>0.857746</td>\n",
       "      <td>0.701014</td>\n",
       "      <td>0.696234</td>\n",
       "    </tr>\n",
       "    <tr>\n",
       "      <th>0</th>\n",
       "      <td>tf_nb</td>\n",
       "      <td>0.706197</td>\n",
       "      <td>0.819718</td>\n",
       "      <td>0.697635</td>\n",
       "      <td>0.69698</td>\n",
       "    </tr>\n",
       "  </tbody>\n",
       "</table>\n",
       "</div>"
      ],
      "text/plain": [
       "  pipe_name best_score train_score test_score  f1_score\n",
       "0   cvec_lr   0.667324    0.947042   0.654561  0.653232\n",
       "0     tf_lr   0.711268    0.850704     0.6875  0.685966\n",
       "0   cvec_rf   0.678592    0.997183   0.675676  0.675805\n",
       "0     tf_rf   0.687887    0.997183   0.689189  0.689274\n",
       "0   cvec_dt   0.589859    0.604507   0.591216  0.540877\n",
       "0     tf_dt   0.590423    0.604507   0.591216  0.540877\n",
       "0  cvec_ada   0.686476    0.828732   0.679054  0.676484\n",
       "0    tf_ada   0.658591    0.689859   0.655405  0.626935\n",
       "0    tf_knn   0.548169    0.699718   0.554899  0.481325\n",
       "0  cvec_knn   0.558592    0.772394   0.550676  0.531442\n",
       "0   cvec_nb   0.718873    0.857746   0.701014  0.696234\n",
       "0     tf_nb   0.706197    0.819718   0.697635   0.69698"
      ]
     },
     "execution_count": 202,
     "metadata": {},
     "output_type": "execute_result"
    }
   ],
   "source": [
    "# Combine all scores from the models: \n",
    "\n",
    "big_one = pd.concat([df1,df2, df3,df4,df5,df6,df7,df8,df9,df10,df11,df12])\n",
    "big_one"
   ]
  },
  {
   "cell_type": "code",
   "execution_count": 228,
   "id": "504d6c5a-7a00-4695-8820-9e6d24be55d7",
   "metadata": {},
   "outputs": [
    {
     "data": {
      "image/png": "[encoded data removed]",
      "text/plain": [
       "<Figure size 864x576 with 1 Axes>"
      ]
     },
     "metadata": {
      "needs_background": "light"
     },
     "output_type": "display_data"
    }
   ],
   "source": [
    "big_one.plot(x='pipe_name', y = ['train_score', 'test_score', 'f1_score'], kind = 'bar', figsize=(12,8),xlabel = \"Pipe Name\", ylabel = 'Score', title = 'Scores for different Pipelines');\n",
    "plt.savefig(\"../images/Scores for different Pipelines.jpg\");"
   ]
  },
  {
   "cell_type": "code",
   "execution_count": null,
   "id": "d857cc5a-29f2-43a9-9571-f5f5f9f4dfd1",
   "metadata": {},
   "outputs": [],
   "source": [
    "# From the graph above we can see that the least overfit model is Desicion Tree and the highest f1 score model is the MultinomialNB. \n",
    "# Ada classifier also performed well and had higher than DT f1 score. So we will focus on these when stacking them together"
   ]
  },
  {
   "cell_type": "markdown",
   "id": "605623bf-377d-40b1-bf49-c10e91268e00",
   "metadata": {},
   "source": [
    "---"
   ]
  },
  {
   "cell_type": "code",
   "execution_count": null,
   "id": "e62bd5ed-edd0-4e2a-8e5f-ce5889c0ee1d",
   "metadata": {},
   "outputs": [],
   "source": [
    "# Now we're going to take out best performing models (Ada booster and Decision Tree) and stack them together:\n",
    "# (in the same manner as we did in calss)"
   ]
  },
  {
   "cell_type": "code",
   "execution_count": 242,
   "id": "f7578983-3905-4cac-9d6c-67c1df96635b",
   "metadata": {},
   "outputs": [],
   "source": [
    "level1_estimators  = [\n",
    "    ('ada_pipe', Pipeline([\n",
    "        ('tf', TfidfVectorizer()),\n",
    "        ('ada', AdaBoostClassifier(learning_rate=0.7, n_estimators=300, random_state=42))\n",
    "    ])),\n",
    "    ('tf_dt', Pipeline([\n",
    "        ('tf', TfidfVectorizer()),\n",
    "        ('dt', DecisionTreeClassifier(max_depth =3, random_state=42))\n",
    "    ]))\n",
    "]\n",
    "\n",
    "stacked_model_1 = StackingClassifier(estimators = level1_estimators, final_estimator = LogisticRegression(max_iter = 5000, solver = 'saga', C = 10, penalty= 'l1', random_state=42))"
   ]
  },
  {
   "cell_type": "code",
   "execution_count": 243,
   "id": "7fe9c182-7f17-44b0-9ccf-7c1666aa4e58",
   "metadata": {},
   "outputs": [
    {
     "data": {
      "text/plain": [
       "0.6152112676056338"
      ]
     },
     "execution_count": 243,
     "metadata": {},
     "output_type": "execute_result"
    }
   ],
   "source": [
    "# Cross-val score\n",
    "cross_val_score(stacked_model_1, X_train, y_train).mean()"
   ]
  },
  {
   "cell_type": "code",
   "execution_count": 244,
   "id": "6d44d360-ca3b-45a5-9837-7f401bd69bf9",
   "metadata": {},
   "outputs": [
    {
     "data": {
      "text/html": [
       "<style>#sk-container-id-5 {color: black;background-color: white;}#sk-container-id-5 pre{padding: 0;}#sk-container-id-5 div.sk-toggleable {background-color: white;}#sk-container-id-5 label.sk-toggleable__label {cursor: pointer;display: block;width: 100%;margin-bottom: 0;padding: 0.3em;box-sizing: border-box;text-align: center;}#sk-container-id-5 label.sk-toggleable__label-arrow:before {content: \"▸\";float: left;margin-right: 0.25em;color: #696969;}#sk-container-id-5 label.sk-toggleable__label-arrow:hover:before {color: black;}#sk-container-id-5 div.sk-estimator:hover label.sk-toggleable__label-arrow:before {color: black;}#sk-container-id-5 div.sk-toggleable__content {max-height: 0;max-width: 0;overflow: hidden;text-align: left;background-color: #f0f8ff;}#sk-container-id-5 div.sk-toggleable__content pre {margin: 0.2em;color: black;border-radius: 0.25em;background-color: #f0f8ff;}#sk-container-id-5 input.sk-toggleable__control:checked~div.sk-toggleable__content {max-height: 200px;max-width: 100%;overflow: auto;}#sk-container-id-5 input.sk-toggleable__control:checked~label.sk-toggleable__label-arrow:before {content: \"▾\";}#sk-container-id-5 div.sk-estimator input.sk-toggleable__control:checked~label.sk-toggleable__label {background-color: #d4ebff;}#sk-container-id-5 div.sk-label input.sk-toggleable__control:checked~label.sk-toggleable__label {background-color: #d4ebff;}#sk-container-id-5 input.sk-hidden--visually {border: 0;clip: rect(1px 1px 1px 1px);clip: rect(1px, 1px, 1px, 1px);height: 1px;margin: -1px;overflow: hidden;padding: 0;position: absolute;width: 1px;}#sk-container-id-5 div.sk-estimator {font-family: monospace;background-color: #f0f8ff;border: 1px dotted black;border-radius: 0.25em;box-sizing: border-box;margin-bottom: 0.5em;}#sk-container-id-5 div.sk-estimator:hover {background-color: #d4ebff;}#sk-container-id-5 div.sk-parallel-item::after {content: \"\";width: 100%;border-bottom: 1px solid gray;flex-grow: 1;}#sk-container-id-5 div.sk-label:hover label.sk-toggleable__label {background-color: #d4ebff;}#sk-container-id-5 div.sk-serial::before {content: \"\";position: absolute;border-left: 1px solid gray;box-sizing: border-box;top: 0;bottom: 0;left: 50%;z-index: 0;}#sk-container-id-5 div.sk-serial {display: flex;flex-direction: column;align-items: center;background-color: white;padding-right: 0.2em;padding-left: 0.2em;position: relative;}#sk-container-id-5 div.sk-item {position: relative;z-index: 1;}#sk-container-id-5 div.sk-parallel {display: flex;align-items: stretch;justify-content: center;background-color: white;position: relative;}#sk-container-id-5 div.sk-item::before, #sk-container-id-5 div.sk-parallel-item::before {content: \"\";position: absolute;border-left: 1px solid gray;box-sizing: border-box;top: 0;bottom: 0;left: 50%;z-index: -1;}#sk-container-id-5 div.sk-parallel-item {display: flex;flex-direction: column;z-index: 1;position: relative;background-color: white;}#sk-container-id-5 div.sk-parallel-item:first-child::after {align-self: flex-end;width: 50%;}#sk-container-id-5 div.sk-parallel-item:last-child::after {align-self: flex-start;width: 50%;}#sk-container-id-5 div.sk-parallel-item:only-child::after {width: 0;}#sk-container-id-5 div.sk-dashed-wrapped {border: 1px dashed gray;margin: 0 0.4em 0.5em 0.4em;box-sizing: border-box;padding-bottom: 0.4em;background-color: white;}#sk-container-id-5 div.sk-label label {font-family: monospace;font-weight: bold;display: inline-block;line-height: 1.2em;}#sk-container-id-5 div.sk-label-container {text-align: center;}#sk-container-id-5 div.sk-container {/* jupyter's `normalize.less` sets `[hidden] { display: none; }` but bootstrap.min.css set `[hidden] { display: none !important; }` so we also need the `!important` here to be able to override the default hidden behavior on the sphinx rendered scikit-learn.org. See: https://github.com/scikit-learn/scikit-learn/issues/21755 */display: inline-block !important;position: relative;}#sk-container-id-5 div.sk-text-repr-fallback {display: none;}</style><div id=\"sk-container-id-5\" class=\"sk-top-container\"><div class=\"sk-text-repr-fallback\"><pre>StackingClassifier(estimators=[(&#x27;ada_pipe&#x27;,\n",
       "                                Pipeline(steps=[(&#x27;tf&#x27;, TfidfVectorizer()),\n",
       "                                                (&#x27;ada&#x27;,\n",
       "                                                 AdaBoostClassifier(learning_rate=0.7,\n",
       "                                                                    n_estimators=300,\n",
       "                                                                    random_state=42))])),\n",
       "                               (&#x27;tf_dt&#x27;,\n",
       "                                Pipeline(steps=[(&#x27;tf&#x27;, TfidfVectorizer()),\n",
       "                                                (&#x27;dt&#x27;,\n",
       "                                                 DecisionTreeClassifier(max_depth=3,\n",
       "                                                                        random_state=42))]))],\n",
       "                   final_estimator=LogisticRegression(C=10, max_iter=5000,\n",
       "                                                      penalty=&#x27;l1&#x27;,\n",
       "                                                      random_state=42,\n",
       "                                                      solver=&#x27;saga&#x27;))</pre><b>In a Jupyter environment, please rerun this cell to show the HTML representation or trust the notebook. <br />On GitHub, the HTML representation is unable to render, please try loading this page with nbviewer.org.</b></div><div class=\"sk-container\" hidden><div class=\"sk-item sk-dashed-wrapped\"><div class=\"sk-label-container\"><div class=\"sk-label sk-toggleable\"><input class=\"sk-toggleable__control sk-hidden--visually\" id=\"sk-estimator-id-34\" type=\"checkbox\" ><label for=\"sk-estimator-id-34\" class=\"sk-toggleable__label sk-toggleable__label-arrow\">StackingClassifier</label><div class=\"sk-toggleable__content\"><pre>StackingClassifier(estimators=[(&#x27;ada_pipe&#x27;,\n",
       "                                Pipeline(steps=[(&#x27;tf&#x27;, TfidfVectorizer()),\n",
       "                                                (&#x27;ada&#x27;,\n",
       "                                                 AdaBoostClassifier(learning_rate=0.7,\n",
       "                                                                    n_estimators=300,\n",
       "                                                                    random_state=42))])),\n",
       "                               (&#x27;tf_dt&#x27;,\n",
       "                                Pipeline(steps=[(&#x27;tf&#x27;, TfidfVectorizer()),\n",
       "                                                (&#x27;dt&#x27;,\n",
       "                                                 DecisionTreeClassifier(max_depth=3,\n",
       "                                                                        random_state=42))]))],\n",
       "                   final_estimator=LogisticRegression(C=10, max_iter=5000,\n",
       "                                                      penalty=&#x27;l1&#x27;,\n",
       "                                                      random_state=42,\n",
       "                                                      solver=&#x27;saga&#x27;))</pre></div></div></div><div class=\"sk-serial\"><div class=\"sk-item\"><div class=\"sk-parallel\"><div class=\"sk-parallel-item\"><div class=\"sk-item\"><div class=\"sk-label-container\"><div class=\"sk-label sk-toggleable\"><label>ada_pipe</label></div></div><div class=\"sk-serial\"><div class=\"sk-item\"><div class=\"sk-serial\"><div class=\"sk-item\"><div class=\"sk-estimator sk-toggleable\"><input class=\"sk-toggleable__control sk-hidden--visually\" id=\"sk-estimator-id-35\" type=\"checkbox\" ><label for=\"sk-estimator-id-35\" class=\"sk-toggleable__label sk-toggleable__label-arrow\">TfidfVectorizer</label><div class=\"sk-toggleable__content\"><pre>TfidfVectorizer()</pre></div></div></div><div class=\"sk-item\"><div class=\"sk-estimator sk-toggleable\"><input class=\"sk-toggleable__control sk-hidden--visually\" id=\"sk-estimator-id-36\" type=\"checkbox\" ><label for=\"sk-estimator-id-36\" class=\"sk-toggleable__label sk-toggleable__label-arrow\">AdaBoostClassifier</label><div class=\"sk-toggleable__content\"><pre>AdaBoostClassifier(learning_rate=0.7, n_estimators=300, random_state=42)</pre></div></div></div></div></div></div></div></div><div class=\"sk-parallel-item\"><div class=\"sk-item\"><div class=\"sk-label-container\"><div class=\"sk-label sk-toggleable\"><label>tf_dt</label></div></div><div class=\"sk-serial\"><div class=\"sk-item\"><div class=\"sk-serial\"><div class=\"sk-item\"><div class=\"sk-estimator sk-toggleable\"><input class=\"sk-toggleable__control sk-hidden--visually\" id=\"sk-estimator-id-37\" type=\"checkbox\" ><label for=\"sk-estimator-id-37\" class=\"sk-toggleable__label sk-toggleable__label-arrow\">TfidfVectorizer</label><div class=\"sk-toggleable__content\"><pre>TfidfVectorizer()</pre></div></div></div><div class=\"sk-item\"><div class=\"sk-estimator sk-toggleable\"><input class=\"sk-toggleable__control sk-hidden--visually\" id=\"sk-estimator-id-38\" type=\"checkbox\" ><label for=\"sk-estimator-id-38\" class=\"sk-toggleable__label sk-toggleable__label-arrow\">DecisionTreeClassifier</label><div class=\"sk-toggleable__content\"><pre>DecisionTreeClassifier(max_depth=3, random_state=42)</pre></div></div></div></div></div></div></div></div></div></div><div class=\"sk-item\"><div class=\"sk-parallel\"><div class=\"sk-parallel-item\"><div class=\"sk-item\"><div class=\"sk-label-container\"><div class=\"sk-label sk-toggleable\"><label>final_estimator</label></div></div><div class=\"sk-serial\"><div class=\"sk-item\"><div class=\"sk-estimator sk-toggleable\"><input class=\"sk-toggleable__control sk-hidden--visually\" id=\"sk-estimator-id-39\" type=\"checkbox\" ><label for=\"sk-estimator-id-39\" class=\"sk-toggleable__label sk-toggleable__label-arrow\">LogisticRegression</label><div class=\"sk-toggleable__content\"><pre>LogisticRegression(C=10, max_iter=5000, penalty=&#x27;l1&#x27;, random_state=42,\n",
       "                   solver=&#x27;saga&#x27;)</pre></div></div></div></div></div></div></div></div></div></div></div></div>"
      ],
      "text/plain": [
       "StackingClassifier(estimators=[('ada_pipe',\n",
       "                                Pipeline(steps=[('tf', TfidfVectorizer()),\n",
       "                                                ('ada',\n",
       "                                                 AdaBoostClassifier(learning_rate=0.7,\n",
       "                                                                    n_estimators=300,\n",
       "                                                                    random_state=42))])),\n",
       "                               ('tf_dt',\n",
       "                                Pipeline(steps=[('tf', TfidfVectorizer()),\n",
       "                                                ('dt',\n",
       "                                                 DecisionTreeClassifier(max_depth=3,\n",
       "                                                                        random_state=42))]))],\n",
       "                   final_estimator=LogisticRegression(C=10, max_iter=5000,\n",
       "                                                      penalty='l1',\n",
       "                                                      random_state=42,\n",
       "                                                      solver='saga'))"
      ]
     },
     "execution_count": 244,
     "metadata": {},
     "output_type": "execute_result"
    }
   ],
   "source": [
    "stacked_model.fit(X_train, y_train)"
   ]
  },
  {
   "cell_type": "code",
   "execution_count": 245,
   "id": "6fcc4859-0cf8-43d6-9a1e-b58e3b442ea6",
   "metadata": {},
   "outputs": [
    {
     "name": "stdout",
     "output_type": "stream",
     "text": [
      "Training score: 0.6650704225352113\n",
      "Testing score: 0.6081081081081081\n"
     ]
    }
   ],
   "source": [
    "print(f'Training score: {stacked_model.score(X_train, y_train)}')\n",
    "print(f'Testing score: {stacked_model.score(X_test, y_test)}')"
   ]
  },
  {
   "cell_type": "code",
   "execution_count": 241,
   "id": "a4fb9c47-00bc-4a62-a6c2-70d23e7d5f2b",
   "metadata": {},
   "outputs": [
    {
     "data": {
      "text/plain": [
       "0.5725965330049277"
      ]
     },
     "execution_count": 246,
     "metadata": {},
     "output_type": "execute_result"
    }
   ],
   "source": [
    "preds = stacked_model.predict(X_test)\n",
    "f1 = f1_score(y_test, preds, average='weighted')\n",
    "f1"
   ]
  },
  {
   "cell_type": "code",
   "execution_count": 256,
   "id": "b00f81e1-bb1e-467d-9f95-780eb822a6da",
   "metadata": {},
   "outputs": [],
   "source": [
    "# Let's do ADA boosting and Multinomial NB: \n",
    "\n",
    "level1_estimators_2  = [\n",
    "    ('ada_pipe', Pipeline([\n",
    "        ('tf', TfidfVectorizer()),\n",
    "        ('ada', AdaBoostClassifier(learning_rate=0.7, n_estimators=300, random_state=42))\n",
    "    ])),\n",
    "    ('cvec_nb', Pipeline([\n",
    "        ('cvec', CountVectorizer()),\n",
    "        ('nb', MultinomialNB(alpha = 0.3))\n",
    "    ]))\n",
    "]\n",
    "\n",
    "stacked_model_2 = StackingClassifier(estimators = level1_estimators_2, final_estimator = LogisticRegression(max_iter = 5000, solver = 'saga', C = 10, penalty= 'l1', random_state=42))"
   ]
  },
  {
   "cell_type": "code",
   "execution_count": 257,
   "id": "aa2567c1-cd12-45d9-ba6a-bdb3a3fcc413",
   "metadata": {},
   "outputs": [
    {
     "data": {
      "text/plain": [
       "0.7016901408450705"
      ]
     },
     "execution_count": 257,
     "metadata": {},
     "output_type": "execute_result"
    }
   ],
   "source": [
    "# Cross-val score\n",
    "cross_val_score(stacked_model_2, X_train, y_train).mean()"
   ]
  },
  {
   "cell_type": "code",
   "execution_count": 258,
   "id": "80d0bd43-7ae7-4bd1-a80f-262f8744f20c",
   "metadata": {},
   "outputs": [
    {
     "data": {
      "text/html": [
       "<style>#sk-container-id-7 {color: black;background-color: white;}#sk-container-id-7 pre{padding: 0;}#sk-container-id-7 div.sk-toggleable {background-color: white;}#sk-container-id-7 label.sk-toggleable__label {cursor: pointer;display: block;width: 100%;margin-bottom: 0;padding: 0.3em;box-sizing: border-box;text-align: center;}#sk-container-id-7 label.sk-toggleable__label-arrow:before {content: \"▸\";float: left;margin-right: 0.25em;color: #696969;}#sk-container-id-7 label.sk-toggleable__label-arrow:hover:before {color: black;}#sk-container-id-7 div.sk-estimator:hover label.sk-toggleable__label-arrow:before {color: black;}#sk-container-id-7 div.sk-toggleable__content {max-height: 0;max-width: 0;overflow: hidden;text-align: left;background-color: #f0f8ff;}#sk-container-id-7 div.sk-toggleable__content pre {margin: 0.2em;color: black;border-radius: 0.25em;background-color: #f0f8ff;}#sk-container-id-7 input.sk-toggleable__control:checked~div.sk-toggleable__content {max-height: 200px;max-width: 100%;overflow: auto;}#sk-container-id-7 input.sk-toggleable__control:checked~label.sk-toggleable__label-arrow:before {content: \"▾\";}#sk-container-id-7 div.sk-estimator input.sk-toggleable__control:checked~label.sk-toggleable__label {background-color: #d4ebff;}#sk-container-id-7 div.sk-label input.sk-toggleable__control:checked~label.sk-toggleable__label {background-color: #d4ebff;}#sk-container-id-7 input.sk-hidden--visually {border: 0;clip: rect(1px 1px 1px 1px);clip: rect(1px, 1px, 1px, 1px);height: 1px;margin: -1px;overflow: hidden;padding: 0;position: absolute;width: 1px;}#sk-container-id-7 div.sk-estimator {font-family: monospace;background-color: #f0f8ff;border: 1px dotted black;border-radius: 0.25em;box-sizing: border-box;margin-bottom: 0.5em;}#sk-container-id-7 div.sk-estimator:hover {background-color: #d4ebff;}#sk-container-id-7 div.sk-parallel-item::after {content: \"\";width: 100%;border-bottom: 1px solid gray;flex-grow: 1;}#sk-container-id-7 div.sk-label:hover label.sk-toggleable__label {background-color: #d4ebff;}#sk-container-id-7 div.sk-serial::before {content: \"\";position: absolute;border-left: 1px solid gray;box-sizing: border-box;top: 0;bottom: 0;left: 50%;z-index: 0;}#sk-container-id-7 div.sk-serial {display: flex;flex-direction: column;align-items: center;background-color: white;padding-right: 0.2em;padding-left: 0.2em;position: relative;}#sk-container-id-7 div.sk-item {position: relative;z-index: 1;}#sk-container-id-7 div.sk-parallel {display: flex;align-items: stretch;justify-content: center;background-color: white;position: relative;}#sk-container-id-7 div.sk-item::before, #sk-container-id-7 div.sk-parallel-item::before {content: \"\";position: absolute;border-left: 1px solid gray;box-sizing: border-box;top: 0;bottom: 0;left: 50%;z-index: -1;}#sk-container-id-7 div.sk-parallel-item {display: flex;flex-direction: column;z-index: 1;position: relative;background-color: white;}#sk-container-id-7 div.sk-parallel-item:first-child::after {align-self: flex-end;width: 50%;}#sk-container-id-7 div.sk-parallel-item:last-child::after {align-self: flex-start;width: 50%;}#sk-container-id-7 div.sk-parallel-item:only-child::after {width: 0;}#sk-container-id-7 div.sk-dashed-wrapped {border: 1px dashed gray;margin: 0 0.4em 0.5em 0.4em;box-sizing: border-box;padding-bottom: 0.4em;background-color: white;}#sk-container-id-7 div.sk-label label {font-family: monospace;font-weight: bold;display: inline-block;line-height: 1.2em;}#sk-container-id-7 div.sk-label-container {text-align: center;}#sk-container-id-7 div.sk-container {/* jupyter's `normalize.less` sets `[hidden] { display: none; }` but bootstrap.min.css set `[hidden] { display: none !important; }` so we also need the `!important` here to be able to override the default hidden behavior on the sphinx rendered scikit-learn.org. See: https://github.com/scikit-learn/scikit-learn/issues/21755 */display: inline-block !important;position: relative;}#sk-container-id-7 div.sk-text-repr-fallback {display: none;}</style><div id=\"sk-container-id-7\" class=\"sk-top-container\"><div class=\"sk-text-repr-fallback\"><pre>StackingClassifier(estimators=[(&#x27;ada_pipe&#x27;,\n",
       "                                Pipeline(steps=[(&#x27;tf&#x27;, TfidfVectorizer()),\n",
       "                                                (&#x27;ada&#x27;,\n",
       "                                                 AdaBoostClassifier(learning_rate=0.7,\n",
       "                                                                    n_estimators=300,\n",
       "                                                                    random_state=42))])),\n",
       "                               (&#x27;cvec_nb&#x27;,\n",
       "                                Pipeline(steps=[(&#x27;cvec&#x27;, CountVectorizer()),\n",
       "                                                (&#x27;nb&#x27;,\n",
       "                                                 MultinomialNB(alpha=0.3))]))],\n",
       "                   final_estimator=LogisticRegression(C=10, max_iter=5000,\n",
       "                                                      penalty=&#x27;l1&#x27;,\n",
       "                                                      random_state=42,\n",
       "                                                      solver=&#x27;saga&#x27;))</pre><b>In a Jupyter environment, please rerun this cell to show the HTML representation or trust the notebook. <br />On GitHub, the HTML representation is unable to render, please try loading this page with nbviewer.org.</b></div><div class=\"sk-container\" hidden><div class=\"sk-item sk-dashed-wrapped\"><div class=\"sk-label-container\"><div class=\"sk-label sk-toggleable\"><input class=\"sk-toggleable__control sk-hidden--visually\" id=\"sk-estimator-id-46\" type=\"checkbox\" ><label for=\"sk-estimator-id-46\" class=\"sk-toggleable__label sk-toggleable__label-arrow\">StackingClassifier</label><div class=\"sk-toggleable__content\"><pre>StackingClassifier(estimators=[(&#x27;ada_pipe&#x27;,\n",
       "                                Pipeline(steps=[(&#x27;tf&#x27;, TfidfVectorizer()),\n",
       "                                                (&#x27;ada&#x27;,\n",
       "                                                 AdaBoostClassifier(learning_rate=0.7,\n",
       "                                                                    n_estimators=300,\n",
       "                                                                    random_state=42))])),\n",
       "                               (&#x27;cvec_nb&#x27;,\n",
       "                                Pipeline(steps=[(&#x27;cvec&#x27;, CountVectorizer()),\n",
       "                                                (&#x27;nb&#x27;,\n",
       "                                                 MultinomialNB(alpha=0.3))]))],\n",
       "                   final_estimator=LogisticRegression(C=10, max_iter=5000,\n",
       "                                                      penalty=&#x27;l1&#x27;,\n",
       "                                                      random_state=42,\n",
       "                                                      solver=&#x27;saga&#x27;))</pre></div></div></div><div class=\"sk-serial\"><div class=\"sk-item\"><div class=\"sk-parallel\"><div class=\"sk-parallel-item\"><div class=\"sk-item\"><div class=\"sk-label-container\"><div class=\"sk-label sk-toggleable\"><label>ada_pipe</label></div></div><div class=\"sk-serial\"><div class=\"sk-item\"><div class=\"sk-serial\"><div class=\"sk-item\"><div class=\"sk-estimator sk-toggleable\"><input class=\"sk-toggleable__control sk-hidden--visually\" id=\"sk-estimator-id-47\" type=\"checkbox\" ><label for=\"sk-estimator-id-47\" class=\"sk-toggleable__label sk-toggleable__label-arrow\">TfidfVectorizer</label><div class=\"sk-toggleable__content\"><pre>TfidfVectorizer()</pre></div></div></div><div class=\"sk-item\"><div class=\"sk-estimator sk-toggleable\"><input class=\"sk-toggleable__control sk-hidden--visually\" id=\"sk-estimator-id-48\" type=\"checkbox\" ><label for=\"sk-estimator-id-48\" class=\"sk-toggleable__label sk-toggleable__label-arrow\">AdaBoostClassifier</label><div class=\"sk-toggleable__content\"><pre>AdaBoostClassifier(learning_rate=0.7, n_estimators=300, random_state=42)</pre></div></div></div></div></div></div></div></div><div class=\"sk-parallel-item\"><div class=\"sk-item\"><div class=\"sk-label-container\"><div class=\"sk-label sk-toggleable\"><label>cvec_nb</label></div></div><div class=\"sk-serial\"><div class=\"sk-item\"><div class=\"sk-serial\"><div class=\"sk-item\"><div class=\"sk-estimator sk-toggleable\"><input class=\"sk-toggleable__control sk-hidden--visually\" id=\"sk-estimator-id-49\" type=\"checkbox\" ><label for=\"sk-estimator-id-49\" class=\"sk-toggleable__label sk-toggleable__label-arrow\">CountVectorizer</label><div class=\"sk-toggleable__content\"><pre>CountVectorizer()</pre></div></div></div><div class=\"sk-item\"><div class=\"sk-estimator sk-toggleable\"><input class=\"sk-toggleable__control sk-hidden--visually\" id=\"sk-estimator-id-50\" type=\"checkbox\" ><label for=\"sk-estimator-id-50\" class=\"sk-toggleable__label sk-toggleable__label-arrow\">MultinomialNB</label><div class=\"sk-toggleable__content\"><pre>MultinomialNB(alpha=0.3)</pre></div></div></div></div></div></div></div></div></div></div><div class=\"sk-item\"><div class=\"sk-parallel\"><div class=\"sk-parallel-item\"><div class=\"sk-item\"><div class=\"sk-label-container\"><div class=\"sk-label sk-toggleable\"><label>final_estimator</label></div></div><div class=\"sk-serial\"><div class=\"sk-item\"><div class=\"sk-estimator sk-toggleable\"><input class=\"sk-toggleable__control sk-hidden--visually\" id=\"sk-estimator-id-51\" type=\"checkbox\" ><label for=\"sk-estimator-id-51\" class=\"sk-toggleable__label sk-toggleable__label-arrow\">LogisticRegression</label><div class=\"sk-toggleable__content\"><pre>LogisticRegression(C=10, max_iter=5000, penalty=&#x27;l1&#x27;, random_state=42,\n",
       "                   solver=&#x27;saga&#x27;)</pre></div></div></div></div></div></div></div></div></div></div></div></div>"
      ],
      "text/plain": [
       "StackingClassifier(estimators=[('ada_pipe',\n",
       "                                Pipeline(steps=[('tf', TfidfVectorizer()),\n",
       "                                                ('ada',\n",
       "                                                 AdaBoostClassifier(learning_rate=0.7,\n",
       "                                                                    n_estimators=300,\n",
       "                                                                    random_state=42))])),\n",
       "                               ('cvec_nb',\n",
       "                                Pipeline(steps=[('cvec', CountVectorizer()),\n",
       "                                                ('nb',\n",
       "                                                 MultinomialNB(alpha=0.3))]))],\n",
       "                   final_estimator=LogisticRegression(C=10, max_iter=5000,\n",
       "                                                      penalty='l1',\n",
       "                                                      random_state=42,\n",
       "                                                      solver='saga'))"
      ]
     },
     "execution_count": 258,
     "metadata": {},
     "output_type": "execute_result"
    }
   ],
   "source": [
    "stacked_model_2.fit(X_train, y_train)"
   ]
  },
  {
   "cell_type": "code",
   "execution_count": 259,
   "id": "ef5afafa-0a06-4f1f-9187-6be39887887b",
   "metadata": {},
   "outputs": [
    {
     "name": "stdout",
     "output_type": "stream",
     "text": [
      "Training score: 0.9146478873239436\n",
      "Testing score: 0.6984797297297297\n"
     ]
    }
   ],
   "source": [
    "print(f'Training score: {stacked_model_2.score(X_train, y_train)}')\n",
    "print(f'Testing score: {stacked_model_2.score(X_test, y_test)}')"
   ]
  },
  {
   "cell_type": "code",
   "execution_count": 260,
   "id": "230f56c4-db3b-4151-ba6c-7589b9c17eb9",
   "metadata": {},
   "outputs": [
    {
     "data": {
      "text/plain": [
       "0.6984467603271896"
      ]
     },
     "execution_count": 260,
     "metadata": {},
     "output_type": "execute_result"
    }
   ],
   "source": [
    "preds = stacked_model_2.predict(X_test)\n",
    "f1 = f1_score(y_test, preds, average='weighted')\n",
    "f1"
   ]
  },
  {
   "cell_type": "code",
   "execution_count": 262,
   "id": "90f9a3d8-1034-4bf3-a045-8f8a656e30b9",
   "metadata": {},
   "outputs": [],
   "source": [
    "# As it can be seen from above results, ADA + DecisionTree was less overfit, but had lower f1 score, whereas ADA + MultiomialNB had better f1 score, but was very overfit. "
   ]
  },
  {
   "cell_type": "markdown",
   "id": "5dc94129-25c1-4081-9faf-8e093ab03a78",
   "metadata": {},
   "source": [
    "---"
   ]
  },
  {
   "cell_type": "code",
   "execution_count": 261,
   "id": "c3dda8ee-e225-4bb9-9153-803231062916",
   "metadata": {},
   "outputs": [],
   "source": [
    "# For the educational purposes, let's see how voting classifier works on our data: "
   ]
  },
  {
   "cell_type": "code",
   "execution_count": 102,
   "id": "debb5543-330d-4381-8423-cf501e58c384",
   "metadata": {},
   "outputs": [],
   "source": [
    "cv = CountVectorizer()"
   ]
  },
  {
   "cell_type": "code",
   "execution_count": 103,
   "id": "05708ef3-9edf-4d97-b61a-680cb95377d0",
   "metadata": {},
   "outputs": [],
   "source": [
    "X_train_cv = cv.fit_transform(X_train)\n",
    "X_test_cv = cv.transform(X_test)"
   ]
  },
  {
   "cell_type": "code",
   "execution_count": 263,
   "id": "eacad67b-8070-4c97-900a-375b79d9a4c5",
   "metadata": {},
   "outputs": [
    {
     "name": "stdout",
     "output_type": "stream",
     "text": [
      "0.6847887323943661\n"
     ]
    }
   ],
   "source": [
    "vote = VotingClassifier([\n",
    "    ('ada', AdaBoostClassifier()),\n",
    "    ('gb', GradientBoostingClassifier()),\n",
    "    ('nb', MultinomialNB())\n",
    "])\n",
    "\n",
    "vote_params = {\n",
    "    'ada__n_estimators':[50, 75],\n",
    "    'gb__n_estimators':[100],\n",
    "    'nb__alpha': [0.1, 0.2, 0.3]\n",
    "}\n",
    "\n",
    "gs = GridSearchCV(vote, param_grid=vote_params)\n",
    "\n",
    "gs.fit(X_train_cv, y_train)\n",
    "print(gs.best_score_)"
   ]
  },
  {
   "cell_type": "code",
   "execution_count": 109,
   "id": "18fa8b7a-54d0-403a-80d9-e47a2525fbe8",
   "metadata": {},
   "outputs": [
    {
     "data": {
      "text/plain": [
       "0.6773648648648649"
      ]
     },
     "execution_count": 109,
     "metadata": {},
     "output_type": "execute_result"
    }
   ],
   "source": [
    "gs.score(X_test_cv, y_test)"
   ]
  },
  {
   "cell_type": "code",
   "execution_count": 264,
   "id": "b7b9fee7-16c4-4dee-b9a5-90b9bd28a634",
   "metadata": {},
   "outputs": [
    {
     "data": {
      "text/plain": [
       "0.6704915183633158"
      ]
     },
     "execution_count": 264,
     "metadata": {},
     "output_type": "execute_result"
    }
   ],
   "source": [
    "preds = gs.predict(X_test_cv)\n",
    "f1 = f1_score(y_test, preds, average='weighted')\n",
    "f1"
   ]
  },
  {
   "cell_type": "code",
   "execution_count": null,
   "id": "94a486ed-3992-426a-aa6d-fc9888a8ddb9",
   "metadata": {},
   "outputs": [],
   "source": [
    "# This model is also performing similarly to the previous ones. \n",
    "# The f1 score is not getting much higher than ~70% \n",
    "\n",
    "# This could probably be the upper limit for the model since a lot of topics in these two subredits are overlapping and \n",
    "# the r/Parents subreddit can be considered like an umbrella for the r/toddlers subreddit. \n",
    "# We can live with the false positives, because the add will be seen by the parents who are don't have toddlers but chances that they have friends with toddlers \n",
    "# or are having a baby who is about to grow into a toddler are pretty high. \n",
    "# Since in the parents who have toddlers also read and post on r/Parents subreddit and vise versa."
   ]
  }
 ],
 "metadata": {
  "kernelspec": {
   "display_name": "Python 3 (ipykernel)",
   "language": "python",
   "name": "python3"
  },
  "language_info": {
   "codemirror_mode": {
    "name": "ipython",
    "version": 3
   },
   "file_extension": ".py",
   "mimetype": "text/x-python",
   "name": "python",
   "nbconvert_exporter": "python",
   "pygments_lexer": "ipython3",
   "version": "3.9.13"
  }
 },
 "nbformat": 4,
 "nbformat_minor": 5
}
