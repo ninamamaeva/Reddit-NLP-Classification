{
 "cells": [
  {
   "cell_type": "code",
   "execution_count": 270,
   "id": "38bf6280-6c34-4b93-b89b-b902175ed850",
   "metadata": {},
   "outputs": [],
   "source": [
    "import pandas as pd\n",
    "import numpy as np\n",
    "import matplotlib.pyplot as plt\n",
    "import seaborn as sns\n",
    "\n",
    "import nltk\n",
    "import re\n",
    "from nltk.corpus import stopwords\n",
    "from collections import Counter"
   ]
  },
  {
   "cell_type": "code",
   "execution_count": 271,
   "id": "6f6269c4-3a4e-4a50-a065-a58091e66e3b",
   "metadata": {},
   "outputs": [
    {
     "data": {
      "text/html": [
       "<div>\n",
       "<style scoped>\n",
       "    .dataframe tbody tr th:only-of-type {\n",
       "        vertical-align: middle;\n",
       "    }\n",
       "\n",
       "    .dataframe tbody tr th {\n",
       "        vertical-align: top;\n",
       "    }\n",
       "\n",
       "    .dataframe thead th {\n",
       "        text-align: right;\n",
       "    }\n",
       "</style>\n",
       "<table border=\"1\" class=\"dataframe\">\n",
       "  <thead>\n",
       "    <tr style=\"text-align: right;\">\n",
       "      <th></th>\n",
       "      <th>all_awardings</th>\n",
       "      <th>allow_live_comments</th>\n",
       "      <th>author</th>\n",
       "      <th>author_flair_css_class</th>\n",
       "      <th>author_flair_richtext</th>\n",
       "      <th>author_flair_text</th>\n",
       "      <th>author_flair_type</th>\n",
       "      <th>author_fullname</th>\n",
       "      <th>author_is_blocked</th>\n",
       "      <th>author_patreon_flair</th>\n",
       "      <th>...</th>\n",
       "      <th>post_hint</th>\n",
       "      <th>preview</th>\n",
       "      <th>removed_by_category</th>\n",
       "      <th>author_flair_template_id</th>\n",
       "      <th>author_flair_text_color</th>\n",
       "      <th>author_flair_background_color</th>\n",
       "      <th>banned_by</th>\n",
       "      <th>author_cakeday</th>\n",
       "      <th>thumbnail_height</th>\n",
       "      <th>thumbnail_width</th>\n",
       "    </tr>\n",
       "  </thead>\n",
       "  <tbody>\n",
       "    <tr>\n",
       "      <th>0</th>\n",
       "      <td>[]</td>\n",
       "      <td>False</td>\n",
       "      <td>lauraliegrace</td>\n",
       "      <td>NaN</td>\n",
       "      <td>[]</td>\n",
       "      <td>NaN</td>\n",
       "      <td>text</td>\n",
       "      <td>t2_oc4xg</td>\n",
       "      <td>False</td>\n",
       "      <td>False</td>\n",
       "      <td>...</td>\n",
       "      <td>NaN</td>\n",
       "      <td>NaN</td>\n",
       "      <td>NaN</td>\n",
       "      <td>NaN</td>\n",
       "      <td>NaN</td>\n",
       "      <td>NaN</td>\n",
       "      <td>NaN</td>\n",
       "      <td>NaN</td>\n",
       "      <td>NaN</td>\n",
       "      <td>NaN</td>\n",
       "    </tr>\n",
       "    <tr>\n",
       "      <th>1</th>\n",
       "      <td>[]</td>\n",
       "      <td>False</td>\n",
       "      <td>comethobnob</td>\n",
       "      <td>NaN</td>\n",
       "      <td>[]</td>\n",
       "      <td>NaN</td>\n",
       "      <td>text</td>\n",
       "      <td>t2_4u1vzsxy</td>\n",
       "      <td>False</td>\n",
       "      <td>False</td>\n",
       "      <td>...</td>\n",
       "      <td>NaN</td>\n",
       "      <td>NaN</td>\n",
       "      <td>NaN</td>\n",
       "      <td>NaN</td>\n",
       "      <td>NaN</td>\n",
       "      <td>NaN</td>\n",
       "      <td>NaN</td>\n",
       "      <td>NaN</td>\n",
       "      <td>NaN</td>\n",
       "      <td>NaN</td>\n",
       "    </tr>\n",
       "    <tr>\n",
       "      <th>2</th>\n",
       "      <td>[]</td>\n",
       "      <td>False</td>\n",
       "      <td>Goback2dreaming</td>\n",
       "      <td>NaN</td>\n",
       "      <td>[]</td>\n",
       "      <td>NaN</td>\n",
       "      <td>text</td>\n",
       "      <td>t2_3kuan4ms</td>\n",
       "      <td>False</td>\n",
       "      <td>False</td>\n",
       "      <td>...</td>\n",
       "      <td>NaN</td>\n",
       "      <td>NaN</td>\n",
       "      <td>NaN</td>\n",
       "      <td>NaN</td>\n",
       "      <td>NaN</td>\n",
       "      <td>NaN</td>\n",
       "      <td>NaN</td>\n",
       "      <td>NaN</td>\n",
       "      <td>NaN</td>\n",
       "      <td>NaN</td>\n",
       "    </tr>\n",
       "    <tr>\n",
       "      <th>3</th>\n",
       "      <td>[]</td>\n",
       "      <td>False</td>\n",
       "      <td>mamaleti</td>\n",
       "      <td>NaN</td>\n",
       "      <td>[]</td>\n",
       "      <td>NaN</td>\n",
       "      <td>text</td>\n",
       "      <td>t2_o7ta4rma</td>\n",
       "      <td>False</td>\n",
       "      <td>False</td>\n",
       "      <td>...</td>\n",
       "      <td>NaN</td>\n",
       "      <td>NaN</td>\n",
       "      <td>NaN</td>\n",
       "      <td>NaN</td>\n",
       "      <td>NaN</td>\n",
       "      <td>NaN</td>\n",
       "      <td>NaN</td>\n",
       "      <td>NaN</td>\n",
       "      <td>NaN</td>\n",
       "      <td>NaN</td>\n",
       "    </tr>\n",
       "    <tr>\n",
       "      <th>4</th>\n",
       "      <td>[]</td>\n",
       "      <td>False</td>\n",
       "      <td>ptkhisti</td>\n",
       "      <td>NaN</td>\n",
       "      <td>[]</td>\n",
       "      <td>NaN</td>\n",
       "      <td>text</td>\n",
       "      <td>t2_krk5g2br</td>\n",
       "      <td>False</td>\n",
       "      <td>False</td>\n",
       "      <td>...</td>\n",
       "      <td>NaN</td>\n",
       "      <td>NaN</td>\n",
       "      <td>NaN</td>\n",
       "      <td>NaN</td>\n",
       "      <td>NaN</td>\n",
       "      <td>NaN</td>\n",
       "      <td>NaN</td>\n",
       "      <td>NaN</td>\n",
       "      <td>NaN</td>\n",
       "      <td>NaN</td>\n",
       "    </tr>\n",
       "  </tbody>\n",
       "</table>\n",
       "<p>5 rows × 75 columns</p>\n",
       "</div>"
      ],
      "text/plain": [
       "  all_awardings  allow_live_comments           author author_flair_css_class  \\\n",
       "0            []                False    lauraliegrace                    NaN   \n",
       "1            []                False      comethobnob                    NaN   \n",
       "2            []                False  Goback2dreaming                    NaN   \n",
       "3            []                False         mamaleti                    NaN   \n",
       "4            []                False         ptkhisti                    NaN   \n",
       "\n",
       "  author_flair_richtext author_flair_text author_flair_type author_fullname  \\\n",
       "0                    []               NaN              text        t2_oc4xg   \n",
       "1                    []               NaN              text     t2_4u1vzsxy   \n",
       "2                    []               NaN              text     t2_3kuan4ms   \n",
       "3                    []               NaN              text     t2_o7ta4rma   \n",
       "4                    []               NaN              text     t2_krk5g2br   \n",
       "\n",
       "   author_is_blocked author_patreon_flair  ... post_hint preview  \\\n",
       "0              False                False  ...       NaN     NaN   \n",
       "1              False                False  ...       NaN     NaN   \n",
       "2              False                False  ...       NaN     NaN   \n",
       "3              False                False  ...       NaN     NaN   \n",
       "4              False                False  ...       NaN     NaN   \n",
       "\n",
       "   removed_by_category  author_flair_template_id  author_flair_text_color  \\\n",
       "0                  NaN                       NaN                      NaN   \n",
       "1                  NaN                       NaN                      NaN   \n",
       "2                  NaN                       NaN                      NaN   \n",
       "3                  NaN                       NaN                      NaN   \n",
       "4                  NaN                       NaN                      NaN   \n",
       "\n",
       "  author_flair_background_color banned_by author_cakeday thumbnail_height  \\\n",
       "0                           NaN       NaN            NaN              NaN   \n",
       "1                           NaN       NaN            NaN              NaN   \n",
       "2                           NaN       NaN            NaN              NaN   \n",
       "3                           NaN       NaN            NaN              NaN   \n",
       "4                           NaN       NaN            NaN              NaN   \n",
       "\n",
       "   thumbnail_width  \n",
       "0              NaN  \n",
       "1              NaN  \n",
       "2              NaN  \n",
       "3              NaN  \n",
       "4              NaN  \n",
       "\n",
       "[5 rows x 75 columns]"
      ]
     },
     "execution_count": 271,
     "metadata": {},
     "output_type": "execute_result"
    }
   ],
   "source": [
    "# read the data:\n",
    "\n",
    "df_1 = pd.read_csv('../data/toddlers.csv')\n",
    "df_1.head()"
   ]
  },
  {
   "cell_type": "code",
   "execution_count": 272,
   "id": "2cefd2b2-615e-4e9f-b653-206cf83264ec",
   "metadata": {},
   "outputs": [
    {
     "data": {
      "text/html": [
       "<div>\n",
       "<style scoped>\n",
       "    .dataframe tbody tr th:only-of-type {\n",
       "        vertical-align: middle;\n",
       "    }\n",
       "\n",
       "    .dataframe tbody tr th {\n",
       "        vertical-align: top;\n",
       "    }\n",
       "\n",
       "    .dataframe thead th {\n",
       "        text-align: right;\n",
       "    }\n",
       "</style>\n",
       "<table border=\"1\" class=\"dataframe\">\n",
       "  <thead>\n",
       "    <tr style=\"text-align: right;\">\n",
       "      <th></th>\n",
       "      <th>all_awardings</th>\n",
       "      <th>allow_live_comments</th>\n",
       "      <th>author</th>\n",
       "      <th>author_flair_css_class</th>\n",
       "      <th>author_flair_richtext</th>\n",
       "      <th>author_flair_text</th>\n",
       "      <th>author_flair_type</th>\n",
       "      <th>author_fullname</th>\n",
       "      <th>author_is_blocked</th>\n",
       "      <th>author_patreon_flair</th>\n",
       "      <th>...</th>\n",
       "      <th>whitelist_status</th>\n",
       "      <th>wls</th>\n",
       "      <th>removed_by_category</th>\n",
       "      <th>post_hint</th>\n",
       "      <th>preview</th>\n",
       "      <th>author_cakeday</th>\n",
       "      <th>author_flair_background_color</th>\n",
       "      <th>author_flair_template_id</th>\n",
       "      <th>author_flair_text_color</th>\n",
       "      <th>banned_by</th>\n",
       "    </tr>\n",
       "  </thead>\n",
       "  <tbody>\n",
       "    <tr>\n",
       "      <th>0</th>\n",
       "      <td>[]</td>\n",
       "      <td>False</td>\n",
       "      <td>throwmeawayplz19373</td>\n",
       "      <td>NaN</td>\n",
       "      <td>[]</td>\n",
       "      <td>NaN</td>\n",
       "      <td>text</td>\n",
       "      <td>t2_mdgv2e7q</td>\n",
       "      <td>False</td>\n",
       "      <td>False</td>\n",
       "      <td>...</td>\n",
       "      <td>all_ads</td>\n",
       "      <td>6</td>\n",
       "      <td>NaN</td>\n",
       "      <td>NaN</td>\n",
       "      <td>NaN</td>\n",
       "      <td>NaN</td>\n",
       "      <td>NaN</td>\n",
       "      <td>NaN</td>\n",
       "      <td>NaN</td>\n",
       "      <td>NaN</td>\n",
       "    </tr>\n",
       "    <tr>\n",
       "      <th>1</th>\n",
       "      <td>[]</td>\n",
       "      <td>False</td>\n",
       "      <td>HireAFriendLLC</td>\n",
       "      <td>NaN</td>\n",
       "      <td>[]</td>\n",
       "      <td>NaN</td>\n",
       "      <td>text</td>\n",
       "      <td>t2_hpu5amfc</td>\n",
       "      <td>False</td>\n",
       "      <td>False</td>\n",
       "      <td>...</td>\n",
       "      <td>all_ads</td>\n",
       "      <td>6</td>\n",
       "      <td>NaN</td>\n",
       "      <td>NaN</td>\n",
       "      <td>NaN</td>\n",
       "      <td>NaN</td>\n",
       "      <td>NaN</td>\n",
       "      <td>NaN</td>\n",
       "      <td>NaN</td>\n",
       "      <td>NaN</td>\n",
       "    </tr>\n",
       "    <tr>\n",
       "      <th>2</th>\n",
       "      <td>[]</td>\n",
       "      <td>False</td>\n",
       "      <td>komosawa</td>\n",
       "      <td>NaN</td>\n",
       "      <td>[]</td>\n",
       "      <td>NaN</td>\n",
       "      <td>text</td>\n",
       "      <td>t2_5cp7w3qo</td>\n",
       "      <td>False</td>\n",
       "      <td>False</td>\n",
       "      <td>...</td>\n",
       "      <td>all_ads</td>\n",
       "      <td>6</td>\n",
       "      <td>NaN</td>\n",
       "      <td>NaN</td>\n",
       "      <td>NaN</td>\n",
       "      <td>NaN</td>\n",
       "      <td>NaN</td>\n",
       "      <td>NaN</td>\n",
       "      <td>NaN</td>\n",
       "      <td>NaN</td>\n",
       "    </tr>\n",
       "    <tr>\n",
       "      <th>3</th>\n",
       "      <td>[]</td>\n",
       "      <td>False</td>\n",
       "      <td>sherbshib</td>\n",
       "      <td>NaN</td>\n",
       "      <td>[]</td>\n",
       "      <td>NaN</td>\n",
       "      <td>text</td>\n",
       "      <td>t2_aso8jmm8</td>\n",
       "      <td>False</td>\n",
       "      <td>False</td>\n",
       "      <td>...</td>\n",
       "      <td>all_ads</td>\n",
       "      <td>6</td>\n",
       "      <td>NaN</td>\n",
       "      <td>NaN</td>\n",
       "      <td>NaN</td>\n",
       "      <td>NaN</td>\n",
       "      <td>NaN</td>\n",
       "      <td>NaN</td>\n",
       "      <td>NaN</td>\n",
       "      <td>NaN</td>\n",
       "    </tr>\n",
       "    <tr>\n",
       "      <th>4</th>\n",
       "      <td>[]</td>\n",
       "      <td>False</td>\n",
       "      <td>fatcatdad66</td>\n",
       "      <td>NaN</td>\n",
       "      <td>[]</td>\n",
       "      <td>NaN</td>\n",
       "      <td>text</td>\n",
       "      <td>t2_p5f58zbj</td>\n",
       "      <td>False</td>\n",
       "      <td>False</td>\n",
       "      <td>...</td>\n",
       "      <td>all_ads</td>\n",
       "      <td>6</td>\n",
       "      <td>automod_filtered</td>\n",
       "      <td>NaN</td>\n",
       "      <td>NaN</td>\n",
       "      <td>NaN</td>\n",
       "      <td>NaN</td>\n",
       "      <td>NaN</td>\n",
       "      <td>NaN</td>\n",
       "      <td>NaN</td>\n",
       "    </tr>\n",
       "  </tbody>\n",
       "</table>\n",
       "<p>5 rows × 70 columns</p>\n",
       "</div>"
      ],
      "text/plain": [
       "  all_awardings  allow_live_comments               author  \\\n",
       "0            []                False  throwmeawayplz19373   \n",
       "1            []                False       HireAFriendLLC   \n",
       "2            []                False             komosawa   \n",
       "3            []                False            sherbshib   \n",
       "4            []                False          fatcatdad66   \n",
       "\n",
       "   author_flair_css_class author_flair_richtext author_flair_text  \\\n",
       "0                     NaN                    []               NaN   \n",
       "1                     NaN                    []               NaN   \n",
       "2                     NaN                    []               NaN   \n",
       "3                     NaN                    []               NaN   \n",
       "4                     NaN                    []               NaN   \n",
       "\n",
       "  author_flair_type author_fullname  author_is_blocked author_patreon_flair  \\\n",
       "0              text     t2_mdgv2e7q              False                False   \n",
       "1              text     t2_hpu5amfc              False                False   \n",
       "2              text     t2_5cp7w3qo              False                False   \n",
       "3              text     t2_aso8jmm8              False                False   \n",
       "4              text     t2_p5f58zbj              False                False   \n",
       "\n",
       "   ... whitelist_status wls  removed_by_category  post_hint  preview  \\\n",
       "0  ...          all_ads   6                  NaN        NaN      NaN   \n",
       "1  ...          all_ads   6                  NaN        NaN      NaN   \n",
       "2  ...          all_ads   6                  NaN        NaN      NaN   \n",
       "3  ...          all_ads   6                  NaN        NaN      NaN   \n",
       "4  ...          all_ads   6     automod_filtered        NaN      NaN   \n",
       "\n",
       "  author_cakeday author_flair_background_color author_flair_template_id  \\\n",
       "0            NaN                           NaN                      NaN   \n",
       "1            NaN                           NaN                      NaN   \n",
       "2            NaN                           NaN                      NaN   \n",
       "3            NaN                           NaN                      NaN   \n",
       "4            NaN                           NaN                      NaN   \n",
       "\n",
       "  author_flair_text_color  banned_by  \n",
       "0                     NaN        NaN  \n",
       "1                     NaN        NaN  \n",
       "2                     NaN        NaN  \n",
       "3                     NaN        NaN  \n",
       "4                     NaN        NaN  \n",
       "\n",
       "[5 rows x 70 columns]"
      ]
     },
     "execution_count": 272,
     "metadata": {},
     "output_type": "execute_result"
    }
   ],
   "source": [
    "df_2 = pd.read_csv('../data/parents.csv')\n",
    "df_2.head()"
   ]
  },
  {
   "cell_type": "code",
   "execution_count": 317,
   "id": "61507bfa-468a-4e3f-99ee-9611a612f184",
   "metadata": {},
   "outputs": [
    {
     "data": {
      "text/plain": [
       "((2999, 75), (2996, 70))"
      ]
     },
     "execution_count": 317,
     "metadata": {},
     "output_type": "execute_result"
    }
   ],
   "source": [
    "# Check the shapes: \n",
    "\n",
    "df_1.shape, df_2.shape"
   ]
  },
  {
   "cell_type": "code",
   "execution_count": 318,
   "id": "f6dd5b8b-d08f-4194-9911-cdef6f136350",
   "metadata": {},
   "outputs": [
    {
     "data": {
      "text/plain": [
       "all_awardings                       0\n",
       "allow_live_comments                 0\n",
       "author                              0\n",
       "author_flair_css_class           2992\n",
       "author_flair_richtext               3\n",
       "                                 ... \n",
       "author_flair_background_color    2999\n",
       "banned_by                        2998\n",
       "author_cakeday                   2991\n",
       "thumbnail_height                 2993\n",
       "thumbnail_width                  2993\n",
       "Length: 75, dtype: int64"
      ]
     },
     "execution_count": 318,
     "metadata": {},
     "output_type": "execute_result"
    }
   ],
   "source": [
    "# Check for null values: \n",
    "\n",
    "df_1.isnull().sum()"
   ]
  },
  {
   "cell_type": "code",
   "execution_count": 319,
   "id": "bc73b411-4e3c-43c0-abf5-c8a28a963edd",
   "metadata": {},
   "outputs": [
    {
     "data": {
      "text/plain": [
       "all_awardings                       0\n",
       "allow_live_comments                 0\n",
       "author                              0\n",
       "author_flair_css_class           2996\n",
       "author_flair_richtext               6\n",
       "                                 ... \n",
       "author_cakeday                   2992\n",
       "author_flair_background_color    2964\n",
       "author_flair_template_id         2964\n",
       "author_flair_text_color          2956\n",
       "banned_by                        2990\n",
       "Length: 70, dtype: int64"
      ]
     },
     "execution_count": 319,
     "metadata": {},
     "output_type": "execute_result"
    }
   ],
   "source": [
    "df_2.isnull().sum()"
   ]
  },
  {
   "cell_type": "code",
   "execution_count": 277,
   "id": "327fae20-d1d6-446a-a913-e988be90ffe8",
   "metadata": {},
   "outputs": [
    {
     "data": {
      "text/plain": [
       "{'crosspost_parent',\n",
       " 'crosspost_parent_list',\n",
       " 'thumbnail_height',\n",
       " 'thumbnail_width',\n",
       " 'url_overridden_by_dest'}"
      ]
     },
     "execution_count": 277,
     "metadata": {},
     "output_type": "execute_result"
    }
   ],
   "source": [
    "# Different amount of columns: \n",
    "\n",
    "set(df_1.columns)-set(df_2.columns)"
   ]
  },
  {
   "cell_type": "code",
   "execution_count": 278,
   "id": "5575eba2-0871-47b3-a339-194e1ef5f5ad",
   "metadata": {},
   "outputs": [
    {
     "data": {
      "text/html": [
       "<div>\n",
       "<style scoped>\n",
       "    .dataframe tbody tr th:only-of-type {\n",
       "        vertical-align: middle;\n",
       "    }\n",
       "\n",
       "    .dataframe tbody tr th {\n",
       "        vertical-align: top;\n",
       "    }\n",
       "\n",
       "    .dataframe thead th {\n",
       "        text-align: right;\n",
       "    }\n",
       "</style>\n",
       "<table border=\"1\" class=\"dataframe\">\n",
       "  <thead>\n",
       "    <tr style=\"text-align: right;\">\n",
       "      <th></th>\n",
       "      <th>subreddit</th>\n",
       "      <th>title</th>\n",
       "      <th>selftext</th>\n",
       "      <th>created_utc</th>\n",
       "      <th>author</th>\n",
       "    </tr>\n",
       "  </thead>\n",
       "  <tbody>\n",
       "    <tr>\n",
       "      <th>0</th>\n",
       "      <td>toddlers</td>\n",
       "      <td>3-year-old with constant nightmares</td>\n",
       "      <td>I’m looking for advice with how to help my dau...</td>\n",
       "      <td>1664511751</td>\n",
       "      <td>lauraliegrace</td>\n",
       "    </tr>\n",
       "    <tr>\n",
       "      <th>1</th>\n",
       "      <td>toddlers</td>\n",
       "      <td>Am I doing something wrong or is my son going ...</td>\n",
       "      <td>So my son (3m) has always been with me, I used...</td>\n",
       "      <td>1664507973</td>\n",
       "      <td>comethobnob</td>\n",
       "    </tr>\n",
       "    <tr>\n",
       "      <th>2</th>\n",
       "      <td>toddlers</td>\n",
       "      <td>I feel like I'm falling my little daughter.</td>\n",
       "      <td>I'm a single mom of a 3 year old girl. I had a...</td>\n",
       "      <td>1664507151</td>\n",
       "      <td>Goback2dreaming</td>\n",
       "    </tr>\n",
       "    <tr>\n",
       "      <th>3</th>\n",
       "      <td>toddlers</td>\n",
       "      <td>How did you organize sleep hours once your tod...</td>\n",
       "      <td>If your child is at Pre-K, how many hours of s...</td>\n",
       "      <td>1664506846</td>\n",
       "      <td>mamaleti</td>\n",
       "    </tr>\n",
       "    <tr>\n",
       "      <th>4</th>\n",
       "      <td>toddlers</td>\n",
       "      <td>2 yrs toddler’s repetitive movements. concerns ?</td>\n",
       "      <td>I think i am overthinking but not sure. Our 2 ...</td>\n",
       "      <td>1664506140</td>\n",
       "      <td>ptkhisti</td>\n",
       "    </tr>\n",
       "  </tbody>\n",
       "</table>\n",
       "</div>"
      ],
      "text/plain": [
       "  subreddit                                              title  \\\n",
       "0  toddlers                3-year-old with constant nightmares   \n",
       "1  toddlers  Am I doing something wrong or is my son going ...   \n",
       "2  toddlers        I feel like I'm falling my little daughter.   \n",
       "3  toddlers  How did you organize sleep hours once your tod...   \n",
       "4  toddlers   2 yrs toddler’s repetitive movements. concerns ?   \n",
       "\n",
       "                                            selftext  created_utc  \\\n",
       "0  I’m looking for advice with how to help my dau...   1664511751   \n",
       "1  So my son (3m) has always been with me, I used...   1664507973   \n",
       "2  I'm a single mom of a 3 year old girl. I had a...   1664507151   \n",
       "3  If your child is at Pre-K, how many hours of s...   1664506846   \n",
       "4  I think i am overthinking but not sure. Our 2 ...   1664506140   \n",
       "\n",
       "            author  \n",
       "0    lauraliegrace  \n",
       "1      comethobnob  \n",
       "2  Goback2dreaming  \n",
       "3         mamaleti  \n",
       "4         ptkhisti  "
      ]
     },
     "execution_count": 278,
     "metadata": {},
     "output_type": "execute_result"
    }
   ],
   "source": [
    "# Drop the columns that have a lot of zeros and that carry no particular information which can be used in theis project.\n",
    "# We'll need the name of the subreddit, the title of the post, the actual text of the post, the author's name, time the post was created: \n",
    "\n",
    "toddlers = df_1[['subreddit', 'title', 'selftext', 'created_utc', 'author']]\n",
    "toddlers.head()"
   ]
  },
  {
   "cell_type": "code",
   "execution_count": 279,
   "id": "2159e8bb-7bb0-41a6-aa3f-4f29dff5cd1c",
   "metadata": {},
   "outputs": [
    {
     "data": {
      "text/html": [
       "<div>\n",
       "<style scoped>\n",
       "    .dataframe tbody tr th:only-of-type {\n",
       "        vertical-align: middle;\n",
       "    }\n",
       "\n",
       "    .dataframe tbody tr th {\n",
       "        vertical-align: top;\n",
       "    }\n",
       "\n",
       "    .dataframe thead th {\n",
       "        text-align: right;\n",
       "    }\n",
       "</style>\n",
       "<table border=\"1\" class=\"dataframe\">\n",
       "  <thead>\n",
       "    <tr style=\"text-align: right;\">\n",
       "      <th></th>\n",
       "      <th>subreddit</th>\n",
       "      <th>title</th>\n",
       "      <th>selftext</th>\n",
       "      <th>created_utc</th>\n",
       "      <th>author</th>\n",
       "    </tr>\n",
       "  </thead>\n",
       "  <tbody>\n",
       "    <tr>\n",
       "      <th>0</th>\n",
       "      <td>Parenting</td>\n",
       "      <td>My 11 year old was a product of rape. I am not...</td>\n",
       "      <td>The rape was when I was 18 with a guy I had be...</td>\n",
       "      <td>1664513977</td>\n",
       "      <td>throwmeawayplz19373</td>\n",
       "    </tr>\n",
       "    <tr>\n",
       "      <th>1</th>\n",
       "      <td>Parenting</td>\n",
       "      <td>My child’s teacher told us to take ivermectin</td>\n",
       "      <td>Please only respond if you’re pro science. I’m...</td>\n",
       "      <td>1664512319</td>\n",
       "      <td>HireAFriendLLC</td>\n",
       "    </tr>\n",
       "    <tr>\n",
       "      <th>2</th>\n",
       "      <td>Parenting</td>\n",
       "      <td>road trip with 15 month old</td>\n",
       "      <td>Hi parents,\\n\\nHaving to take a five hour driv...</td>\n",
       "      <td>1664512127</td>\n",
       "      <td>komosawa</td>\n",
       "    </tr>\n",
       "    <tr>\n",
       "      <th>3</th>\n",
       "      <td>Parenting</td>\n",
       "      <td>Leaving my baby with my parents overnight once...</td>\n",
       "      <td>My baby has a sleepover at my mother’s house a...</td>\n",
       "      <td>1664511448</td>\n",
       "      <td>sherbshib</td>\n",
       "    </tr>\n",
       "    <tr>\n",
       "      <th>4</th>\n",
       "      <td>Parenting</td>\n",
       "      <td>Daughter rages when I mention anything to do w...</td>\n",
       "      <td>[removed]</td>\n",
       "      <td>1664510381</td>\n",
       "      <td>fatcatdad66</td>\n",
       "    </tr>\n",
       "  </tbody>\n",
       "</table>\n",
       "</div>"
      ],
      "text/plain": [
       "   subreddit                                              title  \\\n",
       "0  Parenting  My 11 year old was a product of rape. I am not...   \n",
       "1  Parenting      My child’s teacher told us to take ivermectin   \n",
       "2  Parenting                        road trip with 15 month old   \n",
       "3  Parenting  Leaving my baby with my parents overnight once...   \n",
       "4  Parenting  Daughter rages when I mention anything to do w...   \n",
       "\n",
       "                                            selftext  created_utc  \\\n",
       "0  The rape was when I was 18 with a guy I had be...   1664513977   \n",
       "1  Please only respond if you’re pro science. I’m...   1664512319   \n",
       "2  Hi parents,\\n\\nHaving to take a five hour driv...   1664512127   \n",
       "3  My baby has a sleepover at my mother’s house a...   1664511448   \n",
       "4                                          [removed]   1664510381   \n",
       "\n",
       "                author  \n",
       "0  throwmeawayplz19373  \n",
       "1       HireAFriendLLC  \n",
       "2             komosawa  \n",
       "3            sherbshib  \n",
       "4          fatcatdad66  "
      ]
     },
     "execution_count": 279,
     "metadata": {},
     "output_type": "execute_result"
    }
   ],
   "source": [
    "parents = df_2[['subreddit', 'title', 'selftext', 'created_utc', 'author']]\n",
    "parents.head()"
   ]
  },
  {
   "cell_type": "code",
   "execution_count": 280,
   "id": "8e5429a2-89bf-49d9-b194-65df238a83a6",
   "metadata": {},
   "outputs": [
    {
     "data": {
      "text/plain": [
       "131"
      ]
     },
     "execution_count": 280,
     "metadata": {},
     "output_type": "execute_result"
    }
   ],
   "source": [
    "# Check for empty posts in toddlers: \n",
    "\n",
    "toddlers['selftext'].isnull().sum()"
   ]
  },
  {
   "cell_type": "code",
   "execution_count": 281,
   "id": "dae5595e-a910-49d7-bcb1-64db5e208966",
   "metadata": {},
   "outputs": [
    {
     "data": {
      "text/html": [
       "<div>\n",
       "<style scoped>\n",
       "    .dataframe tbody tr th:only-of-type {\n",
       "        vertical-align: middle;\n",
       "    }\n",
       "\n",
       "    .dataframe tbody tr th {\n",
       "        vertical-align: top;\n",
       "    }\n",
       "\n",
       "    .dataframe thead th {\n",
       "        text-align: right;\n",
       "    }\n",
       "</style>\n",
       "<table border=\"1\" class=\"dataframe\">\n",
       "  <thead>\n",
       "    <tr style=\"text-align: right;\">\n",
       "      <th></th>\n",
       "      <th>subreddit</th>\n",
       "      <th>title</th>\n",
       "      <th>selftext</th>\n",
       "      <th>created_utc</th>\n",
       "      <th>author</th>\n",
       "    </tr>\n",
       "  </thead>\n",
       "  <tbody>\n",
       "    <tr>\n",
       "      <th>14</th>\n",
       "      <td>toddlers</td>\n",
       "      <td>What hair products do you use for your child’s...</td>\n",
       "      <td>NaN</td>\n",
       "      <td>1664495943</td>\n",
       "      <td>luvdez</td>\n",
       "    </tr>\n",
       "    <tr>\n",
       "      <th>29</th>\n",
       "      <td>toddlers</td>\n",
       "      <td>toddler irritated and not eating?</td>\n",
       "      <td>NaN</td>\n",
       "      <td>1664478683</td>\n",
       "      <td>Lumpy_Scientist_5466</td>\n",
       "    </tr>\n",
       "    <tr>\n",
       "      <th>61</th>\n",
       "      <td>toddlers</td>\n",
       "      <td>I went to a business travel for 3 days and was...</td>\n",
       "      <td>NaN</td>\n",
       "      <td>1664413113</td>\n",
       "      <td>Upbeat_Network_9452</td>\n",
       "    </tr>\n",
       "    <tr>\n",
       "      <th>69</th>\n",
       "      <td>toddlers</td>\n",
       "      <td>Need to update our toddler book options. What ...</td>\n",
       "      <td>NaN</td>\n",
       "      <td>1664405185</td>\n",
       "      <td>steadyachiever</td>\n",
       "    </tr>\n",
       "    <tr>\n",
       "      <th>74</th>\n",
       "      <td>toddlers</td>\n",
       "      <td>begbugs at daycare?!</td>\n",
       "      <td>NaN</td>\n",
       "      <td>1664399638</td>\n",
       "      <td>ilovemyassholecat</td>\n",
       "    </tr>\n",
       "    <tr>\n",
       "      <th>...</th>\n",
       "      <td>...</td>\n",
       "      <td>...</td>\n",
       "      <td>...</td>\n",
       "      <td>...</td>\n",
       "      <td>...</td>\n",
       "    </tr>\n",
       "    <tr>\n",
       "      <th>2900</th>\n",
       "      <td>toddlers</td>\n",
       "      <td>Biting</td>\n",
       "      <td>NaN</td>\n",
       "      <td>1660153505</td>\n",
       "      <td>Living_Watercress</td>\n",
       "    </tr>\n",
       "    <tr>\n",
       "      <th>2907</th>\n",
       "      <td>toddlers</td>\n",
       "      <td>Weaning and eating</td>\n",
       "      <td>NaN</td>\n",
       "      <td>1660146170</td>\n",
       "      <td>cheddarchups</td>\n",
       "    </tr>\n",
       "    <tr>\n",
       "      <th>2941</th>\n",
       "      <td>toddlers</td>\n",
       "      <td>My 3yr old son can't sit through the circle ti...</td>\n",
       "      <td>NaN</td>\n",
       "      <td>1660092332</td>\n",
       "      <td>PastAside6327</td>\n",
       "    </tr>\n",
       "    <tr>\n",
       "      <th>2954</th>\n",
       "      <td>toddlers</td>\n",
       "      <td>Is anyone else guilty of skipping pages in a b...</td>\n",
       "      <td>NaN</td>\n",
       "      <td>1660079572</td>\n",
       "      <td>kwestwood186</td>\n",
       "    </tr>\n",
       "    <tr>\n",
       "      <th>2980</th>\n",
       "      <td>toddlers</td>\n",
       "      <td>How fast can a toddler learn a language?</td>\n",
       "      <td>NaN</td>\n",
       "      <td>1660052391</td>\n",
       "      <td>kammeh_</td>\n",
       "    </tr>\n",
       "  </tbody>\n",
       "</table>\n",
       "<p>131 rows × 5 columns</p>\n",
       "</div>"
      ],
      "text/plain": [
       "     subreddit                                              title selftext  \\\n",
       "14    toddlers  What hair products do you use for your child’s...      NaN   \n",
       "29    toddlers                  toddler irritated and not eating?      NaN   \n",
       "61    toddlers  I went to a business travel for 3 days and was...      NaN   \n",
       "69    toddlers  Need to update our toddler book options. What ...      NaN   \n",
       "74    toddlers                               begbugs at daycare?!      NaN   \n",
       "...        ...                                                ...      ...   \n",
       "2900  toddlers                                             Biting      NaN   \n",
       "2907  toddlers                                 Weaning and eating      NaN   \n",
       "2941  toddlers  My 3yr old son can't sit through the circle ti...      NaN   \n",
       "2954  toddlers  Is anyone else guilty of skipping pages in a b...      NaN   \n",
       "2980  toddlers           How fast can a toddler learn a language?      NaN   \n",
       "\n",
       "      created_utc                author  \n",
       "14     1664495943                luvdez  \n",
       "29     1664478683  Lumpy_Scientist_5466  \n",
       "61     1664413113   Upbeat_Network_9452  \n",
       "69     1664405185        steadyachiever  \n",
       "74     1664399638     ilovemyassholecat  \n",
       "...           ...                   ...  \n",
       "2900   1660153505     Living_Watercress  \n",
       "2907   1660146170          cheddarchups  \n",
       "2941   1660092332         PastAside6327  \n",
       "2954   1660079572          kwestwood186  \n",
       "2980   1660052391               kammeh_  \n",
       "\n",
       "[131 rows x 5 columns]"
      ]
     },
     "execution_count": 281,
     "metadata": {},
     "output_type": "execute_result"
    }
   ],
   "source": [
    "toddlers[toddlers['selftext'].isnull()]"
   ]
  },
  {
   "cell_type": "code",
   "execution_count": 282,
   "id": "1e887a2d-aa3e-481f-8d37-ec0b9349cfd3",
   "metadata": {},
   "outputs": [],
   "source": [
    "# Drop these rows:\n",
    "\n",
    "toddlers = toddlers[toddlers['selftext'].notnull()]"
   ]
  },
  {
   "cell_type": "code",
   "execution_count": 283,
   "id": "8f2d6dba-bd04-4721-a583-dd74ecc2b01e",
   "metadata": {},
   "outputs": [
    {
     "data": {
      "text/plain": [
       "0"
      ]
     },
     "execution_count": 283,
     "metadata": {},
     "output_type": "execute_result"
    }
   ],
   "source": [
    "toddlers['selftext'].isnull().sum()"
   ]
  },
  {
   "cell_type": "code",
   "execution_count": 284,
   "id": "b9d12daf-b3fe-490c-a3fe-5dfc3b65c6b2",
   "metadata": {},
   "outputs": [
    {
     "data": {
      "text/plain": [
       "subreddit      0\n",
       "title          0\n",
       "selftext       0\n",
       "created_utc    0\n",
       "author         0\n",
       "dtype: int64"
      ]
     },
     "execution_count": 284,
     "metadata": {},
     "output_type": "execute_result"
    }
   ],
   "source": [
    "# Check for null values in toddlers:\n",
    "\n",
    "toddlers.isnull().sum()"
   ]
  },
  {
   "cell_type": "code",
   "execution_count": 285,
   "id": "77f16432-6afb-4b29-a488-c1aee50a8510",
   "metadata": {},
   "outputs": [
    {
     "data": {
      "text/plain": [
       "6"
      ]
     },
     "execution_count": 285,
     "metadata": {},
     "output_type": "execute_result"
    }
   ],
   "source": [
    "# Check for empty posts in parents: \n",
    "\n",
    "parents['selftext'].isnull().sum()"
   ]
  },
  {
   "cell_type": "code",
   "execution_count": 286,
   "id": "c4124cf9-838a-4fbd-98c8-77d5a9f70d74",
   "metadata": {},
   "outputs": [],
   "source": [
    "# Drop these rows:\n",
    "\n",
    "parents = parents[parents['selftext'].notnull()]"
   ]
  },
  {
   "cell_type": "code",
   "execution_count": 287,
   "id": "3cc91231-2c61-42a5-93fd-b0098ca551d5",
   "metadata": {},
   "outputs": [
    {
     "data": {
      "text/plain": [
       "0"
      ]
     },
     "execution_count": 287,
     "metadata": {},
     "output_type": "execute_result"
    }
   ],
   "source": [
    "parents['selftext'].isnull().sum()"
   ]
  },
  {
   "cell_type": "code",
   "execution_count": 288,
   "id": "cd5791a1-be16-4ac8-ab79-e3d0c44d28c0",
   "metadata": {},
   "outputs": [
    {
     "data": {
      "text/plain": [
       "subreddit      0\n",
       "title          0\n",
       "selftext       0\n",
       "created_utc    0\n",
       "author         0\n",
       "dtype: int64"
      ]
     },
     "execution_count": 288,
     "metadata": {},
     "output_type": "execute_result"
    }
   ],
   "source": [
    "# Check for null values in parents:\n",
    "\n",
    "parents.isnull().sum()"
   ]
  },
  {
   "cell_type": "code",
   "execution_count": 289,
   "id": "8f03b601-effc-4618-95d2-0aded53d2424",
   "metadata": {},
   "outputs": [
    {
     "data": {
      "text/plain": [
       "110"
      ]
     },
     "execution_count": 289,
     "metadata": {},
     "output_type": "execute_result"
    }
   ],
   "source": [
    "# How many 'removed' posts do we have: \n",
    "\n",
    "toddlers[toddlers['selftext'] =='[removed]'].value_counts().sum()"
   ]
  },
  {
   "cell_type": "code",
   "execution_count": 290,
   "id": "a0652ae6-840f-45bc-b5a4-192c4b4cc1d4",
   "metadata": {},
   "outputs": [
    {
     "data": {
      "text/plain": [
       "582"
      ]
     },
     "execution_count": 290,
     "metadata": {},
     "output_type": "execute_result"
    }
   ],
   "source": [
    "parents[parents['selftext'] == '[removed]'].value_counts().sum()"
   ]
  },
  {
   "cell_type": "code",
   "execution_count": 291,
   "id": "930213ca-d298-4e97-a556-225929598e5b",
   "metadata": {},
   "outputs": [
    {
     "data": {
      "text/plain": [
       "0"
      ]
     },
     "execution_count": 291,
     "metadata": {},
     "output_type": "execute_result"
    }
   ],
   "source": [
    "parents[parents['author'] == '[deleted]'].value_counts().sum()"
   ]
  },
  {
   "cell_type": "code",
   "execution_count": 292,
   "id": "9c2cb92d-3a4a-40c2-9556-87c632776c19",
   "metadata": {},
   "outputs": [
    {
     "data": {
      "text/plain": [
       "2"
      ]
     },
     "execution_count": 292,
     "metadata": {},
     "output_type": "execute_result"
    }
   ],
   "source": [
    "toddlers[toddlers['selftext'] =='[deleted]'].value_counts().sum()"
   ]
  },
  {
   "cell_type": "code",
   "execution_count": 293,
   "id": "68357598-d0a5-42d2-8231-ed9ca6aa0cf5",
   "metadata": {},
   "outputs": [
    {
     "data": {
      "text/plain": [
       "2"
      ]
     },
     "execution_count": 293,
     "metadata": {},
     "output_type": "execute_result"
    }
   ],
   "source": [
    "toddlers[toddlers['author'] =='[deleted]'].value_counts().sum()"
   ]
  },
  {
   "cell_type": "code",
   "execution_count": 294,
   "id": "d29b0856-27f3-4528-bcda-aa5e3faaef10",
   "metadata": {},
   "outputs": [
    {
     "data": {
      "text/html": [
       "<div>\n",
       "<style scoped>\n",
       "    .dataframe tbody tr th:only-of-type {\n",
       "        vertical-align: middle;\n",
       "    }\n",
       "\n",
       "    .dataframe tbody tr th {\n",
       "        vertical-align: top;\n",
       "    }\n",
       "\n",
       "    .dataframe thead th {\n",
       "        text-align: right;\n",
       "    }\n",
       "</style>\n",
       "<table border=\"1\" class=\"dataframe\">\n",
       "  <thead>\n",
       "    <tr style=\"text-align: right;\">\n",
       "      <th></th>\n",
       "      <th>subreddit</th>\n",
       "      <th>title</th>\n",
       "      <th>selftext</th>\n",
       "      <th>created_utc</th>\n",
       "      <th>author</th>\n",
       "    </tr>\n",
       "  </thead>\n",
       "  <tbody>\n",
       "    <tr>\n",
       "      <th>819</th>\n",
       "      <td>toddlers</td>\n",
       "      <td>Help with sleep?</td>\n",
       "      <td>[deleted]</td>\n",
       "      <td>1663238752</td>\n",
       "      <td>[deleted]</td>\n",
       "    </tr>\n",
       "    <tr>\n",
       "      <th>1483</th>\n",
       "      <td>toddlers</td>\n",
       "      <td>It got better</td>\n",
       "      <td>[deleted]</td>\n",
       "      <td>1662254140</td>\n",
       "      <td>[deleted]</td>\n",
       "    </tr>\n",
       "  </tbody>\n",
       "</table>\n",
       "</div>"
      ],
      "text/plain": [
       "     subreddit             title   selftext  created_utc     author\n",
       "819   toddlers  Help with sleep?  [deleted]   1663238752  [deleted]\n",
       "1483  toddlers     It got better  [deleted]   1662254140  [deleted]"
      ]
     },
     "execution_count": 294,
     "metadata": {},
     "output_type": "execute_result"
    }
   ],
   "source": [
    "toddlers[toddlers['selftext'] =='[deleted]']"
   ]
  },
  {
   "cell_type": "code",
   "execution_count": 295,
   "id": "fa7e4dfb-95cc-4298-82fb-655b8d2cd628",
   "metadata": {},
   "outputs": [],
   "source": [
    "# Drop the rows in 'toddlers' and 'parents' that contain 'deleted' and 'removed' posts and authors:\n",
    "\n",
    "toddlers = toddlers[(toddlers['selftext']!='[removed]') & (toddlers['selftext']!='[deleted]')]\n",
    "parents = parents[parents['selftext'] != '[removed]']"
   ]
  },
  {
   "cell_type": "code",
   "execution_count": 296,
   "id": "4ea1c987-0226-4686-932a-94b6ceb24ec8",
   "metadata": {},
   "outputs": [
    {
     "name": "stdout",
     "output_type": "stream",
     "text": [
      "(2756, 5)\n",
      "(2408, 5)\n"
     ]
    }
   ],
   "source": [
    "# Check the shapes: \n",
    "print(toddlers.shape)\n",
    "print(parents.shape)"
   ]
  },
  {
   "cell_type": "code",
   "execution_count": 297,
   "id": "f067fe5b-14d3-4474-a9f8-1413bdf81b31",
   "metadata": {},
   "outputs": [
    {
     "name": "stdout",
     "output_type": "stream",
     "text": [
      "unque users in toddlers: 2112\n",
      "unque users in parents: 2212\n"
     ]
    }
   ],
   "source": [
    "# Number of unque users in toddlers and in parents:\n",
    "\n",
    "print('unque users in toddlers:', len(pd.unique(toddlers['author'])))\n",
    "print('unque users in parents:', len(pd.unique(parents['author'])))"
   ]
  },
  {
   "cell_type": "code",
   "execution_count": 321,
   "id": "75cf31c4-4475-4a01-9ac7-5c2c13a4b097",
   "metadata": {},
   "outputs": [
    {
     "data": {
      "image/png": "[encoded data removed]",
      "text/plain": [
       "<Figure size 504x504 with 1 Axes>"
      ]
     },
     "metadata": {
      "needs_background": "light"
     },
     "output_type": "display_data"
    }
   ],
   "source": [
    "# 10 top users in toddlers: \n",
    "\n",
    "toddlers['author'].value_counts()[:15].plot.barh(figsize=(7,7), ylabel = 'Username', title = \"Most popular Users on r/toddlers\")\n",
    "plt.xlabel(\"Amount of posts\")\n",
    "plt.savefig(\"../images/Most popular Users on toddlers.jpg\");"
   ]
  },
  {
   "cell_type": "code",
   "execution_count": 322,
   "id": "50d14371-e5ac-4519-89e9-c616867dc48e",
   "metadata": {},
   "outputs": [
    {
     "data": {
      "image/png": "[encoded data removed]",
      "text/plain": [
       "<Figure size 504x504 with 1 Axes>"
      ]
     },
     "metadata": {
      "needs_background": "light"
     },
     "output_type": "display_data"
    }
   ],
   "source": [
    "# 10 top users in parents: \n",
    "\n",
    "parents['author'].value_counts()[:15].plot.barh(figsize=(7,7), ylabel = 'Username', title = \"Most popular Users on r/Parents\")\n",
    "plt.xlabel(\"Amount of posts\")\n",
    "plt.savefig(\"../images/Most popular Users on parents.jpg\");"
   ]
  },
  {
   "cell_type": "code",
   "execution_count": 300,
   "id": "009b3fa6-0a2b-4c54-b1d0-f1770ae24b44",
   "metadata": {},
   "outputs": [
    {
     "data": {
      "text/plain": [
       "False    2604\n",
       "True      152\n",
       "Name: author, dtype: int64"
      ]
     },
     "execution_count": 300,
     "metadata": {},
     "output_type": "execute_result"
    }
   ],
   "source": [
    "# Let's see if there are people who posted in both reddits: \n",
    "\n",
    "toddlers.author.isin(parents.author).value_counts()"
   ]
  },
  {
   "cell_type": "code",
   "execution_count": 301,
   "id": "8b8e6b9d-89f6-4f1e-8f00-ed0888d8f81a",
   "metadata": {},
   "outputs": [
    {
     "data": {
      "text/html": [
       "<div>\n",
       "<style scoped>\n",
       "    .dataframe tbody tr th:only-of-type {\n",
       "        vertical-align: middle;\n",
       "    }\n",
       "\n",
       "    .dataframe tbody tr th {\n",
       "        vertical-align: top;\n",
       "    }\n",
       "\n",
       "    .dataframe thead th {\n",
       "        text-align: right;\n",
       "    }\n",
       "</style>\n",
       "<table border=\"1\" class=\"dataframe\">\n",
       "  <thead>\n",
       "    <tr style=\"text-align: right;\">\n",
       "      <th></th>\n",
       "      <th>author</th>\n",
       "    </tr>\n",
       "  </thead>\n",
       "  <tbody>\n",
       "    <tr>\n",
       "      <th>bsandy6</th>\n",
       "      <td>21</td>\n",
       "    </tr>\n",
       "    <tr>\n",
       "      <th>randomxfox</th>\n",
       "      <td>9</td>\n",
       "    </tr>\n",
       "    <tr>\n",
       "      <th>otterlyjoyful</th>\n",
       "      <td>7</td>\n",
       "    </tr>\n",
       "    <tr>\n",
       "      <th>CaseInternational172</th>\n",
       "      <td>6</td>\n",
       "    </tr>\n",
       "    <tr>\n",
       "      <th>FuccWhatUGottaSay</th>\n",
       "      <td>6</td>\n",
       "    </tr>\n",
       "  </tbody>\n",
       "</table>\n",
       "</div>"
      ],
      "text/plain": [
       "                      author\n",
       "bsandy6                   21\n",
       "randomxfox                 9\n",
       "otterlyjoyful              7\n",
       "CaseInternational172       6\n",
       "FuccWhatUGottaSay          6"
      ]
     },
     "execution_count": 301,
     "metadata": {},
     "output_type": "execute_result"
    }
   ],
   "source": [
    "# Let's see their names: \n",
    "\n",
    "df3 = pd.DataFrame(toddlers[toddlers.author.isin(parents.author)]['author'].value_counts())\n",
    "df3.head()"
   ]
  },
  {
   "cell_type": "code",
   "execution_count": 302,
   "id": "97798c01-c9d1-4bea-8260-f7dd825d4965",
   "metadata": {},
   "outputs": [
    {
     "data": {
      "image/png": "[encoded data removed]",
      "text/plain": [
       "<Figure size 720x504 with 1 Axes>"
      ]
     },
     "metadata": {
      "needs_background": "light"
     },
     "output_type": "display_data"
    }
   ],
   "source": [
    "# Plot them and see how many posts they've written\n",
    "\n",
    "plt.figure(figsize = (10, 7))\n",
    "toddlers[toddlers.author.isin(parents.author)]['author'].value_counts()[:15].plot.barh()\n",
    "plt.xlabel('Number of posts')\n",
    "plt.title(\"Top 15 users from 'toddlers' subreddit who also posted in 'parents' subreddit\", fontsize =15)\n",
    "plt.savefig(\"../images/users from toddlers in parents.jpg\");"
   ]
  },
  {
   "cell_type": "code",
   "execution_count": 303,
   "id": "5821b258-98b1-422b-9794-2e1f9d2e3795",
   "metadata": {},
   "outputs": [
    {
     "data": {
      "image/png": "[encoded data removed]",
      "text/plain": [
       "<Figure size 720x504 with 1 Axes>"
      ]
     },
     "metadata": {
      "needs_background": "light"
     },
     "output_type": "display_data"
    }
   ],
   "source": [
    "plt.figure(figsize = (10, 7))\n",
    "parents[parents.author.isin(toddlers.author)]['author'].value_counts()[:15].plot.barh()\n",
    "plt.xlabel('Number of posts')\n",
    "plt.title(\"Top 15 users from 'parents' subreddit who also posted in 'toddlers' subreddit\", fontsize =15)\n",
    "plt.savefig(\"../images/users from parents in toddlers.jpg\");"
   ]
  },
  {
   "cell_type": "code",
   "execution_count": 304,
   "id": "026e4a3f-3c03-4b6e-824b-ed51e047704c",
   "metadata": {},
   "outputs": [
    {
     "data": {
      "text/plain": [
       "momof2boys_87          4\n",
       "FuccWhatUGottaSay      4\n",
       "muffin_fiend           3\n",
       "0112358_               3\n",
       "throwmeawayplz19373    2\n",
       "                      ..\n",
       "EOSC47                 1\n",
       "sinsofasaint257        1\n",
       "countingsheep1234      1\n",
       "sp00ky_queen95         1\n",
       "realhuman8762          1\n",
       "Name: author, Length: 67, dtype: int64"
      ]
     },
     "execution_count": 304,
     "metadata": {},
     "output_type": "execute_result"
    }
   ],
   "source": [
    "# list them:\n",
    "parents[parents.author.isin(toddlers.author)]['author'].value_counts()"
   ]
  },
  {
   "cell_type": "code",
   "execution_count": 305,
   "id": "b8013d97-e27d-4bd2-9a30-4fbcfcba6c2f",
   "metadata": {},
   "outputs": [
    {
     "data": {
      "text/html": [
       "<div>\n",
       "<style scoped>\n",
       "    .dataframe tbody tr th:only-of-type {\n",
       "        vertical-align: middle;\n",
       "    }\n",
       "\n",
       "    .dataframe tbody tr th {\n",
       "        vertical-align: top;\n",
       "    }\n",
       "\n",
       "    .dataframe thead th {\n",
       "        text-align: right;\n",
       "    }\n",
       "</style>\n",
       "<table border=\"1\" class=\"dataframe\">\n",
       "  <thead>\n",
       "    <tr style=\"text-align: right;\">\n",
       "      <th></th>\n",
       "      <th>subreddit</th>\n",
       "      <th>title</th>\n",
       "      <th>selftext</th>\n",
       "      <th>created_utc</th>\n",
       "      <th>author</th>\n",
       "    </tr>\n",
       "  </thead>\n",
       "  <tbody>\n",
       "    <tr>\n",
       "      <th>21</th>\n",
       "      <td>toddlers</td>\n",
       "      <td>When do they outgrow throwing?</td>\n",
       "      <td>My son turned 2 in august and he’s always been...</td>\n",
       "      <td>1664485046</td>\n",
       "      <td>momof2boys_87</td>\n",
       "    </tr>\n",
       "    <tr>\n",
       "      <th>1168</th>\n",
       "      <td>toddlers</td>\n",
       "      <td>25 month old hardly sleeps anymore</td>\n",
       "      <td>He’s either up super early in the morning, or ...</td>\n",
       "      <td>1662718938</td>\n",
       "      <td>momof2boys_87</td>\n",
       "    </tr>\n",
       "    <tr>\n",
       "      <th>1595</th>\n",
       "      <td>toddlers</td>\n",
       "      <td>Do you cap your toddlers naps &amp;gt;2 hours?</td>\n",
       "      <td>My son just turned 2 and has been sleeping hor...</td>\n",
       "      <td>1662115268</td>\n",
       "      <td>momof2boys_87</td>\n",
       "    </tr>\n",
       "    <tr>\n",
       "      <th>1680</th>\n",
       "      <td>toddlers</td>\n",
       "      <td>24 month old doesn’t want to eat meals</td>\n",
       "      <td>My son was always such a good eater until the ...</td>\n",
       "      <td>1661986728</td>\n",
       "      <td>momof2boys_87</td>\n",
       "    </tr>\n",
       "    <tr>\n",
       "      <th>1706</th>\n",
       "      <td>toddlers</td>\n",
       "      <td>Fun activities/crafts for 24 month old</td>\n",
       "      <td>Does anyone have any fun activities or crafts ...</td>\n",
       "      <td>1661951361</td>\n",
       "      <td>momof2boys_87</td>\n",
       "    </tr>\n",
       "  </tbody>\n",
       "</table>\n",
       "</div>"
      ],
      "text/plain": [
       "     subreddit                                       title  \\\n",
       "21    toddlers              When do they outgrow throwing?   \n",
       "1168  toddlers          25 month old hardly sleeps anymore   \n",
       "1595  toddlers  Do you cap your toddlers naps &gt;2 hours?   \n",
       "1680  toddlers      24 month old doesn’t want to eat meals   \n",
       "1706  toddlers      Fun activities/crafts for 24 month old   \n",
       "\n",
       "                                               selftext  created_utc  \\\n",
       "21    My son turned 2 in august and he’s always been...   1664485046   \n",
       "1168  He’s either up super early in the morning, or ...   1662718938   \n",
       "1595  My son just turned 2 and has been sleeping hor...   1662115268   \n",
       "1680  My son was always such a good eater until the ...   1661986728   \n",
       "1706  Does anyone have any fun activities or crafts ...   1661951361   \n",
       "\n",
       "             author  \n",
       "21    momof2boys_87  \n",
       "1168  momof2boys_87  \n",
       "1595  momof2boys_87  \n",
       "1680  momof2boys_87  \n",
       "1706  momof2boys_87  "
      ]
     },
     "execution_count": 305,
     "metadata": {},
     "output_type": "execute_result"
    }
   ],
   "source": [
    "# Check the presence of most popular user from 'parents' in 'toddlers':\n",
    "toddlers[toddlers['author'] =='momof2boys_87']"
   ]
  },
  {
   "cell_type": "code",
   "execution_count": 306,
   "id": "505bab07-7df9-44df-bf86-26f468190768",
   "metadata": {},
   "outputs": [
    {
     "data": {
      "text/html": [
       "<div>\n",
       "<style scoped>\n",
       "    .dataframe tbody tr th:only-of-type {\n",
       "        vertical-align: middle;\n",
       "    }\n",
       "\n",
       "    .dataframe tbody tr th {\n",
       "        vertical-align: top;\n",
       "    }\n",
       "\n",
       "    .dataframe thead th {\n",
       "        text-align: right;\n",
       "    }\n",
       "</style>\n",
       "<table border=\"1\" class=\"dataframe\">\n",
       "  <thead>\n",
       "    <tr style=\"text-align: right;\">\n",
       "      <th></th>\n",
       "      <th>subreddit</th>\n",
       "      <th>title</th>\n",
       "      <th>selftext</th>\n",
       "      <th>created_utc</th>\n",
       "      <th>author</th>\n",
       "    </tr>\n",
       "  </thead>\n",
       "  <tbody>\n",
       "    <tr>\n",
       "      <th>96</th>\n",
       "      <td>Parenting</td>\n",
       "      <td>Miserable 2 year old</td>\n",
       "      <td>My son has never been an easy baby/toddler and...</td>\n",
       "      <td>1664458520</td>\n",
       "      <td>momof2boys_87</td>\n",
       "    </tr>\n",
       "    <tr>\n",
       "      <th>1335</th>\n",
       "      <td>Parenting</td>\n",
       "      <td>How to reconnect with spouse</td>\n",
       "      <td>Hi all.. looking for some advice on how to rec...</td>\n",
       "      <td>1663773149</td>\n",
       "      <td>momof2boys_87</td>\n",
       "    </tr>\n",
       "    <tr>\n",
       "      <th>2158</th>\n",
       "      <td>Parenting</td>\n",
       "      <td>25 month old has HFMD</td>\n",
       "      <td>Symptoms started Saturday, rash appeared Tuesd...</td>\n",
       "      <td>1663348729</td>\n",
       "      <td>momof2boys_87</td>\n",
       "    </tr>\n",
       "    <tr>\n",
       "      <th>2469</th>\n",
       "      <td>Parenting</td>\n",
       "      <td>Need advice on 11 year old son</td>\n",
       "      <td>I share 50/50 custody of my son. He has never ...</td>\n",
       "      <td>1663182910</td>\n",
       "      <td>momof2boys_87</td>\n",
       "    </tr>\n",
       "  </tbody>\n",
       "</table>\n",
       "</div>"
      ],
      "text/plain": [
       "      subreddit                           title  \\\n",
       "96    Parenting            Miserable 2 year old   \n",
       "1335  Parenting    How to reconnect with spouse   \n",
       "2158  Parenting           25 month old has HFMD   \n",
       "2469  Parenting  Need advice on 11 year old son   \n",
       "\n",
       "                                               selftext  created_utc  \\\n",
       "96    My son has never been an easy baby/toddler and...   1664458520   \n",
       "1335  Hi all.. looking for some advice on how to rec...   1663773149   \n",
       "2158  Symptoms started Saturday, rash appeared Tuesd...   1663348729   \n",
       "2469  I share 50/50 custody of my son. He has never ...   1663182910   \n",
       "\n",
       "             author  \n",
       "96    momof2boys_87  \n",
       "1335  momof2boys_87  \n",
       "2158  momof2boys_87  \n",
       "2469  momof2boys_87  "
      ]
     },
     "execution_count": 306,
     "metadata": {},
     "output_type": "execute_result"
    }
   ],
   "source": [
    "parents[parents['author'] == 'momof2boys_87']"
   ]
  },
  {
   "cell_type": "code",
   "execution_count": 307,
   "id": "ecce8078-afed-48fa-96cc-6561ad783fbf",
   "metadata": {},
   "outputs": [
    {
     "data": {
      "text/html": [
       "<div>\n",
       "<style scoped>\n",
       "    .dataframe tbody tr th:only-of-type {\n",
       "        vertical-align: middle;\n",
       "    }\n",
       "\n",
       "    .dataframe tbody tr th {\n",
       "        vertical-align: top;\n",
       "    }\n",
       "\n",
       "    .dataframe thead th {\n",
       "        text-align: right;\n",
       "    }\n",
       "</style>\n",
       "<table border=\"1\" class=\"dataframe\">\n",
       "  <thead>\n",
       "    <tr style=\"text-align: right;\">\n",
       "      <th></th>\n",
       "      <th>subreddit</th>\n",
       "      <th>title</th>\n",
       "      <th>selftext</th>\n",
       "      <th>created_utc</th>\n",
       "      <th>author</th>\n",
       "    </tr>\n",
       "  </thead>\n",
       "  <tbody>\n",
       "    <tr>\n",
       "      <th>2959</th>\n",
       "      <td>Parenting</td>\n",
       "      <td>Am I letting my son get addicted to music?</td>\n",
       "      <td>My son is 2 years old and he loves Encanto/Coc...</td>\n",
       "      <td>1662933560</td>\n",
       "      <td>bsandy6</td>\n",
       "    </tr>\n",
       "  </tbody>\n",
       "</table>\n",
       "</div>"
      ],
      "text/plain": [
       "      subreddit                                       title  \\\n",
       "2959  Parenting  Am I letting my son get addicted to music?   \n",
       "\n",
       "                                               selftext  created_utc   author  \n",
       "2959  My son is 2 years old and he loves Encanto/Coc...   1662933560  bsandy6  "
      ]
     },
     "execution_count": 307,
     "metadata": {},
     "output_type": "execute_result"
    }
   ],
   "source": [
    "# If most popular author of toddlers is in parents:\n",
    "\n",
    "parents[parents['author'] == 'bsandy6']"
   ]
  },
  {
   "cell_type": "code",
   "execution_count": 308,
   "id": "95040d18-36cd-422b-9449-6674ea0e4760",
   "metadata": {},
   "outputs": [],
   "source": [
    "# Create a colunm with the length of the post (taken from lab 5.02)\n",
    "\n",
    "toddlers['post_length'] = toddlers['selftext'].str.len()\n",
    "parents['post_length'] = parents['selftext'].str.len()"
   ]
  },
  {
   "cell_type": "code",
   "execution_count": 309,
   "id": "d22620ad-9024-4725-b376-bd44a81e2307",
   "metadata": {},
   "outputs": [],
   "source": [
    "# Create a colunm with the word count: \n",
    "\n",
    "toddlers['post_word_count'] = toddlers['selftext'].str.split().apply(len)\n",
    "parents['post_word_count'] = parents['selftext'].str.split().apply(len)"
   ]
  },
  {
   "cell_type": "code",
   "execution_count": 310,
   "id": "edb80cbc-2ef6-457a-be8f-ab69329e669f",
   "metadata": {},
   "outputs": [
    {
     "data": {
      "text/html": [
       "<div>\n",
       "<style scoped>\n",
       "    .dataframe tbody tr th:only-of-type {\n",
       "        vertical-align: middle;\n",
       "    }\n",
       "\n",
       "    .dataframe tbody tr th {\n",
       "        vertical-align: top;\n",
       "    }\n",
       "\n",
       "    .dataframe thead th {\n",
       "        text-align: right;\n",
       "    }\n",
       "</style>\n",
       "<table border=\"1\" class=\"dataframe\">\n",
       "  <thead>\n",
       "    <tr style=\"text-align: right;\">\n",
       "      <th></th>\n",
       "      <th>subreddit</th>\n",
       "      <th>title</th>\n",
       "      <th>selftext</th>\n",
       "      <th>created_utc</th>\n",
       "      <th>author</th>\n",
       "      <th>post_length</th>\n",
       "      <th>post_word_count</th>\n",
       "    </tr>\n",
       "  </thead>\n",
       "  <tbody>\n",
       "    <tr>\n",
       "      <th>0</th>\n",
       "      <td>toddlers</td>\n",
       "      <td>3-year-old with constant nightmares</td>\n",
       "      <td>I’m looking for advice with how to help my dau...</td>\n",
       "      <td>1664511751</td>\n",
       "      <td>lauraliegrace</td>\n",
       "      <td>1295</td>\n",
       "      <td>240</td>\n",
       "    </tr>\n",
       "    <tr>\n",
       "      <th>1</th>\n",
       "      <td>toddlers</td>\n",
       "      <td>Am I doing something wrong or is my son going ...</td>\n",
       "      <td>So my son (3m) has always been with me, I used...</td>\n",
       "      <td>1664507973</td>\n",
       "      <td>comethobnob</td>\n",
       "      <td>1940</td>\n",
       "      <td>395</td>\n",
       "    </tr>\n",
       "    <tr>\n",
       "      <th>2</th>\n",
       "      <td>toddlers</td>\n",
       "      <td>I feel like I'm falling my little daughter.</td>\n",
       "      <td>I'm a single mom of a 3 year old girl. I had a...</td>\n",
       "      <td>1664507151</td>\n",
       "      <td>Goback2dreaming</td>\n",
       "      <td>2778</td>\n",
       "      <td>529</td>\n",
       "    </tr>\n",
       "    <tr>\n",
       "      <th>3</th>\n",
       "      <td>toddlers</td>\n",
       "      <td>How did you organize sleep hours once your tod...</td>\n",
       "      <td>If your child is at Pre-K, how many hours of s...</td>\n",
       "      <td>1664506846</td>\n",
       "      <td>mamaleti</td>\n",
       "      <td>875</td>\n",
       "      <td>170</td>\n",
       "    </tr>\n",
       "    <tr>\n",
       "      <th>4</th>\n",
       "      <td>toddlers</td>\n",
       "      <td>2 yrs toddler’s repetitive movements. concerns ?</td>\n",
       "      <td>I think i am overthinking but not sure. Our 2 ...</td>\n",
       "      <td>1664506140</td>\n",
       "      <td>ptkhisti</td>\n",
       "      <td>917</td>\n",
       "      <td>173</td>\n",
       "    </tr>\n",
       "  </tbody>\n",
       "</table>\n",
       "</div>"
      ],
      "text/plain": [
       "  subreddit                                              title  \\\n",
       "0  toddlers                3-year-old with constant nightmares   \n",
       "1  toddlers  Am I doing something wrong or is my son going ...   \n",
       "2  toddlers        I feel like I'm falling my little daughter.   \n",
       "3  toddlers  How did you organize sleep hours once your tod...   \n",
       "4  toddlers   2 yrs toddler’s repetitive movements. concerns ?   \n",
       "\n",
       "                                            selftext  created_utc  \\\n",
       "0  I’m looking for advice with how to help my dau...   1664511751   \n",
       "1  So my son (3m) has always been with me, I used...   1664507973   \n",
       "2  I'm a single mom of a 3 year old girl. I had a...   1664507151   \n",
       "3  If your child is at Pre-K, how many hours of s...   1664506846   \n",
       "4  I think i am overthinking but not sure. Our 2 ...   1664506140   \n",
       "\n",
       "            author  post_length  post_word_count  \n",
       "0    lauraliegrace         1295              240  \n",
       "1      comethobnob         1940              395  \n",
       "2  Goback2dreaming         2778              529  \n",
       "3         mamaleti          875              170  \n",
       "4         ptkhisti          917              173  "
      ]
     },
     "execution_count": 310,
     "metadata": {},
     "output_type": "execute_result"
    }
   ],
   "source": [
    "toddlers.head()"
   ]
  },
  {
   "cell_type": "code",
   "execution_count": 311,
   "id": "04add857-a6b6-4e43-b47f-b58b547b57cd",
   "metadata": {},
   "outputs": [
    {
     "data": {
      "text/html": [
       "<div>\n",
       "<style scoped>\n",
       "    .dataframe tbody tr th:only-of-type {\n",
       "        vertical-align: middle;\n",
       "    }\n",
       "\n",
       "    .dataframe tbody tr th {\n",
       "        vertical-align: top;\n",
       "    }\n",
       "\n",
       "    .dataframe thead th {\n",
       "        text-align: right;\n",
       "    }\n",
       "</style>\n",
       "<table border=\"1\" class=\"dataframe\">\n",
       "  <thead>\n",
       "    <tr style=\"text-align: right;\">\n",
       "      <th></th>\n",
       "      <th>subreddit</th>\n",
       "      <th>title</th>\n",
       "      <th>selftext</th>\n",
       "      <th>created_utc</th>\n",
       "      <th>author</th>\n",
       "      <th>post_length</th>\n",
       "      <th>post_word_count</th>\n",
       "    </tr>\n",
       "  </thead>\n",
       "  <tbody>\n",
       "    <tr>\n",
       "      <th>0</th>\n",
       "      <td>Parenting</td>\n",
       "      <td>My 11 year old was a product of rape. I am not...</td>\n",
       "      <td>The rape was when I was 18 with a guy I had be...</td>\n",
       "      <td>1664513977</td>\n",
       "      <td>throwmeawayplz19373</td>\n",
       "      <td>4304</td>\n",
       "      <td>849</td>\n",
       "    </tr>\n",
       "    <tr>\n",
       "      <th>1</th>\n",
       "      <td>Parenting</td>\n",
       "      <td>My child’s teacher told us to take ivermectin</td>\n",
       "      <td>Please only respond if you’re pro science. I’m...</td>\n",
       "      <td>1664512319</td>\n",
       "      <td>HireAFriendLLC</td>\n",
       "      <td>979</td>\n",
       "      <td>183</td>\n",
       "    </tr>\n",
       "    <tr>\n",
       "      <th>2</th>\n",
       "      <td>Parenting</td>\n",
       "      <td>road trip with 15 month old</td>\n",
       "      <td>Hi parents,\\n\\nHaving to take a five hour driv...</td>\n",
       "      <td>1664512127</td>\n",
       "      <td>komosawa</td>\n",
       "      <td>249</td>\n",
       "      <td>49</td>\n",
       "    </tr>\n",
       "    <tr>\n",
       "      <th>3</th>\n",
       "      <td>Parenting</td>\n",
       "      <td>Leaving my baby with my parents overnight once...</td>\n",
       "      <td>My baby has a sleepover at my mother’s house a...</td>\n",
       "      <td>1664511448</td>\n",
       "      <td>sherbshib</td>\n",
       "      <td>400</td>\n",
       "      <td>86</td>\n",
       "    </tr>\n",
       "    <tr>\n",
       "      <th>5</th>\n",
       "      <td>Parenting</td>\n",
       "      <td>If you could give your past self any advise to...</td>\n",
       "      <td>I’m due with my second child mid November. My ...</td>\n",
       "      <td>1664509978</td>\n",
       "      <td>t_duddits</td>\n",
       "      <td>255</td>\n",
       "      <td>51</td>\n",
       "    </tr>\n",
       "  </tbody>\n",
       "</table>\n",
       "</div>"
      ],
      "text/plain": [
       "   subreddit                                              title  \\\n",
       "0  Parenting  My 11 year old was a product of rape. I am not...   \n",
       "1  Parenting      My child’s teacher told us to take ivermectin   \n",
       "2  Parenting                        road trip with 15 month old   \n",
       "3  Parenting  Leaving my baby with my parents overnight once...   \n",
       "5  Parenting  If you could give your past self any advise to...   \n",
       "\n",
       "                                            selftext  created_utc  \\\n",
       "0  The rape was when I was 18 with a guy I had be...   1664513977   \n",
       "1  Please only respond if you’re pro science. I’m...   1664512319   \n",
       "2  Hi parents,\\n\\nHaving to take a five hour driv...   1664512127   \n",
       "3  My baby has a sleepover at my mother’s house a...   1664511448   \n",
       "5  I’m due with my second child mid November. My ...   1664509978   \n",
       "\n",
       "                author  post_length  post_word_count  \n",
       "0  throwmeawayplz19373         4304              849  \n",
       "1       HireAFriendLLC          979              183  \n",
       "2             komosawa          249               49  \n",
       "3            sherbshib          400               86  \n",
       "5            t_duddits          255               51  "
      ]
     },
     "execution_count": 311,
     "metadata": {},
     "output_type": "execute_result"
    }
   ],
   "source": [
    "parents.head()"
   ]
  },
  {
   "cell_type": "code",
   "execution_count": 323,
   "id": "b83db1eb-f54b-4249-8893-f68aa0c2a708",
   "metadata": {},
   "outputs": [
    {
     "data": {
      "text/plain": [
       "<Figure size 720x720 with 0 Axes>"
      ]
     },
     "metadata": {},
     "output_type": "display_data"
    },
    {
     "data": {
      "image/png": "[encoded data removed]",
      "text/plain": [
       "<Figure size 360x360 with 1 Axes>"
      ]
     },
     "metadata": {
      "needs_background": "light"
     },
     "output_type": "display_data"
    }
   ],
   "source": [
    "# distributions of post lengths:\n",
    "plt.figure(figsize=(10,10))\n",
    "sns.displot(toddlers['post_word_count'], kind = 'hist', bins = 100);\n",
    "plt.title('Post lengths in toddlers');"
   ]
  },
  {
   "cell_type": "code",
   "execution_count": 324,
   "id": "03127de0-bb2e-4ebe-877c-c5d5ea2693b0",
   "metadata": {},
   "outputs": [
    {
     "data": {
      "text/html": [
       "<div>\n",
       "<style scoped>\n",
       "    .dataframe tbody tr th:only-of-type {\n",
       "        vertical-align: middle;\n",
       "    }\n",
       "\n",
       "    .dataframe tbody tr th {\n",
       "        vertical-align: top;\n",
       "    }\n",
       "\n",
       "    .dataframe thead th {\n",
       "        text-align: right;\n",
       "    }\n",
       "</style>\n",
       "<table border=\"1\" class=\"dataframe\">\n",
       "  <thead>\n",
       "    <tr style=\"text-align: right;\">\n",
       "      <th></th>\n",
       "      <th>subreddit</th>\n",
       "      <th>title</th>\n",
       "      <th>selftext</th>\n",
       "      <th>created_utc</th>\n",
       "      <th>author</th>\n",
       "      <th>post_length</th>\n",
       "      <th>post_word_count</th>\n",
       "    </tr>\n",
       "  </thead>\n",
       "  <tbody>\n",
       "    <tr>\n",
       "      <th>22</th>\n",
       "      <td>toddlers</td>\n",
       "      <td>My parents have no control over my kids</td>\n",
       "      <td>**Short version:** My parents (60F and 60M), w...</td>\n",
       "      <td>1664485025</td>\n",
       "      <td>Cathode335</td>\n",
       "      <td>7157</td>\n",
       "      <td>1396</td>\n",
       "    </tr>\n",
       "    <tr>\n",
       "      <th>428</th>\n",
       "      <td>toddlers</td>\n",
       "      <td>I've been working with toddlers for ten years,...</td>\n",
       "      <td>**Disclaimer:** This is a long read. \\n\\nI've ...</td>\n",
       "      <td>1663863289</td>\n",
       "      <td>PUSClFER</td>\n",
       "      <td>13702</td>\n",
       "      <td>2380</td>\n",
       "    </tr>\n",
       "  </tbody>\n",
       "</table>\n",
       "</div>"
      ],
      "text/plain": [
       "    subreddit                                              title  \\\n",
       "22   toddlers            My parents have no control over my kids   \n",
       "428  toddlers  I've been working with toddlers for ten years,...   \n",
       "\n",
       "                                              selftext  created_utc  \\\n",
       "22   **Short version:** My parents (60F and 60M), w...   1664485025   \n",
       "428  **Disclaimer:** This is a long read. \\n\\nI've ...   1663863289   \n",
       "\n",
       "         author  post_length  post_word_count  \n",
       "22   Cathode335         7157             1396  \n",
       "428    PUSClFER        13702             2380  "
      ]
     },
     "execution_count": 324,
     "metadata": {},
     "output_type": "execute_result"
    }
   ],
   "source": [
    "# Did someone write a post longer than 2000 words??? Who's got time for that? Who's going to read it? \n",
    "\n",
    "toddlers[toddlers['post_word_count']>1300]"
   ]
  },
  {
   "cell_type": "code",
   "execution_count": 325,
   "id": "dc2d593e-1c76-4af8-b8e1-cc9e4113033b",
   "metadata": {},
   "outputs": [
    {
     "data": {
      "image/png": "[encoded data removed]",
      "text/plain": [
       "<Figure size 360x360 with 1 Axes>"
      ]
     },
     "metadata": {
      "needs_background": "light"
     },
     "output_type": "display_data"
    }
   ],
   "source": [
    "sns.displot(parents['post_word_count'], kind = 'hist', bins = 100)\n",
    "plt.title('Post lengths in parents');"
   ]
  },
  {
   "cell_type": "code",
   "execution_count": 47,
   "id": "13961950-8a02-4d19-b0cb-9c41dc546933",
   "metadata": {},
   "outputs": [
    {
     "data": {
      "text/plain": [
       "100     17\n",
       "78      17\n",
       "76      17\n",
       "129     16\n",
       "37      16\n",
       "        ..\n",
       "555      1\n",
       "678      1\n",
       "1407     1\n",
       "1029     1\n",
       "380      1\n",
       "Name: post_word_count, Length: 532, dtype: int64"
      ]
     },
     "execution_count": 47,
     "metadata": {},
     "output_type": "execute_result"
    }
   ],
   "source": [
    "parents['post_word_count'].value_counts()"
   ]
  },
  {
   "cell_type": "code",
   "execution_count": 48,
   "id": "b98a1d60-d511-496d-bcdc-c5960600e53a",
   "metadata": {},
   "outputs": [
    {
     "data": {
      "text/html": [
       "<div>\n",
       "<style scoped>\n",
       "    .dataframe tbody tr th:only-of-type {\n",
       "        vertical-align: middle;\n",
       "    }\n",
       "\n",
       "    .dataframe tbody tr th {\n",
       "        vertical-align: top;\n",
       "    }\n",
       "\n",
       "    .dataframe thead th {\n",
       "        text-align: right;\n",
       "    }\n",
       "</style>\n",
       "<table border=\"1\" class=\"dataframe\">\n",
       "  <thead>\n",
       "    <tr style=\"text-align: right;\">\n",
       "      <th></th>\n",
       "      <th>subreddit</th>\n",
       "      <th>title</th>\n",
       "      <th>selftext</th>\n",
       "      <th>created_utc</th>\n",
       "      <th>author</th>\n",
       "      <th>post_length</th>\n",
       "      <th>post_word_count</th>\n",
       "    </tr>\n",
       "  </thead>\n",
       "  <tbody>\n",
       "    <tr>\n",
       "      <th>2587</th>\n",
       "      <td>Parenting</td>\n",
       "      <td>Walk, then sit to calm crying baby</td>\n",
       "      <td>Walk then sit: A scientific recipe that helps ...</td>\n",
       "      <td>1663118829</td>\n",
       "      <td>Antares284</td>\n",
       "      <td>164</td>\n",
       "      <td>12</td>\n",
       "    </tr>\n",
       "    <tr>\n",
       "      <th>2030</th>\n",
       "      <td>Parenting</td>\n",
       "      <td>Authorities failures of care against autistic ...</td>\n",
       "      <td>UK authorities failures of care around autisti...</td>\n",
       "      <td>1663419736</td>\n",
       "      <td>IndividualRow9880</td>\n",
       "      <td>150</td>\n",
       "      <td>20</td>\n",
       "    </tr>\n",
       "    <tr>\n",
       "      <th>1787</th>\n",
       "      <td>Parenting</td>\n",
       "      <td>Bottle feeding</td>\n",
       "      <td>Hello! Tell me your must have accessories for ...</td>\n",
       "      <td>1663534572</td>\n",
       "      <td>LogicalAssignment5</td>\n",
       "      <td>175</td>\n",
       "      <td>26</td>\n",
       "    </tr>\n",
       "    <tr>\n",
       "      <th>744</th>\n",
       "      <td>Parenting</td>\n",
       "      <td>Shared calendar app?</td>\n",
       "      <td>I need recommendations on a good calendar shar...</td>\n",
       "      <td>1664083461</td>\n",
       "      <td>BrittMac19</td>\n",
       "      <td>166</td>\n",
       "      <td>27</td>\n",
       "    </tr>\n",
       "    <tr>\n",
       "      <th>1320</th>\n",
       "      <td>Parenting</td>\n",
       "      <td>What 21st century things or services that help...</td>\n",
       "      <td>For example i can see several podcasts about s...</td>\n",
       "      <td>1663779355</td>\n",
       "      <td>winnethepoohhh</td>\n",
       "      <td>159</td>\n",
       "      <td>27</td>\n",
       "    </tr>\n",
       "  </tbody>\n",
       "</table>\n",
       "</div>"
      ],
      "text/plain": [
       "      subreddit                                              title  \\\n",
       "2587  Parenting                 Walk, then sit to calm crying baby   \n",
       "2030  Parenting  Authorities failures of care against autistic ...   \n",
       "1787  Parenting                                     Bottle feeding   \n",
       "744   Parenting                               Shared calendar app?   \n",
       "1320  Parenting  What 21st century things or services that help...   \n",
       "\n",
       "                                               selftext  created_utc  \\\n",
       "2587  Walk then sit: A scientific recipe that helps ...   1663118829   \n",
       "2030  UK authorities failures of care around autisti...   1663419736   \n",
       "1787  Hello! Tell me your must have accessories for ...   1663534572   \n",
       "744   I need recommendations on a good calendar shar...   1664083461   \n",
       "1320  For example i can see several podcasts about s...   1663779355   \n",
       "\n",
       "                  author  post_length  post_word_count  \n",
       "2587          Antares284          164               12  \n",
       "2030   IndividualRow9880          150               20  \n",
       "1787  LogicalAssignment5          175               26  \n",
       "744           BrittMac19          166               27  \n",
       "1320      winnethepoohhh          159               27  "
      ]
     },
     "execution_count": 48,
     "metadata": {},
     "output_type": "execute_result"
    }
   ],
   "source": [
    "# Shortest statuses (from: https://datascientyst.com/get-top-10-highest-lowest-values-pandas/):\n",
    "\n",
    "parents.nsmallest(5, ['post_word_count'])"
   ]
  },
  {
   "cell_type": "code",
   "execution_count": 49,
   "id": "9c526492-23cc-48e2-abf0-0371a848aff2",
   "metadata": {},
   "outputs": [
    {
     "data": {
      "text/html": [
       "<div>\n",
       "<style scoped>\n",
       "    .dataframe tbody tr th:only-of-type {\n",
       "        vertical-align: middle;\n",
       "    }\n",
       "\n",
       "    .dataframe tbody tr th {\n",
       "        vertical-align: top;\n",
       "    }\n",
       "\n",
       "    .dataframe thead th {\n",
       "        text-align: right;\n",
       "    }\n",
       "</style>\n",
       "<table border=\"1\" class=\"dataframe\">\n",
       "  <thead>\n",
       "    <tr style=\"text-align: right;\">\n",
       "      <th></th>\n",
       "      <th>subreddit</th>\n",
       "      <th>title</th>\n",
       "      <th>selftext</th>\n",
       "      <th>created_utc</th>\n",
       "      <th>author</th>\n",
       "      <th>post_length</th>\n",
       "      <th>post_word_count</th>\n",
       "    </tr>\n",
       "  </thead>\n",
       "  <tbody>\n",
       "    <tr>\n",
       "      <th>1276</th>\n",
       "      <td>toddlers</td>\n",
       "      <td>can anyone suggest a forehead thermometer or a...</td>\n",
       "      <td>TIA!</td>\n",
       "      <td>1662551577</td>\n",
       "      <td>omgmlc</td>\n",
       "      <td>4</td>\n",
       "      <td>1</td>\n",
       "    </tr>\n",
       "    <tr>\n",
       "      <th>2640</th>\n",
       "      <td>toddlers</td>\n",
       "      <td>This youtube and podcast fairytales show is gr...</td>\n",
       "      <td>[https://www.youtube.com/watch?v=Qmrp2j-B1mE](...</td>\n",
       "      <td>1660578454</td>\n",
       "      <td>Pod-Producer</td>\n",
       "      <td>90</td>\n",
       "      <td>1</td>\n",
       "    </tr>\n",
       "    <tr>\n",
       "      <th>2990</th>\n",
       "      <td>toddlers</td>\n",
       "      <td>Please help my daughter for 2nd chance to be h...</td>\n",
       "      <td>https://www.gofundme.com/f/life-saving-kidney...</td>\n",
       "      <td>1660039762</td>\n",
       "      <td>Htooneeded</td>\n",
       "      <td>171</td>\n",
       "      <td>1</td>\n",
       "    </tr>\n",
       "    <tr>\n",
       "      <th>269</th>\n",
       "      <td>toddlers</td>\n",
       "      <td>How many tantrums a day does your toddler thro...</td>\n",
       "      <td>Molars, man....</td>\n",
       "      <td>1664082346</td>\n",
       "      <td>Jon_Henderson_Music</td>\n",
       "      <td>15</td>\n",
       "      <td>2</td>\n",
       "    </tr>\n",
       "    <tr>\n",
       "      <th>486</th>\n",
       "      <td>toddlers</td>\n",
       "      <td>They sell outlet protector plugs, but what do ...</td>\n",
       "      <td>Help me</td>\n",
       "      <td>1663797547</td>\n",
       "      <td>urdumidjiot</td>\n",
       "      <td>7</td>\n",
       "      <td>2</td>\n",
       "    </tr>\n",
       "  </tbody>\n",
       "</table>\n",
       "</div>"
      ],
      "text/plain": [
       "     subreddit                                              title  \\\n",
       "1276  toddlers  can anyone suggest a forehead thermometer or a...   \n",
       "2640  toddlers  This youtube and podcast fairytales show is gr...   \n",
       "2990  toddlers  Please help my daughter for 2nd chance to be h...   \n",
       "269   toddlers  How many tantrums a day does your toddler thro...   \n",
       "486   toddlers  They sell outlet protector plugs, but what do ...   \n",
       "\n",
       "                                               selftext  created_utc  \\\n",
       "1276                                               TIA!   1662551577   \n",
       "2640  [https://www.youtube.com/watch?v=Qmrp2j-B1mE](...   1660578454   \n",
       "2990   https://www.gofundme.com/f/life-saving-kidney...   1660039762   \n",
       "269                                     Molars, man....   1664082346   \n",
       "486                                             Help me   1663797547   \n",
       "\n",
       "                   author  post_length  post_word_count  \n",
       "1276               omgmlc            4                1  \n",
       "2640         Pod-Producer           90                1  \n",
       "2990           Htooneeded          171                1  \n",
       "269   Jon_Henderson_Music           15                2  \n",
       "486           urdumidjiot            7                2  "
      ]
     },
     "execution_count": 49,
     "metadata": {},
     "output_type": "execute_result"
    }
   ],
   "source": [
    "toddlers.nsmallest(5, ['post_word_count'])"
   ]
  },
  {
   "cell_type": "code",
   "execution_count": 104,
   "id": "8b8ae807-ddf2-4868-8e76-3e576187dccb",
   "metadata": {},
   "outputs": [
    {
     "data": {
      "text/html": [
       "<div>\n",
       "<style scoped>\n",
       "    .dataframe tbody tr th:only-of-type {\n",
       "        vertical-align: middle;\n",
       "    }\n",
       "\n",
       "    .dataframe tbody tr th {\n",
       "        vertical-align: top;\n",
       "    }\n",
       "\n",
       "    .dataframe thead th {\n",
       "        text-align: right;\n",
       "    }\n",
       "</style>\n",
       "<table border=\"1\" class=\"dataframe\">\n",
       "  <thead>\n",
       "    <tr style=\"text-align: right;\">\n",
       "      <th></th>\n",
       "      <th>subreddit</th>\n",
       "      <th>title</th>\n",
       "      <th>selftext</th>\n",
       "      <th>created_utc</th>\n",
       "      <th>author</th>\n",
       "      <th>post_length</th>\n",
       "      <th>post_word_count</th>\n",
       "    </tr>\n",
       "  </thead>\n",
       "  <tbody>\n",
       "    <tr>\n",
       "      <th>0</th>\n",
       "      <td>toddlers</td>\n",
       "      <td>3-year-old with constant nightmares</td>\n",
       "      <td>I’m looking for advice with how to help my dau...</td>\n",
       "      <td>1664511751</td>\n",
       "      <td>lauraliegrace</td>\n",
       "      <td>1295</td>\n",
       "      <td>240</td>\n",
       "    </tr>\n",
       "    <tr>\n",
       "      <th>3</th>\n",
       "      <td>toddlers</td>\n",
       "      <td>How did you organize sleep hours once your tod...</td>\n",
       "      <td>If your child is at Pre-K, how many hours of s...</td>\n",
       "      <td>1664506846</td>\n",
       "      <td>mamaleti</td>\n",
       "      <td>875</td>\n",
       "      <td>170</td>\n",
       "    </tr>\n",
       "    <tr>\n",
       "      <th>4</th>\n",
       "      <td>toddlers</td>\n",
       "      <td>2 yrs toddler’s repetitive movements. concerns ?</td>\n",
       "      <td>I think i am overthinking but not sure. Our 2 ...</td>\n",
       "      <td>1664506140</td>\n",
       "      <td>ptkhisti</td>\n",
       "      <td>917</td>\n",
       "      <td>173</td>\n",
       "    </tr>\n",
       "    <tr>\n",
       "      <th>5</th>\n",
       "      <td>toddlers</td>\n",
       "      <td>Sometimes I lose my cool, how badly will this ...</td>\n",
       "      <td>My husband will sometimes snap too. It’s not o...</td>\n",
       "      <td>1664503385</td>\n",
       "      <td>ughidcwhatitis</td>\n",
       "      <td>1128</td>\n",
       "      <td>222</td>\n",
       "    </tr>\n",
       "    <tr>\n",
       "      <th>6</th>\n",
       "      <td>toddlers</td>\n",
       "      <td>\"momma can I have a bowl of popcorn, warm milk...</td>\n",
       "      <td>Yes. Yes yes yes my sweet child you can. Thank...</td>\n",
       "      <td>1664503064</td>\n",
       "      <td>eighteightfivesix</td>\n",
       "      <td>157</td>\n",
       "      <td>31</td>\n",
       "    </tr>\n",
       "  </tbody>\n",
       "</table>\n",
       "</div>"
      ],
      "text/plain": [
       "  subreddit                                              title  \\\n",
       "0  toddlers                3-year-old with constant nightmares   \n",
       "3  toddlers  How did you organize sleep hours once your tod...   \n",
       "4  toddlers   2 yrs toddler’s repetitive movements. concerns ?   \n",
       "5  toddlers  Sometimes I lose my cool, how badly will this ...   \n",
       "6  toddlers  \"momma can I have a bowl of popcorn, warm milk...   \n",
       "\n",
       "                                            selftext  created_utc  \\\n",
       "0  I’m looking for advice with how to help my dau...   1664511751   \n",
       "3  If your child is at Pre-K, how many hours of s...   1664506846   \n",
       "4  I think i am overthinking but not sure. Our 2 ...   1664506140   \n",
       "5  My husband will sometimes snap too. It’s not o...   1664503385   \n",
       "6  Yes. Yes yes yes my sweet child you can. Thank...   1664503064   \n",
       "\n",
       "              author  post_length  post_word_count  \n",
       "0      lauraliegrace         1295              240  \n",
       "3           mamaleti          875              170  \n",
       "4           ptkhisti          917              173  \n",
       "5     ughidcwhatitis         1128              222  \n",
       "6  eighteightfivesix          157               31  "
      ]
     },
     "execution_count": 104,
     "metadata": {},
     "output_type": "execute_result"
    }
   ],
   "source": [
    "# Lets deal with these outliers: \n",
    "\n",
    "toddlers = toddlers.loc[(toddlers['post_word_count']< 350)& (toddlers['post_word_count']>20)]\n",
    "toddlers.head()"
   ]
  },
  {
   "cell_type": "code",
   "execution_count": 106,
   "id": "1b5f459f-ac3d-483c-a798-e8dde27b2db0",
   "metadata": {},
   "outputs": [
    {
     "data": {
      "image/png": "[encoded data removed]",
      "text/plain": [
       "<Figure size 432x288 with 1 Axes>"
      ]
     },
     "metadata": {
      "needs_background": "light"
     },
     "output_type": "display_data"
    }
   ],
   "source": [
    "ax = sns.boxplot(x=toddlers['post_word_count'])"
   ]
  },
  {
   "cell_type": "code",
   "execution_count": 107,
   "id": "188f268e-223f-452a-bc81-0de9b0ddf1cd",
   "metadata": {},
   "outputs": [
    {
     "data": {
      "text/html": [
       "<div>\n",
       "<style scoped>\n",
       "    .dataframe tbody tr th:only-of-type {\n",
       "        vertical-align: middle;\n",
       "    }\n",
       "\n",
       "    .dataframe tbody tr th {\n",
       "        vertical-align: top;\n",
       "    }\n",
       "\n",
       "    .dataframe thead th {\n",
       "        text-align: right;\n",
       "    }\n",
       "</style>\n",
       "<table border=\"1\" class=\"dataframe\">\n",
       "  <thead>\n",
       "    <tr style=\"text-align: right;\">\n",
       "      <th></th>\n",
       "      <th>subreddit</th>\n",
       "      <th>title</th>\n",
       "      <th>selftext</th>\n",
       "      <th>created_utc</th>\n",
       "      <th>author</th>\n",
       "      <th>post_length</th>\n",
       "      <th>post_word_count</th>\n",
       "    </tr>\n",
       "  </thead>\n",
       "  <tbody>\n",
       "    <tr>\n",
       "      <th>400</th>\n",
       "      <td>toddlers</td>\n",
       "      <td>Taking a poll: about how many times a week doe...</td>\n",
       "      <td>Particularly curious 2 under…trying gauge what...</td>\n",
       "      <td>1663892470</td>\n",
       "      <td>cali_grown22</td>\n",
       "      <td>124</td>\n",
       "      <td>21</td>\n",
       "    </tr>\n",
       "    <tr>\n",
       "      <th>1459</th>\n",
       "      <td>toddlers</td>\n",
       "      <td>what is 2T/2A in toddler clothes?</td>\n",
       "      <td>My mother bought daughter nephew Halloween out...</td>\n",
       "      <td>1662296600</td>\n",
       "      <td>Lucid-Sun</td>\n",
       "      <td>114</td>\n",
       "      <td>21</td>\n",
       "    </tr>\n",
       "    <tr>\n",
       "      <th>1975</th>\n",
       "      <td>toddlers</td>\n",
       "      <td>Today I said I'm heartbroken as a joke to her ...</td>\n",
       "      <td>My 2 year old got really sad started touching ...</td>\n",
       "      <td>1661523415</td>\n",
       "      <td>maternityquestion</td>\n",
       "      <td>106</td>\n",
       "      <td>21</td>\n",
       "    </tr>\n",
       "    <tr>\n",
       "      <th>152</th>\n",
       "      <td>toddlers</td>\n",
       "      <td>What clean products do you use for your toddle...</td>\n",
       "      <td>My twins 14 months old. Looking recommendation...</td>\n",
       "      <td>1664283594</td>\n",
       "      <td>italianbeautyx0</td>\n",
       "      <td>138</td>\n",
       "      <td>22</td>\n",
       "    </tr>\n",
       "    <tr>\n",
       "      <th>548</th>\n",
       "      <td>toddlers</td>\n",
       "      <td>Toddler doesn’t listen</td>\n",
       "      <td>Kid almost 3. Doesn’t listen ANYTHING. Resists...</td>\n",
       "      <td>1663716714</td>\n",
       "      <td>jdrinks123</td>\n",
       "      <td>137</td>\n",
       "      <td>22</td>\n",
       "    </tr>\n",
       "  </tbody>\n",
       "</table>\n",
       "</div>"
      ],
      "text/plain": [
       "     subreddit                                              title  \\\n",
       "400   toddlers  Taking a poll: about how many times a week doe...   \n",
       "1459  toddlers                  what is 2T/2A in toddler clothes?   \n",
       "1975  toddlers  Today I said I'm heartbroken as a joke to her ...   \n",
       "152   toddlers  What clean products do you use for your toddle...   \n",
       "548   toddlers                             Toddler doesn’t listen   \n",
       "\n",
       "                                               selftext  created_utc  \\\n",
       "400   Particularly curious 2 under…trying gauge what...   1663892470   \n",
       "1459  My mother bought daughter nephew Halloween out...   1662296600   \n",
       "1975  My 2 year old got really sad started touching ...   1661523415   \n",
       "152   My twins 14 months old. Looking recommendation...   1664283594   \n",
       "548   Kid almost 3. Doesn’t listen ANYTHING. Resists...   1663716714   \n",
       "\n",
       "                 author  post_length  post_word_count  \n",
       "400        cali_grown22          124               21  \n",
       "1459          Lucid-Sun          114               21  \n",
       "1975  maternityquestion          106               21  \n",
       "152     italianbeautyx0          138               22  \n",
       "548          jdrinks123          137               22  "
      ]
     },
     "execution_count": 107,
     "metadata": {},
     "output_type": "execute_result"
    }
   ],
   "source": [
    "toddlers.nsmallest(5, ['post_word_count'])"
   ]
  },
  {
   "cell_type": "code",
   "execution_count": 108,
   "id": "832f18a1-debf-4499-9714-d8c2c865bca7",
   "metadata": {},
   "outputs": [
    {
     "data": {
      "image/png": "[encoded data removed]",
      "text/plain": [
       "<Figure size 360x360 with 1 Axes>"
      ]
     },
     "metadata": {
      "needs_background": "light"
     },
     "output_type": "display_data"
    }
   ],
   "source": [
    "sns.displot(toddlers['post_word_count'], kind = 'hist', bins = 100);"
   ]
  },
  {
   "cell_type": "code",
   "execution_count": 109,
   "id": "af1a2b37-2502-4302-bd8a-e28bd8b19660",
   "metadata": {},
   "outputs": [
    {
     "data": {
      "text/html": [
       "<div>\n",
       "<style scoped>\n",
       "    .dataframe tbody tr th:only-of-type {\n",
       "        vertical-align: middle;\n",
       "    }\n",
       "\n",
       "    .dataframe tbody tr th {\n",
       "        vertical-align: top;\n",
       "    }\n",
       "\n",
       "    .dataframe thead th {\n",
       "        text-align: right;\n",
       "    }\n",
       "</style>\n",
       "<table border=\"1\" class=\"dataframe\">\n",
       "  <thead>\n",
       "    <tr style=\"text-align: right;\">\n",
       "      <th></th>\n",
       "      <th>subreddit</th>\n",
       "      <th>title</th>\n",
       "      <th>selftext</th>\n",
       "      <th>created_utc</th>\n",
       "      <th>author</th>\n",
       "      <th>post_length</th>\n",
       "      <th>post_word_count</th>\n",
       "    </tr>\n",
       "  </thead>\n",
       "  <tbody>\n",
       "    <tr>\n",
       "      <th>1</th>\n",
       "      <td>Parenting</td>\n",
       "      <td>My child’s teacher told us to take ivermectin</td>\n",
       "      <td>Please only respond if you’re pro science. I’m...</td>\n",
       "      <td>1664512319</td>\n",
       "      <td>HireAFriendLLC</td>\n",
       "      <td>979</td>\n",
       "      <td>183</td>\n",
       "    </tr>\n",
       "    <tr>\n",
       "      <th>2</th>\n",
       "      <td>Parenting</td>\n",
       "      <td>road trip with 15 month old</td>\n",
       "      <td>Hi parents,\\n\\nHaving to take a five hour driv...</td>\n",
       "      <td>1664512127</td>\n",
       "      <td>komosawa</td>\n",
       "      <td>249</td>\n",
       "      <td>49</td>\n",
       "    </tr>\n",
       "    <tr>\n",
       "      <th>3</th>\n",
       "      <td>Parenting</td>\n",
       "      <td>Leaving my baby with my parents overnight once...</td>\n",
       "      <td>My baby has a sleepover at my mother’s house a...</td>\n",
       "      <td>1664511448</td>\n",
       "      <td>sherbshib</td>\n",
       "      <td>400</td>\n",
       "      <td>86</td>\n",
       "    </tr>\n",
       "    <tr>\n",
       "      <th>5</th>\n",
       "      <td>Parenting</td>\n",
       "      <td>If you could give your past self any advise to...</td>\n",
       "      <td>I’m due with my second child mid November. My ...</td>\n",
       "      <td>1664509978</td>\n",
       "      <td>t_duddits</td>\n",
       "      <td>255</td>\n",
       "      <td>51</td>\n",
       "    </tr>\n",
       "    <tr>\n",
       "      <th>6</th>\n",
       "      <td>Parenting</td>\n",
       "      <td>Is there something wrong with him?</td>\n",
       "      <td>Friends baby (16month)\\n\\nHe’s obsessed with c...</td>\n",
       "      <td>1664508114</td>\n",
       "      <td>basillavender</td>\n",
       "      <td>590</td>\n",
       "      <td>118</td>\n",
       "    </tr>\n",
       "  </tbody>\n",
       "</table>\n",
       "</div>"
      ],
      "text/plain": [
       "   subreddit                                              title  \\\n",
       "1  Parenting      My child’s teacher told us to take ivermectin   \n",
       "2  Parenting                        road trip with 15 month old   \n",
       "3  Parenting  Leaving my baby with my parents overnight once...   \n",
       "5  Parenting  If you could give your past self any advise to...   \n",
       "6  Parenting                 Is there something wrong with him?   \n",
       "\n",
       "                                            selftext  created_utc  \\\n",
       "1  Please only respond if you’re pro science. I’m...   1664512319   \n",
       "2  Hi parents,\\n\\nHaving to take a five hour driv...   1664512127   \n",
       "3  My baby has a sleepover at my mother’s house a...   1664511448   \n",
       "5  I’m due with my second child mid November. My ...   1664509978   \n",
       "6  Friends baby (16month)\\n\\nHe’s obsessed with c...   1664508114   \n",
       "\n",
       "           author  post_length  post_word_count  \n",
       "1  HireAFriendLLC          979              183  \n",
       "2        komosawa          249               49  \n",
       "3       sherbshib          400               86  \n",
       "5       t_duddits          255               51  \n",
       "6   basillavender          590              118  "
      ]
     },
     "execution_count": 109,
     "metadata": {},
     "output_type": "execute_result"
    }
   ],
   "source": [
    "# Now lets remove poutliers from \"parents\":\n",
    "\n",
    "parents = parents.loc[(parents['post_word_count']< 500)& (parents['post_word_count']>20)]\n",
    "parents.head()"
   ]
  },
  {
   "cell_type": "code",
   "execution_count": 110,
   "id": "90a48ece-659c-45c0-84e0-9fa91d935116",
   "metadata": {},
   "outputs": [
    {
     "data": {
      "image/png": "[encoded data removed]",
      "text/plain": [
       "<Figure size 432x288 with 1 Axes>"
      ]
     },
     "metadata": {
      "needs_background": "light"
     },
     "output_type": "display_data"
    }
   ],
   "source": [
    "ax = sns.boxplot(x=parents['post_word_count'])"
   ]
  },
  {
   "cell_type": "code",
   "execution_count": 111,
   "id": "4cd6eaac-1c45-4619-8ee3-b2ca0741525d",
   "metadata": {},
   "outputs": [
    {
     "data": {
      "text/plain": [
       "190"
      ]
     },
     "execution_count": 111,
     "metadata": {},
     "output_type": "execute_result"
    }
   ],
   "source": [
    "len(toddlers['author']) - len(parents['author'])"
   ]
  },
  {
   "cell_type": "code",
   "execution_count": 112,
   "id": "ba0f4f9a-184c-47d0-bff0-30ae9d13fe02",
   "metadata": {},
   "outputs": [
    {
     "data": {
      "text/html": [
       "<div>\n",
       "<style scoped>\n",
       "    .dataframe tbody tr th:only-of-type {\n",
       "        vertical-align: middle;\n",
       "    }\n",
       "\n",
       "    .dataframe tbody tr th {\n",
       "        vertical-align: top;\n",
       "    }\n",
       "\n",
       "    .dataframe thead th {\n",
       "        text-align: right;\n",
       "    }\n",
       "</style>\n",
       "<table border=\"1\" class=\"dataframe\">\n",
       "  <thead>\n",
       "    <tr style=\"text-align: right;\">\n",
       "      <th></th>\n",
       "      <th>subreddit</th>\n",
       "      <th>title</th>\n",
       "      <th>selftext</th>\n",
       "      <th>created_utc</th>\n",
       "      <th>author</th>\n",
       "      <th>post_length</th>\n",
       "      <th>post_word_count</th>\n",
       "    </tr>\n",
       "  </thead>\n",
       "  <tbody>\n",
       "    <tr>\n",
       "      <th>1787</th>\n",
       "      <td>Parenting</td>\n",
       "      <td>Bottle feeding</td>\n",
       "      <td>Hello! Tell me your must have accessories for ...</td>\n",
       "      <td>1663534572</td>\n",
       "      <td>LogicalAssignment5</td>\n",
       "      <td>175</td>\n",
       "      <td>26</td>\n",
       "    </tr>\n",
       "    <tr>\n",
       "      <th>744</th>\n",
       "      <td>Parenting</td>\n",
       "      <td>Shared calendar app?</td>\n",
       "      <td>I need recommendations on a good calendar shar...</td>\n",
       "      <td>1664083461</td>\n",
       "      <td>BrittMac19</td>\n",
       "      <td>166</td>\n",
       "      <td>27</td>\n",
       "    </tr>\n",
       "    <tr>\n",
       "      <th>1320</th>\n",
       "      <td>Parenting</td>\n",
       "      <td>What 21st century things or services that help...</td>\n",
       "      <td>For example i can see several podcasts about s...</td>\n",
       "      <td>1663779355</td>\n",
       "      <td>winnethepoohhh</td>\n",
       "      <td>159</td>\n",
       "      <td>27</td>\n",
       "    </tr>\n",
       "    <tr>\n",
       "      <th>408</th>\n",
       "      <td>Parenting</td>\n",
       "      <td>'Yoga'</td>\n",
       "      <td>That awkward moment you have to teach your tod...</td>\n",
       "      <td>1664257419</td>\n",
       "      <td>kawi_d</td>\n",
       "      <td>155</td>\n",
       "      <td>28</td>\n",
       "    </tr>\n",
       "    <tr>\n",
       "      <th>547</th>\n",
       "      <td>Parenting</td>\n",
       "      <td>What is the right age to introduce your child ...</td>\n",
       "      <td>I’ve seen so many parents, they keep their chi...</td>\n",
       "      <td>1664207752</td>\n",
       "      <td>Sense_desiguy</td>\n",
       "      <td>163</td>\n",
       "      <td>28</td>\n",
       "    </tr>\n",
       "  </tbody>\n",
       "</table>\n",
       "</div>"
      ],
      "text/plain": [
       "      subreddit                                              title  \\\n",
       "1787  Parenting                                     Bottle feeding   \n",
       "744   Parenting                               Shared calendar app?   \n",
       "1320  Parenting  What 21st century things or services that help...   \n",
       "408   Parenting                                             'Yoga'   \n",
       "547   Parenting  What is the right age to introduce your child ...   \n",
       "\n",
       "                                               selftext  created_utc  \\\n",
       "1787  Hello! Tell me your must have accessories for ...   1663534572   \n",
       "744   I need recommendations on a good calendar shar...   1664083461   \n",
       "1320  For example i can see several podcasts about s...   1663779355   \n",
       "408   That awkward moment you have to teach your tod...   1664257419   \n",
       "547   I’ve seen so many parents, they keep their chi...   1664207752   \n",
       "\n",
       "                  author  post_length  post_word_count  \n",
       "1787  LogicalAssignment5          175               26  \n",
       "744           BrittMac19          166               27  \n",
       "1320      winnethepoohhh          159               27  \n",
       "408               kawi_d          155               28  \n",
       "547        Sense_desiguy          163               28  "
      ]
     },
     "execution_count": 112,
     "metadata": {},
     "output_type": "execute_result"
    }
   ],
   "source": [
    "parents.nsmallest(5, ['post_word_count'])"
   ]
  },
  {
   "cell_type": "markdown",
   "id": "931e611f-2113-4ced-b7a1-85b7ea065f73",
   "metadata": {},
   "source": [
    "---"
   ]
  },
  {
   "cell_type": "code",
   "execution_count": 121,
   "id": "1281b001-c7d4-4a4d-bb34-013f04ff4bad",
   "metadata": {},
   "outputs": [
    {
     "data": {
      "text/html": [
       "<div>\n",
       "<style scoped>\n",
       "    .dataframe tbody tr th:only-of-type {\n",
       "        vertical-align: middle;\n",
       "    }\n",
       "\n",
       "    .dataframe tbody tr th {\n",
       "        vertical-align: top;\n",
       "    }\n",
       "\n",
       "    .dataframe thead th {\n",
       "        text-align: right;\n",
       "    }\n",
       "</style>\n",
       "<table border=\"1\" class=\"dataframe\">\n",
       "  <thead>\n",
       "    <tr style=\"text-align: right;\">\n",
       "      <th></th>\n",
       "      <th>subreddit</th>\n",
       "      <th>title</th>\n",
       "      <th>selftext</th>\n",
       "      <th>created_utc</th>\n",
       "      <th>author</th>\n",
       "      <th>post_length</th>\n",
       "      <th>post_word_count</th>\n",
       "    </tr>\n",
       "  </thead>\n",
       "  <tbody>\n",
       "    <tr>\n",
       "      <th>0</th>\n",
       "      <td>toddlers</td>\n",
       "      <td>3-year-old with constant nightmares</td>\n",
       "      <td>I’m looking advice help daughter. She never go...</td>\n",
       "      <td>1664511751</td>\n",
       "      <td>lauraliegrace</td>\n",
       "      <td>1295</td>\n",
       "      <td>240</td>\n",
       "    </tr>\n",
       "    <tr>\n",
       "      <th>3</th>\n",
       "      <td>toddlers</td>\n",
       "      <td>How did you organize sleep hours once your tod...</td>\n",
       "      <td>If child Pre-K, many hours sleep get per night...</td>\n",
       "      <td>1664506846</td>\n",
       "      <td>mamaleti</td>\n",
       "      <td>875</td>\n",
       "      <td>170</td>\n",
       "    </tr>\n",
       "    <tr>\n",
       "      <th>4</th>\n",
       "      <td>toddlers</td>\n",
       "      <td>2 yrs toddler’s repetitive movements. concerns ?</td>\n",
       "      <td>I think overthinking sure. Our 2 yrs 2 months ...</td>\n",
       "      <td>1664506140</td>\n",
       "      <td>ptkhisti</td>\n",
       "      <td>917</td>\n",
       "      <td>173</td>\n",
       "    </tr>\n",
       "    <tr>\n",
       "      <th>5</th>\n",
       "      <td>toddlers</td>\n",
       "      <td>Sometimes I lose my cool, how badly will this ...</td>\n",
       "      <td>My husband sometimes snap too. It’s often. Lik...</td>\n",
       "      <td>1664503385</td>\n",
       "      <td>ughidcwhatitis</td>\n",
       "      <td>1128</td>\n",
       "      <td>222</td>\n",
       "    </tr>\n",
       "    <tr>\n",
       "      <th>6</th>\n",
       "      <td>toddlers</td>\n",
       "      <td>\"momma can I have a bowl of popcorn, warm milk...</td>\n",
       "      <td>Yes. Yes yes yes sweet child can. Thankful won...</td>\n",
       "      <td>1664503064</td>\n",
       "      <td>eighteightfivesix</td>\n",
       "      <td>157</td>\n",
       "      <td>31</td>\n",
       "    </tr>\n",
       "  </tbody>\n",
       "</table>\n",
       "</div>"
      ],
      "text/plain": [
       "  subreddit                                              title  \\\n",
       "0  toddlers                3-year-old with constant nightmares   \n",
       "3  toddlers  How did you organize sleep hours once your tod...   \n",
       "4  toddlers   2 yrs toddler’s repetitive movements. concerns ?   \n",
       "5  toddlers  Sometimes I lose my cool, how badly will this ...   \n",
       "6  toddlers  \"momma can I have a bowl of popcorn, warm milk...   \n",
       "\n",
       "                                            selftext  created_utc  \\\n",
       "0  I’m looking advice help daughter. She never go...   1664511751   \n",
       "3  If child Pre-K, many hours sleep get per night...   1664506846   \n",
       "4  I think overthinking sure. Our 2 yrs 2 months ...   1664506140   \n",
       "5  My husband sometimes snap too. It’s often. Lik...   1664503385   \n",
       "6  Yes. Yes yes yes sweet child can. Thankful won...   1664503064   \n",
       "\n",
       "              author  post_length  post_word_count  \n",
       "0      lauraliegrace         1295              240  \n",
       "3           mamaleti          875              170  \n",
       "4           ptkhisti          917              173  \n",
       "5     ughidcwhatitis         1128              222  \n",
       "6  eighteightfivesix          157               31  "
      ]
     },
     "execution_count": 121,
     "metadata": {},
     "output_type": "execute_result"
    }
   ],
   "source": [
    "# Combine these two subreddits together:\n",
    "\n",
    "data = pd.concat([toddlers, parents], axis = 0, ignore_index=False)\n",
    "data.head()"
   ]
  },
  {
   "cell_type": "code",
   "execution_count": 122,
   "id": "0459294a-8a1f-4301-8eeb-42fe75dcef8d",
   "metadata": {},
   "outputs": [
    {
     "data": {
      "text/plain": [
       "(4734, 7)"
      ]
     },
     "execution_count": 122,
     "metadata": {},
     "output_type": "execute_result"
    }
   ],
   "source": [
    "data.shape"
   ]
  },
  {
   "cell_type": "code",
   "execution_count": 123,
   "id": "df6e645e-f042-43ab-ae56-9826a0b29d69",
   "metadata": {
    "scrolled": true,
    "tags": []
   },
   "outputs": [
    {
     "data": {
      "text/html": [
       "<div>\n",
       "<style scoped>\n",
       "    .dataframe tbody tr th:only-of-type {\n",
       "        vertical-align: middle;\n",
       "    }\n",
       "\n",
       "    .dataframe tbody tr th {\n",
       "        vertical-align: top;\n",
       "    }\n",
       "\n",
       "    .dataframe thead th {\n",
       "        text-align: right;\n",
       "    }\n",
       "</style>\n",
       "<table border=\"1\" class=\"dataframe\">\n",
       "  <thead>\n",
       "    <tr style=\"text-align: right;\">\n",
       "      <th></th>\n",
       "      <th>subreddit</th>\n",
       "      <th>title</th>\n",
       "      <th>selftext</th>\n",
       "      <th>created_utc</th>\n",
       "      <th>author</th>\n",
       "      <th>post_length</th>\n",
       "      <th>post_word_count</th>\n",
       "    </tr>\n",
       "  </thead>\n",
       "  <tbody>\n",
       "    <tr>\n",
       "      <th>138</th>\n",
       "      <td>toddlers</td>\n",
       "      <td>How are absence seizures diagnosed?</td>\n",
       "      <td>TW: seizures A months ago, toddler toilet eyes...</td>\n",
       "      <td>1664301830</td>\n",
       "      <td>TaTa0830</td>\n",
       "      <td>1428</td>\n",
       "      <td>270</td>\n",
       "    </tr>\n",
       "    <tr>\n",
       "      <th>139</th>\n",
       "      <td>toddlers</td>\n",
       "      <td>How are absence seizures diagnosed?</td>\n",
       "      <td>TW: seizures A months ago, toddler toilet eyes...</td>\n",
       "      <td>1664301711</td>\n",
       "      <td>TaTa0830</td>\n",
       "      <td>1428</td>\n",
       "      <td>270</td>\n",
       "    </tr>\n",
       "    <tr>\n",
       "      <th>288</th>\n",
       "      <td>toddlers</td>\n",
       "      <td>Sandbox fun?</td>\n",
       "      <td>Hi Parents Who Have Gone Before Me… I 2 little...</td>\n",
       "      <td>1664060764</td>\n",
       "      <td>SanFranPeach</td>\n",
       "      <td>439</td>\n",
       "      <td>88</td>\n",
       "    </tr>\n",
       "    <tr>\n",
       "      <th>289</th>\n",
       "      <td>toddlers</td>\n",
       "      <td>Sandbox fun?</td>\n",
       "      <td>Hi Parents Who Have Gone Before Me… I 2 little...</td>\n",
       "      <td>1664060705</td>\n",
       "      <td>SanFranPeach</td>\n",
       "      <td>439</td>\n",
       "      <td>88</td>\n",
       "    </tr>\n",
       "    <tr>\n",
       "      <th>290</th>\n",
       "      <td>toddlers</td>\n",
       "      <td>Sandbox?</td>\n",
       "      <td>Hi Parents Who Have Gone Before Me… I 2 little...</td>\n",
       "      <td>1664060448</td>\n",
       "      <td>PositiveJust</td>\n",
       "      <td>439</td>\n",
       "      <td>88</td>\n",
       "    </tr>\n",
       "    <tr>\n",
       "      <th>1531</th>\n",
       "      <td>toddlers</td>\n",
       "      <td>My baby not so happy to see me in the morning ...</td>\n",
       "      <td>I don’t know kind phase 18 mo going through, l...</td>\n",
       "      <td>1662186951</td>\n",
       "      <td>i-am-tk</td>\n",
       "      <td>949</td>\n",
       "      <td>182</td>\n",
       "    </tr>\n",
       "    <tr>\n",
       "      <th>1554</th>\n",
       "      <td>toddlers</td>\n",
       "      <td>Wish my baby would be happy to see me in the m...</td>\n",
       "      <td>I don’t know kind phase 18 mo going through, l...</td>\n",
       "      <td>1662156791</td>\n",
       "      <td>i-am-tk</td>\n",
       "      <td>949</td>\n",
       "      <td>182</td>\n",
       "    </tr>\n",
       "    <tr>\n",
       "      <th>2653</th>\n",
       "      <td>toddlers</td>\n",
       "      <td>\"mommy, what do you need to be happy?\"</td>\n",
       "      <td>My 2.5 year old daughter asked today witnessin...</td>\n",
       "      <td>1660561048</td>\n",
       "      <td>kathar7</td>\n",
       "      <td>552</td>\n",
       "      <td>106</td>\n",
       "    </tr>\n",
       "    <tr>\n",
       "      <th>2654</th>\n",
       "      <td>toddlers</td>\n",
       "      <td>\"Mommy, what do you need to be happy?\"</td>\n",
       "      <td>My 2.5 year old daughter asked today witnessin...</td>\n",
       "      <td>1660560586</td>\n",
       "      <td>kathar314</td>\n",
       "      <td>552</td>\n",
       "      <td>106</td>\n",
       "    </tr>\n",
       "    <tr>\n",
       "      <th>301</th>\n",
       "      <td>Parenting</td>\n",
       "      <td>Wednesday Megathread - Ask Parents Anything - ...</td>\n",
       "      <td>This weekly thread is a good landing place for...</td>\n",
       "      <td>1664323210</td>\n",
       "      <td>AutoModerator</td>\n",
       "      <td>394</td>\n",
       "      <td>55</td>\n",
       "    </tr>\n",
       "    <tr>\n",
       "      <th>314</th>\n",
       "      <td>Parenting</td>\n",
       "      <td>Issues with coparenting</td>\n",
       "      <td>My ex and I have 50/50 custody.  I work 12 hou...</td>\n",
       "      <td>1664318120</td>\n",
       "      <td>Ok_Tooth9945</td>\n",
       "      <td>1613</td>\n",
       "      <td>321</td>\n",
       "    </tr>\n",
       "    <tr>\n",
       "      <th>315</th>\n",
       "      <td>Parenting</td>\n",
       "      <td>Issues with coparenting</td>\n",
       "      <td>My ex and I have 50/50 custody.  I work 12 hou...</td>\n",
       "      <td>1664318110</td>\n",
       "      <td>Ok_Tooth9945</td>\n",
       "      <td>1613</td>\n",
       "      <td>321</td>\n",
       "    </tr>\n",
       "    <tr>\n",
       "      <th>792</th>\n",
       "      <td>Parenting</td>\n",
       "      <td>Sandbox fun?</td>\n",
       "      <td>Hi Parents Who Have Gone Before Me…\\n\\nI have ...</td>\n",
       "      <td>1664060639</td>\n",
       "      <td>SanFranPeach</td>\n",
       "      <td>439</td>\n",
       "      <td>88</td>\n",
       "    </tr>\n",
       "    <tr>\n",
       "      <th>793</th>\n",
       "      <td>Parenting</td>\n",
       "      <td>Sandbox</td>\n",
       "      <td>Hi Parents Who Have Gone Before Me…\\n\\nI have ...</td>\n",
       "      <td>1664060416</td>\n",
       "      <td>PositiveJust</td>\n",
       "      <td>439</td>\n",
       "      <td>88</td>\n",
       "    </tr>\n",
       "    <tr>\n",
       "      <th>1109</th>\n",
       "      <td>Parenting</td>\n",
       "      <td>Help! School acts like a prison</td>\n",
       "      <td>My daughter started at a new school this year,...</td>\n",
       "      <td>1663881328</td>\n",
       "      <td>VenoratheBarbarian</td>\n",
       "      <td>1925</td>\n",
       "      <td>357</td>\n",
       "    </tr>\n",
       "    <tr>\n",
       "      <th>1110</th>\n",
       "      <td>Parenting</td>\n",
       "      <td>Help! School acts like a prison</td>\n",
       "      <td>My daughter started at a new school this year,...</td>\n",
       "      <td>1663881328</td>\n",
       "      <td>VenoratheBarbarian</td>\n",
       "      <td>1925</td>\n",
       "      <td>357</td>\n",
       "    </tr>\n",
       "    <tr>\n",
       "      <th>1116</th>\n",
       "      <td>Parenting</td>\n",
       "      <td>confused when or if to have a second baby</td>\n",
       "      <td>I'm a 28f with a two year old , I'm of course ...</td>\n",
       "      <td>1663880186</td>\n",
       "      <td>WanderingGirl18</td>\n",
       "      <td>845</td>\n",
       "      <td>176</td>\n",
       "    </tr>\n",
       "    <tr>\n",
       "      <th>1117</th>\n",
       "      <td>Parenting</td>\n",
       "      <td>confused when or if to have a second baby</td>\n",
       "      <td>I'm a 28f with a two year old , I'm of course ...</td>\n",
       "      <td>1663880186</td>\n",
       "      <td>WanderingGirl18</td>\n",
       "      <td>845</td>\n",
       "      <td>176</td>\n",
       "    </tr>\n",
       "    <tr>\n",
       "      <th>1441</th>\n",
       "      <td>Parenting</td>\n",
       "      <td>Wednesday Megathread - Ask Parents Anything - ...</td>\n",
       "      <td>This weekly thread is a good landing place for...</td>\n",
       "      <td>1663718409</td>\n",
       "      <td>AutoModerator</td>\n",
       "      <td>394</td>\n",
       "      <td>55</td>\n",
       "    </tr>\n",
       "    <tr>\n",
       "      <th>2575</th>\n",
       "      <td>Parenting</td>\n",
       "      <td>HELP! 1 year old transitioning to milk</td>\n",
       "      <td>HELP! New mom here\\n\\nI breast fed (and supple...</td>\n",
       "      <td>1663123499</td>\n",
       "      <td>sashash12</td>\n",
       "      <td>1166</td>\n",
       "      <td>223</td>\n",
       "    </tr>\n",
       "    <tr>\n",
       "      <th>2576</th>\n",
       "      <td>Parenting</td>\n",
       "      <td>1 month old transitioning to milk</td>\n",
       "      <td>HELP! New mom here\\n\\nI breast fed (and supple...</td>\n",
       "      <td>1663123384</td>\n",
       "      <td>sashash12</td>\n",
       "      <td>1166</td>\n",
       "      <td>223</td>\n",
       "    </tr>\n",
       "    <tr>\n",
       "      <th>2603</th>\n",
       "      <td>Parenting</td>\n",
       "      <td>Wednesday Megathread - Ask Parents Anything - ...</td>\n",
       "      <td>This weekly thread is a good landing place for...</td>\n",
       "      <td>1663113612</td>\n",
       "      <td>AutoModerator</td>\n",
       "      <td>394</td>\n",
       "      <td>55</td>\n",
       "    </tr>\n",
       "  </tbody>\n",
       "</table>\n",
       "</div>"
      ],
      "text/plain": [
       "      subreddit                                              title  \\\n",
       "138    toddlers                How are absence seizures diagnosed?   \n",
       "139    toddlers                How are absence seizures diagnosed?   \n",
       "288    toddlers                                       Sandbox fun?   \n",
       "289    toddlers                                       Sandbox fun?   \n",
       "290    toddlers                                           Sandbox?   \n",
       "1531   toddlers  My baby not so happy to see me in the morning ...   \n",
       "1554   toddlers  Wish my baby would be happy to see me in the m...   \n",
       "2653   toddlers             \"mommy, what do you need to be happy?\"   \n",
       "2654   toddlers             \"Mommy, what do you need to be happy?\"   \n",
       "301   Parenting  Wednesday Megathread - Ask Parents Anything - ...   \n",
       "314   Parenting                            Issues with coparenting   \n",
       "315   Parenting                            Issues with coparenting   \n",
       "792   Parenting                                       Sandbox fun?   \n",
       "793   Parenting                                            Sandbox   \n",
       "1109  Parenting                    Help! School acts like a prison   \n",
       "1110  Parenting                    Help! School acts like a prison   \n",
       "1116  Parenting          confused when or if to have a second baby   \n",
       "1117  Parenting          confused when or if to have a second baby   \n",
       "1441  Parenting  Wednesday Megathread - Ask Parents Anything - ...   \n",
       "2575  Parenting             HELP! 1 year old transitioning to milk   \n",
       "2576  Parenting                  1 month old transitioning to milk   \n",
       "2603  Parenting  Wednesday Megathread - Ask Parents Anything - ...   \n",
       "\n",
       "                                               selftext  created_utc  \\\n",
       "138   TW: seizures A months ago, toddler toilet eyes...   1664301830   \n",
       "139   TW: seizures A months ago, toddler toilet eyes...   1664301711   \n",
       "288   Hi Parents Who Have Gone Before Me… I 2 little...   1664060764   \n",
       "289   Hi Parents Who Have Gone Before Me… I 2 little...   1664060705   \n",
       "290   Hi Parents Who Have Gone Before Me… I 2 little...   1664060448   \n",
       "1531  I don’t know kind phase 18 mo going through, l...   1662186951   \n",
       "1554  I don’t know kind phase 18 mo going through, l...   1662156791   \n",
       "2653  My 2.5 year old daughter asked today witnessin...   1660561048   \n",
       "2654  My 2.5 year old daughter asked today witnessin...   1660560586   \n",
       "301   This weekly thread is a good landing place for...   1664323210   \n",
       "314   My ex and I have 50/50 custody.  I work 12 hou...   1664318120   \n",
       "315   My ex and I have 50/50 custody.  I work 12 hou...   1664318110   \n",
       "792   Hi Parents Who Have Gone Before Me…\\n\\nI have ...   1664060639   \n",
       "793   Hi Parents Who Have Gone Before Me…\\n\\nI have ...   1664060416   \n",
       "1109  My daughter started at a new school this year,...   1663881328   \n",
       "1110  My daughter started at a new school this year,...   1663881328   \n",
       "1116  I'm a 28f with a two year old , I'm of course ...   1663880186   \n",
       "1117  I'm a 28f with a two year old , I'm of course ...   1663880186   \n",
       "1441  This weekly thread is a good landing place for...   1663718409   \n",
       "2575  HELP! New mom here\\n\\nI breast fed (and supple...   1663123499   \n",
       "2576  HELP! New mom here\\n\\nI breast fed (and supple...   1663123384   \n",
       "2603  This weekly thread is a good landing place for...   1663113612   \n",
       "\n",
       "                  author  post_length  post_word_count  \n",
       "138             TaTa0830         1428              270  \n",
       "139             TaTa0830         1428              270  \n",
       "288         SanFranPeach          439               88  \n",
       "289         SanFranPeach          439               88  \n",
       "290         PositiveJust          439               88  \n",
       "1531             i-am-tk          949              182  \n",
       "1554             i-am-tk          949              182  \n",
       "2653             kathar7          552              106  \n",
       "2654           kathar314          552              106  \n",
       "301        AutoModerator          394               55  \n",
       "314         Ok_Tooth9945         1613              321  \n",
       "315         Ok_Tooth9945         1613              321  \n",
       "792         SanFranPeach          439               88  \n",
       "793         PositiveJust          439               88  \n",
       "1109  VenoratheBarbarian         1925              357  \n",
       "1110  VenoratheBarbarian         1925              357  \n",
       "1116     WanderingGirl18          845              176  \n",
       "1117     WanderingGirl18          845              176  \n",
       "1441       AutoModerator          394               55  \n",
       "2575           sashash12         1166              223  \n",
       "2576           sashash12         1166              223  \n",
       "2603       AutoModerator          394               55  "
      ]
     },
     "execution_count": 123,
     "metadata": {},
     "output_type": "execute_result"
    }
   ],
   "source": [
    "# See if there are duplicate posts that came from toddlers and parents: \n",
    "\n",
    "duplicate = data[data.duplicated(['selftext'], keep=False)]\n",
    "duplicate"
   ]
  },
  {
   "cell_type": "code",
   "execution_count": 118,
   "id": "4acc0339-69eb-40ac-bf00-d9af4a95de50",
   "metadata": {},
   "outputs": [],
   "source": [
    "# drop those duplicated posts (keep just one):\n",
    "\n",
    "data = data.drop_duplicates('selftext', keep='last')"
   ]
  },
  {
   "cell_type": "markdown",
   "id": "3ba2f752-006d-48e7-a4ec-2388f80e4a81",
   "metadata": {},
   "source": [
    "---"
   ]
  },
  {
   "cell_type": "code",
   "execution_count": 137,
   "id": "a2b1b128-3999-457b-adac-115752263878",
   "metadata": {},
   "outputs": [],
   "source": [
    "# I'd like to do some exploratory analysis on subreddit posts separately. \n",
    "# So I'm going to clean the text from the slang words (Graham Waters's idea): \n",
    "slang_dict = {\n",
    "    ' tho ': ' though ',\n",
    "    'thru': ' through ',\n",
    "    'thx': ' thanks ',\n",
    "    ' ppl ': ' people ',\n",
    "    ' tmi ': ' too much information ',\n",
    "    ' idk ': ' i do not know ',\n",
    "    ' idc ': ' i do not care ',\n",
    "    ' id ': ' i would ',\n",
    "    ' imo ': ' in my opinion ',\n",
    "    ' imho ': ' in my humble opinion ',\n",
    "    ' tbh ': ' to be honest ',\n",
    "    ' tbf ': ' to be fair ',\n",
    "    ' tb ': ' text back ',\n",
    "    ' bc ': ' because ',\n",
    "    ' b/c ': ' because ',\n",
    "    ' cuz ': ' because '\n",
    "}\n",
    "\n",
    "# replace all slang in the selftext column\n",
    "for key, value in slang_dict.items():\n",
    "    data['selftext'] = data['selftext'].apply(lambda x: re.sub(key, value, x))"
   ]
  },
  {
   "cell_type": "code",
   "execution_count": 138,
   "id": "6ece29b2-6877-49bc-8846-8710db5f420b",
   "metadata": {},
   "outputs": [],
   "source": [
    "# Fuction to remove emoji (taken from: https://www.kaggle.com/code/alankritamishra/covid-19-tweet-sentiment-analysis/notebook): \n",
    "def remove_emoji(text):\n",
    "    emoji_pattern = re.compile(\"[\"\n",
    "                           u\"\\U0001F600-\\U0001F64F\"  # emoticons\n",
    "                           u\"\\U0001F300-\\U0001F5FF\"  # symbols & pictographs\n",
    "                           u\"\\U0001F680-\\U0001F6FF\"  # transport & map symbols\n",
    "                           u\"\\U0001F1E0-\\U0001F1FF\"  # flags (iOS)\n",
    "                           u\"\\U00002702-\\U000027B0\"\n",
    "                           u\"\\U000024C2-\\U0001F251\"\n",
    "                           \"]+\", flags=re.UNICODE)\n",
    "    return emoji_pattern.sub(r'', text)"
   ]
  },
  {
   "cell_type": "code",
   "execution_count": 139,
   "id": "4748e225-81a3-4bea-b185-af979b54af3b",
   "metadata": {},
   "outputs": [],
   "source": [
    "data['selftext'] = data['selftext'].apply(remove_emoji)"
   ]
  },
  {
   "cell_type": "code",
   "execution_count": 140,
   "id": "4776af3c-72b1-4a66-9641-42ddaee479a3",
   "metadata": {},
   "outputs": [],
   "source": [
    "# Function to clean text (https://www.kaggle.com/code/alankritamishra/covid-19-tweet-sentiment-analysis/notebook):\n",
    "\n",
    "def clean_text(text):\n",
    "    text = text.lower() # make text lower case\n",
    "    text = re.sub('\\[.*?\\]', '', text) # remove text in square brackets\n",
    "    text = re.sub('https?://\\S+|www\\.\\S+', '', text) # remove links\n",
    "    #text = re.sub('[%s]' % re.escape(string.punctuation), '', text) # remove punctuation\n",
    "    text = re.sub('[^\\w\\s]','', text) # remove punctuation\n",
    "    text = re.sub('\\n', ' ', text) # remove new line\n",
    "    text = re.sub('\\w*\\d\\w*', '', text) #remove words with digits and digits\n",
    "    text = re.sub(' +', ' ', text) #remove exptra spaces\n",
    "    text = re.sub('\\s*\\\\b([a-z]|[a-z]{2})\\\\b', '', text) # remove single letters\n",
    "    return text"
   ]
  },
  {
   "cell_type": "code",
   "execution_count": 210,
   "id": "62182d1e-1a9a-4a24-ab40-36bd0fd5b29b",
   "metadata": {},
   "outputs": [],
   "source": [
    "toddlers['selftext'] = toddlers['selftext'].apply(clean_text)\n",
    "parents['selftext'] = parents['selftext'].apply(clean_text)\n",
    "data['selftext'] = data['selftext'].apply(clean_text)"
   ]
  },
  {
   "cell_type": "code",
   "execution_count": 211,
   "id": "31ac18cf-85f9-40fb-be07-d24b87b0273a",
   "metadata": {},
   "outputs": [
    {
     "data": {
      "text/plain": [
       "list"
      ]
     },
     "execution_count": 211,
     "metadata": {},
     "output_type": "execute_result"
    }
   ],
   "source": [
    "# Since I'd like to do some exploratory analysis on the words, I'd remove the stop words now:\n",
    "# define the stop words:\n",
    "stop_words = stopwords.words('english')\n",
    "type(stop_words)"
   ]
  },
  {
   "cell_type": "code",
   "execution_count": 235,
   "id": "277b53ea-48cd-4d22-b127-085283f4f488",
   "metadata": {},
   "outputs": [],
   "source": [
    "# Create a new list of words that are often in the toddlers and parents subbredits and add them to a list of stop_words:\n",
    "\n",
    "newStopWords = ['child', 'children', 'toddler','toddlers', 'parents', 'parent', 'ppl', 'yrs', 'years',' u ', ' ur ',' yr ',' r ',' b ', 'son','daughter', 'month','months','old','year', \n",
    "                'school', 'daycare', 'kid', 'kids','dont', 'doesnt', 'ive','hes', 'shes', 'baby', 'wouldnt', 'would', 'cant', 'like', 'time', 'get', 'one', 'know', 'day', 'want', 'really', \n",
    "               'also', 'even', 'feel', 'boy','girl', 'weve', 'well', 'potty']\n",
    "stop_words.extend(newStopWords)"
   ]
  },
  {
   "cell_type": "code",
   "execution_count": 241,
   "id": "a7a5e00a-a333-42ee-9cf2-a0adf03e3482",
   "metadata": {},
   "outputs": [],
   "source": [
    "# Remove the stopwords from my dataframes (https://stackoverflow.com/questions/29523254/python-remove-stop-words-from-pandas-dataframe):\n",
    "\n",
    "data['selftext'] = data['selftext'].apply(lambda x: ' '.join([word for word in x.split() if word not in (stop_words)]))\n",
    "toddlers['selftext'] = toddlers['selftext'].apply(lambda x: ' '.join([word for word in x.split() if word not in (stop_words)]))\n",
    "parents['selftext'] = parents['selftext'].apply(lambda x: ' '.join([word for word in x.split() if word not in (stop_words)]))"
   ]
  },
  {
   "cell_type": "code",
   "execution_count": 237,
   "id": "c5c443a7-6c3c-467e-ad6e-1cfc43d4a779",
   "metadata": {},
   "outputs": [
    {
     "name": "stdout",
     "output_type": "stream",
     "text": [
      "         Word  Frequency\n",
      "0       sleep        597\n",
      "1      anyone        548\n",
      "2         bed        530\n",
      "3       going        522\n",
      "4        back        510\n",
      "5      little        506\n",
      "6       night        492\n",
      "7        help        474\n",
      "8        much        474\n",
      "9        home        462\n",
      "10      still        460\n",
      "11     around        452\n",
      "12  something        431\n",
      "13       week        410\n",
      "14    started        408\n",
      "15     things        399\n",
      "16     always        393\n",
      "17    getting        391\n",
      "18       days        386\n",
      "19      think        379\n",
      "20      every        372\n",
      "21        put        364\n",
      "22      since        362\n",
      "23        try        361\n",
      "24      tried        360\n",
      "25       good        358\n",
      "26       take        358\n",
      "27        say        357\n",
      "28        got        356\n",
      "29       play        356\n"
     ]
    }
   ],
   "source": [
    "# Print out and plot most common words in 'toddlers':\n",
    "\n",
    "p = Counter(\" \".join(toddlers['selftext']).split()).most_common(30)\n",
    "rslt = pd.DataFrame(p, columns=['Word', 'Frequency'])\n",
    "print(rslt)"
   ]
  },
  {
   "cell_type": "code",
   "execution_count": 315,
   "id": "92e07eca-6d99-4083-b147-9fcb32621acf",
   "metadata": {},
   "outputs": [
    {
     "data": {
      "image/png": "[encoded data removed]",
      "text/plain": [
       "<Figure size 1080x720 with 1 Axes>"
      ]
     },
     "metadata": {
      "needs_background": "light"
     },
     "output_type": "display_data"
    }
   ],
   "source": [
    "plt.figure(figsize = (15, 10))\n",
    "plt.barh(rslt['Word'], rslt['Frequency'])\n",
    "plt.xlabel('frequency')\n",
    "plt.title(\"Top 30 words from 'toddlers'\", fontsize =15)\n",
    "plt.savefig(\"../images/top words in toddlers.jpg\");"
   ]
  },
  {
   "cell_type": "code",
   "execution_count": 239,
   "id": "659ffa60-6f24-4bbc-86b1-6cc0374418f1",
   "metadata": {},
   "outputs": [
    {
     "name": "stdout",
     "output_type": "stream",
     "text": [
      "         Word  Frequency\n",
      "0        home        691\n",
      "1       going        679\n",
      "2      things        633\n",
      "3        back        624\n",
      "4        said        620\n",
      "5        help        592\n",
      "6        much        572\n",
      "7   something        565\n",
      "8       think        555\n",
      "9        work        545\n",
      "10      first        543\n",
      "11      sleep        531\n",
      "12      still        530\n",
      "13     always        525\n",
      "14      never        513\n",
      "15        got        510\n",
      "16        mom        506\n",
      "17       need        484\n",
      "18        way        478\n",
      "19      every        476\n",
      "20    husband        475\n",
      "21     little        475\n",
      "22       make        463\n",
      "23       told        460\n",
      "24      since        459\n",
      "25     around        457\n",
      "26       good        451\n",
      "27       take        443\n",
      "28     advice        438\n",
      "29      night        438\n"
     ]
    }
   ],
   "source": [
    "# Print out and plot most common words in 'parents':\n",
    "\n",
    "par = Counter(\" \".join(parents['selftext']).split()).most_common(30)\n",
    "rslt_p = pd.DataFrame(par, columns=['Word', 'Frequency'])\n",
    "print(rslt_p)"
   ]
  },
  {
   "cell_type": "code",
   "execution_count": 316,
   "id": "9beb63d1-2e29-414e-98cf-6bf5c750dabb",
   "metadata": {},
   "outputs": [
    {
     "data": {
      "image/png": "[encoded data removed]",
      "text/plain": [
       "<Figure size 1080x720 with 1 Axes>"
      ]
     },
     "metadata": {
      "needs_background": "light"
     },
     "output_type": "display_data"
    }
   ],
   "source": [
    "plt.figure(figsize = (15, 10))\n",
    "plt.barh(rslt_p['Word'], rslt_p['Frequency'])\n",
    "plt.xlabel('frequency')\n",
    "plt.title(\"Top 30 words from 'parents'\", fontsize =15)\n",
    "plt.savefig(\"../images/top words in parents.jpg\");"
   ]
  },
  {
   "cell_type": "markdown",
   "id": "e9c8b317-ef83-4e4a-aa51-c0af07b22874",
   "metadata": {},
   "source": [
    "---"
   ]
  },
  {
   "cell_type": "code",
   "execution_count": 224,
   "id": "ed13da27-e5a2-44df-aa3b-0fd99ba236ac",
   "metadata": {},
   "outputs": [],
   "source": [
    "data['subreddit'] = data['subreddit'].map({'toddlers': 1, 'Parenting': 0})"
   ]
  },
  {
   "cell_type": "code",
   "execution_count": 225,
   "id": "919d4da6-28d2-4f8c-a4f6-83e67396fde9",
   "metadata": {},
   "outputs": [],
   "source": [
    "# save the new 'toddlers' and 'parents' data (clean) as well as the merged dataframe:\n",
    "\n",
    "data.to_csv('../data/toddlers_and_parents.csv', index = False)\n",
    "toddlers.to_csv('../data/toddlers_clean.csv', index = False)\n",
    "parents.to_csv('../data/parents_clean.csv', index = False)"
   ]
  },
  {
   "cell_type": "markdown",
   "id": "d511b728-a480-4f72-a2fd-42e06492bd54",
   "metadata": {},
   "source": [
    "---"
   ]
  }
 ],
 "metadata": {
  "kernelspec": {
   "display_name": "Python 3 (ipykernel)",
   "language": "python",
   "name": "python3"
  },
  "language_info": {
   "codemirror_mode": {
    "name": "ipython",
    "version": 3
   },
   "file_extension": ".py",
   "mimetype": "text/x-python",
   "name": "python",
   "nbconvert_exporter": "python",
   "pygments_lexer": "ipython3",
   "version": "3.9.13"
  }
 },
 "nbformat": 4,
 "nbformat_minor": 5
}
